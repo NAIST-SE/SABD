{
 "cells": [
  {
   "cell_type": "code",
   "execution_count": 15,
   "metadata": {},
   "outputs": [],
   "source": [
    "import pandas as pd\n",
    "import os\n",
    "\n",
    "# Setup dataset\n",
    "root = os.path.dirname(os.getcwd())\n",
    "df = pd.read_csv(root + '/Dataset/500_SATD_Comments.csv')\n",
    "df = df[['Location', 'Reason', 'Purpose']]\n",
    "reason = []\n",
    "for r in df.Reason:\n",
    "    category = ''\n",
    "    if r in ['External library limitation', 'External tool limitation', 'Build tool limitation']: category = 'Limitation'\n",
    "    elif r in ['Missing dependency', 'Stale dependency', 'Problematic dependency']: category = 'Dependency'\n",
    "    elif r in ['Recursive call', 'Change propagation']: category = 'Consistency'\n",
    "    elif r in ['Build break', 'Code smell']: category = 'Breakage and Design'\n",
    "    elif r in ['Specify metadata', 'Licensing']: category = 'Document'\n",
    "    elif r in ['Compiler configuration', 'Symbol visibility']: category = 'Compiler setting'\n",
    "    elif r in ['Installation', 'Deployment']: category = 'Installation and Deployment'\n",
    "    elif r in ['No reason']: category = 'Lack of information'\n",
    "    reason.append(category)\n",
    "df.Reason = reason"
   ]
  },
  {
   "cell_type": "code",
   "execution_count": 16,
   "metadata": {},
   "outputs": [],
   "source": [
    "# Find occurrences bewteen each angles(location, reason, purpose)\n",
    "dic_location_reason = {}\n",
    "dic_location_purpose = {}\n",
    "dic_reason_purpose = {}\n",
    "for index, row in df.iterrows():\n",
    "    label_location_reason = row['Location'] + ',' + row['Reason']\n",
    "    if label_location_reason in dic_location_reason.keys():\n",
    "        dic_location_reason[label_location_reason] += 1\n",
    "    else:\n",
    "        dic_location_reason[label_location_reason] = 1\n",
    "        \n",
    "    label_location_purpose = row['Location'] + ',' + row['Purpose']\n",
    "    if label_location_purpose in dic_location_purpose.keys():\n",
    "        dic_location_purpose[label_location_purpose] += 1\n",
    "    else:\n",
    "        dic_location_purpose[label_location_purpose] = 1\n",
    "        \n",
    "    label_reason_purpose = row['Reason'] + ',' + row['Purpose']\n",
    "    if label_reason_purpose in dic_reason_purpose.keys():\n",
    "        dic_reason_purpose[label_reason_purpose] += 1\n",
    "    else:\n",
    "        dic_reason_purpose[label_reason_purpose] = 1\n",
    "\n",
    "location_reason = []\n",
    "location_purpose = []\n",
    "reason_purpose = []\n",
    "for index, row in df.iterrows():\n",
    "    location_reason.append(dic_location_reason[row['Location'] + ',' + row['Reason']])\n",
    "    location_purpose.append(dic_location_purpose[row['Location'] + ',' + row['Purpose']])\n",
    "    reason_purpose.append(dic_reason_purpose[row['Reason'] + ',' + row['Purpose']])\n",
    "df['location_reason'] = location_reason\n",
    "df['location_purpose'] = location_purpose\n",
    "df['reason_purpose'] = reason_purpose\n"
   ]
  },
  {
   "cell_type": "code",
   "execution_count": 19,
   "metadata": {},
   "outputs": [
    {
     "data": {
      "application/vnd.plotly.v1+json": {
       "config": {
        "plotlyServerURL": "https://plot.ly"
       },
       "data": [
        {
         "arrangement": "freeform",
         "dimensions": [
          {
           "label": "Location",
           "values": [
            "Plugin configuration",
            "Build variables",
            "Plugin configuration",
            "Plugin configuration",
            "Plugin configuration",
            "Plugin configuration",
            "Plugin configuration",
            "Build variables",
            "Build variables",
            "Build variables",
            "Build variables",
            "Plugin configuration",
            "Build variables",
            "Build variables",
            "Multi-directory configuration",
            "Plugin configuration",
            "Plugin configuration",
            "Plugin configuration",
            "Plugin configuration",
            "Plugin configuration",
            "Plugin configuration",
            "Build variables",
            "Plugin configuration",
            "Plugin configuration",
            "Build organization",
            "Build organization",
            "Plugin configuration",
            "Build organization",
            "Software configuration management",
            "Plugin configuration",
            "External dependencies configuration",
            "Plugin configuration",
            "Plugin configuration",
            "Software configuration management",
            "Plugin configuration",
            "Build variables",
            "Plugin configuration",
            "Resource configuration",
            "Build variables",
            "Plugin configuration",
            "Plugin configuration",
            "External dependencies configuration",
            "Plugin configuration",
            "Plugin configuration",
            "Plugin configuration",
            "Resource configuration",
            "Resource configuration",
            "Build variables",
            "Resource configuration",
            "Plugin configuration",
            "Resource configuration",
            "Resource configuration",
            "Resource configuration",
            "Resource configuration",
            "Plugin configuration",
            "External dependencies configuration",
            "Resource configuration",
            "Plugin configuration",
            "Plugin configuration",
            "Build variables",
            "Build variables",
            "Build variables",
            "Build variables",
            "Repository configuration",
            "External dependencies configuration",
            "Plugin configuration",
            "Plugin configuration",
            "Plugin configuration",
            "Plugin configuration",
            "Plugin configuration",
            "Plugin configuration",
            "Plugin configuration",
            "Plugin configuration",
            "Plugin configuration",
            "Plugin configuration",
            "Plugin configuration",
            "Plugin configuration",
            "Plugin configuration",
            "External dependencies configuration",
            "External dependencies configuration",
            "Plugin configuration",
            "Plugin configuration",
            "Plugin configuration",
            "External dependencies configuration",
            "External dependencies configuration",
            "Plugin configuration",
            "Plugin configuration",
            "Plugin configuration",
            "Plugin configuration",
            "External dependencies configuration",
            "Build variables",
            "Plugin configuration",
            "External dependencies configuration",
            "External dependencies configuration",
            "Plugin configuration",
            "Plugin configuration",
            "External dependencies configuration",
            "Plugin configuration",
            "Plugin configuration",
            "Plugin configuration",
            "Plugin configuration",
            "Plugin configuration",
            "Plugin configuration",
            "Plugin configuration",
            "Plugin configuration",
            "Plugin configuration",
            "Plugin configuration",
            "External dependencies configuration",
            "Plugin configuration",
            "External dependencies configuration",
            "Plugin configuration",
            "Multi-directory configuration",
            "Plugin configuration",
            "External dependencies configuration",
            "Plugin configuration",
            "Plugin configuration",
            "Plugin configuration",
            "Plugin configuration",
            "Plugin configuration",
            "Plugin configuration",
            "Plugin configuration",
            "Plugin configuration",
            "Plugin configuration",
            "Plugin configuration",
            "External dependencies configuration",
            "Plugin configuration",
            "Plugin configuration",
            "Plugin configuration",
            "Plugin configuration",
            "Plugin configuration",
            "Plugin configuration",
            "Plugin configuration",
            "Plugin configuration",
            "Plugin configuration",
            "External dependencies configuration",
            "External dependencies configuration",
            "External dependencies configuration",
            "Plugin configuration",
            "Plugin configuration",
            "Build variables",
            "Plugin configuration",
            "External dependencies configuration",
            "Plugin configuration",
            "Plugin configuration",
            "External dependencies configuration",
            "External dependencies configuration",
            "Build variables",
            "External dependencies configuration",
            "Plugin configuration",
            "Build variables",
            "Plugin configuration",
            "Build variables",
            "Plugin configuration",
            "Plugin configuration",
            "Plugin configuration",
            "Plugin configuration",
            "Plugin configuration",
            "Plugin configuration",
            "Plugin configuration",
            "Plugin configuration",
            "Build variables",
            "External dependencies configuration",
            "Build variables",
            "Build variables",
            "Plugin configuration",
            "External dependencies configuration",
            "Build variables",
            "Plugin configuration",
            "Plugin configuration",
            "Build variables",
            "Plugin configuration",
            "Plugin configuration",
            "Plugin configuration",
            "Plugin configuration",
            "Plugin configuration",
            "Plugin configuration",
            "External dependencies configuration",
            "Plugin configuration",
            "External dependencies configuration",
            "Plugin configuration",
            "Plugin configuration",
            "Plugin configuration",
            "Plugin configuration",
            "Plugin configuration",
            "Plugin configuration",
            "External dependencies configuration",
            "Build variables",
            "Plugin configuration",
            "Plugin configuration",
            "External dependencies configuration",
            "Plugin configuration",
            "Build variables",
            "External dependencies configuration",
            "External dependencies configuration",
            "Plugin configuration",
            "Plugin configuration",
            "External dependencies configuration",
            "Plugin configuration",
            "External dependencies configuration",
            "Build variables",
            "Plugin configuration",
            "Plugin configuration",
            "Plugin configuration",
            "External dependencies configuration",
            "Plugin configuration",
            "Plugin configuration",
            "Plugin configuration",
            "Plugin configuration",
            "Plugin configuration",
            "Plugin configuration",
            "Plugin configuration",
            "Plugin configuration",
            "Plugin configuration",
            "Plugin configuration",
            "Plugin configuration",
            "Multi-directory configuration",
            "Plugin configuration",
            "Build variables",
            "External dependencies configuration",
            "External dependencies configuration",
            "Plugin configuration",
            "Build variables",
            "Plugin configuration",
            "Plugin configuration",
            "External dependencies configuration",
            "External dependencies configuration",
            "Plugin configuration",
            "Plugin configuration",
            "Plugin configuration",
            "Build variables",
            "External dependencies configuration",
            "Plugin configuration",
            "Plugin configuration",
            "External dependencies configuration",
            "Build variables",
            "Plugin configuration",
            "Plugin configuration",
            "Build variables",
            "Plugin configuration",
            "Plugin configuration",
            "Plugin configuration",
            "Build variables",
            "External dependencies configuration",
            "Plugin configuration",
            "Plugin configuration",
            "Build variables",
            "Plugin configuration",
            "Multi-directory configuration",
            "Plugin configuration",
            "Build variables",
            "Build variables",
            "Plugin configuration",
            "External dependencies configuration",
            "Plugin configuration",
            "Plugin configuration",
            "Plugin configuration",
            "External dependencies configuration",
            "Plugin configuration",
            "Build variables",
            "Build variables",
            "External dependencies configuration",
            "Build variables",
            "External dependencies configuration",
            "External dependencies configuration",
            "Plugin configuration",
            "Plugin configuration",
            "Build variables",
            "Build variables",
            "Plugin configuration",
            "Plugin configuration",
            "Build variables",
            "Resource configuration",
            "External dependencies configuration",
            "External dependencies configuration",
            "Plugin configuration",
            "Plugin configuration",
            "Plugin configuration",
            "Plugin configuration",
            "External dependencies configuration",
            "Plugin configuration",
            "Plugin configuration",
            "External dependencies configuration",
            "Plugin configuration",
            "Plugin configuration",
            "Build variables",
            "External dependencies configuration",
            "Build variables",
            "Plugin configuration",
            "Plugin configuration",
            "Plugin configuration",
            "Build variables",
            "Plugin configuration",
            "Plugin configuration",
            "Plugin configuration",
            "Plugin configuration",
            "Build variables",
            "External dependencies configuration",
            "External dependencies configuration",
            "Plugin configuration",
            "Plugin configuration",
            "Plugin configuration",
            "External dependencies configuration",
            "Plugin configuration",
            "Plugin configuration",
            "Plugin configuration",
            "Plugin configuration",
            "Plugin configuration",
            "Plugin configuration",
            "Plugin configuration",
            "Plugin configuration",
            "Plugin configuration",
            "Plugin configuration",
            "External dependencies configuration",
            "Repository configuration",
            "External dependencies configuration",
            "Repository configuration",
            "External dependencies configuration",
            "Plugin configuration",
            "External dependencies configuration",
            "External dependencies configuration",
            "External dependencies configuration",
            "Repository configuration",
            "External dependencies configuration",
            "External dependencies configuration",
            "External dependencies configuration",
            "External dependencies configuration",
            "External dependencies configuration",
            "External dependencies configuration",
            "Repository configuration",
            "Plugin configuration",
            "External dependencies configuration",
            "External dependencies configuration",
            "External dependencies configuration",
            "External dependencies configuration",
            "External dependencies configuration",
            "External dependencies configuration",
            "External dependencies configuration",
            "Plugin configuration",
            "External dependencies configuration",
            "Repository configuration",
            "External dependencies configuration",
            "Plugin configuration",
            "External dependencies configuration",
            "External dependencies configuration",
            "External dependencies configuration",
            "External dependencies configuration",
            "External dependencies configuration",
            "External dependencies configuration",
            "External dependencies configuration",
            "Plugin configuration",
            "External dependencies configuration",
            "External dependencies configuration",
            "Plugin configuration",
            "Plugin configuration",
            "External dependencies configuration",
            "External dependencies configuration",
            "External dependencies configuration",
            "External dependencies configuration",
            "External dependencies configuration",
            "External dependencies configuration",
            "Repository configuration",
            "External dependencies configuration",
            "External dependencies configuration",
            "External dependencies configuration",
            "External dependencies configuration",
            "External dependencies configuration",
            "External dependencies configuration",
            "Repository configuration",
            "Plugin configuration",
            "Build variables",
            "Plugin configuration",
            "External dependencies configuration",
            "Multi-directory configuration",
            "Build variables",
            "External dependencies configuration",
            "Plugin configuration",
            "External dependencies configuration",
            "Build variables",
            "Plugin configuration",
            "Plugin configuration",
            "Build variables",
            "Plugin configuration",
            "External dependencies configuration",
            "Build variables",
            "Plugin configuration",
            "Plugin configuration",
            "Build variables",
            "Plugin configuration",
            "Multi-directory configuration",
            "Plugin configuration",
            "External dependencies configuration",
            "Build variables",
            "Build variables",
            "Plugin configuration",
            "External dependencies configuration",
            "External dependencies configuration",
            "External dependencies configuration",
            "External dependencies configuration",
            "External dependencies configuration",
            "External dependencies configuration",
            "Plugin configuration",
            "External dependencies configuration",
            "External dependencies configuration",
            "External dependencies configuration",
            "Multi-directory configuration",
            "Build variables",
            "Plugin configuration",
            "External dependencies configuration",
            "Repository configuration",
            "External dependencies configuration",
            "Plugin configuration",
            "Build variables",
            "Build variables",
            "Plugin configuration",
            "Plugin configuration",
            "Plugin configuration",
            "Plugin configuration",
            "Build variables",
            "Plugin configuration",
            "Plugin configuration",
            "Plugin configuration",
            "Plugin configuration",
            "Multi-directory configuration",
            "Multi-directory configuration",
            "External dependencies configuration",
            "Plugin configuration",
            "Plugin configuration",
            "Plugin configuration",
            "External dependencies configuration",
            "Plugin configuration",
            "Plugin configuration",
            "External dependencies configuration",
            "External dependencies configuration",
            "Plugin configuration",
            "Plugin configuration",
            "Multi-directory configuration",
            "Plugin configuration",
            "Plugin configuration",
            "Build variables",
            "Project metadata",
            "Project metadata",
            "Build variables",
            "Build variables",
            "Project metadata",
            "Project metadata",
            "Project metadata",
            "Project metadata",
            "Build variables",
            "Build variables",
            "External dependencies configuration",
            "External dependencies configuration",
            "Plugin configuration",
            "External dependencies configuration",
            "External dependencies configuration",
            "External dependencies configuration",
            "External dependencies configuration",
            "Plugin configuration",
            "External dependencies configuration",
            "External dependencies configuration",
            "External dependencies configuration",
            "External dependencies configuration",
            "Plugin configuration",
            "Plugin configuration",
            "External dependencies configuration",
            "External dependencies configuration",
            "External dependencies configuration",
            "External dependencies configuration",
            "External dependencies configuration",
            "External dependencies configuration",
            "External dependencies configuration",
            "External dependencies configuration",
            "External dependencies configuration",
            "External dependencies configuration",
            "External dependencies configuration",
            "External dependencies configuration",
            "External dependencies configuration",
            "External dependencies configuration",
            "External dependencies configuration",
            "External dependencies configuration",
            "External dependencies configuration",
            "External dependencies configuration",
            "External dependencies configuration",
            "Plugin configuration",
            "Plugin configuration",
            "Build variables",
            "External dependencies configuration",
            "External dependencies configuration",
            "Build variables",
            "External dependencies configuration",
            "External dependencies configuration",
            "External dependencies configuration",
            "External dependencies configuration",
            "External dependencies configuration",
            "External dependencies configuration",
            "External dependencies configuration",
            "Plugin configuration",
            "External dependencies configuration",
            "External dependencies configuration",
            "Plugin configuration",
            "Plugin configuration"
           ]
          },
          {
           "label": "Reason",
           "values": [
            "Breakage and Design",
            "Breakage and Design",
            "Breakage and Design",
            "Breakage and Design",
            "Breakage and Design",
            "Breakage and Design",
            "Breakage and Design",
            "Breakage and Design",
            "Breakage and Design",
            "Breakage and Design",
            "Breakage and Design",
            "Breakage and Design",
            "Breakage and Design",
            "Breakage and Design",
            "Breakage and Design",
            "Breakage and Design",
            "Breakage and Design",
            "Breakage and Design",
            "Breakage and Design",
            "Breakage and Design",
            "Breakage and Design",
            "Breakage and Design",
            "Limitation",
            "Limitation",
            "Limitation",
            "Limitation",
            "Limitation",
            "Limitation",
            "Limitation",
            "Limitation",
            "Limitation",
            "Limitation",
            "Limitation",
            "Limitation",
            "Limitation",
            "Limitation",
            "Limitation",
            "Consistency",
            "Consistency",
            "Breakage and Design",
            "Breakage and Design",
            "Breakage and Design",
            "Compiler setting",
            "Compiler setting",
            "Compiler setting",
            "Compiler setting",
            "Compiler setting",
            "Compiler setting",
            "Compiler setting",
            "Compiler setting",
            "Compiler setting",
            "Compiler setting",
            "Compiler setting",
            "Compiler setting",
            "Compiler setting",
            "Compiler setting",
            "Compiler setting",
            "Compiler setting",
            "Installation and Deployment",
            "Installation and Deployment",
            "Installation and Deployment",
            "Installation and Deployment",
            "Installation and Deployment",
            "Installation and Deployment",
            "Limitation",
            "Limitation",
            "Limitation",
            "Limitation",
            "Limitation",
            "Limitation",
            "Limitation",
            "Limitation",
            "Limitation",
            "Limitation",
            "Limitation",
            "Limitation",
            "Limitation",
            "Limitation",
            "Limitation",
            "Limitation",
            "Limitation",
            "Limitation",
            "Limitation",
            "Limitation",
            "Limitation",
            "Limitation",
            "Limitation",
            "Limitation",
            "Limitation",
            "Limitation",
            "Limitation",
            "Limitation",
            "Limitation",
            "Limitation",
            "Limitation",
            "Limitation",
            "Limitation",
            "Limitation",
            "Limitation",
            "Limitation",
            "Limitation",
            "Limitation",
            "Limitation",
            "Limitation",
            "Limitation",
            "Limitation",
            "Limitation",
            "Limitation",
            "Limitation",
            "Limitation",
            "Limitation",
            "Limitation",
            "Limitation",
            "Limitation",
            "Limitation",
            "Limitation",
            "Limitation",
            "Limitation",
            "Limitation",
            "Limitation",
            "Limitation",
            "Limitation",
            "Limitation",
            "Limitation",
            "Limitation",
            "Limitation",
            "Limitation",
            "Limitation",
            "Limitation",
            "Limitation",
            "Limitation",
            "Limitation",
            "Limitation",
            "Limitation",
            "Limitation",
            "Limitation",
            "Limitation",
            "Limitation",
            "Limitation",
            "Limitation",
            "Limitation",
            "Limitation",
            "Limitation",
            "Limitation",
            "Limitation",
            "Limitation",
            "Limitation",
            "Limitation",
            "Limitation",
            "Limitation",
            "Limitation",
            "Limitation",
            "Limitation",
            "Limitation",
            "Limitation",
            "Limitation",
            "Limitation",
            "Limitation",
            "Limitation",
            "Limitation",
            "Limitation",
            "Limitation",
            "Limitation",
            "Limitation",
            "Limitation",
            "Limitation",
            "Limitation",
            "Limitation",
            "Limitation",
            "Limitation",
            "Limitation",
            "Limitation",
            "Limitation",
            "Limitation",
            "Limitation",
            "Limitation",
            "Limitation",
            "Limitation",
            "Limitation",
            "Limitation",
            "Limitation",
            "Limitation",
            "Limitation",
            "Limitation",
            "Limitation",
            "Limitation",
            "Limitation",
            "Limitation",
            "Limitation",
            "Limitation",
            "Limitation",
            "Limitation",
            "Limitation",
            "Limitation",
            "Limitation",
            "Limitation",
            "Limitation",
            "Limitation",
            "Limitation",
            "Limitation",
            "Limitation",
            "Limitation",
            "Limitation",
            "Limitation",
            "Limitation",
            "Limitation",
            "Limitation",
            "Limitation",
            "Limitation",
            "Limitation",
            "Limitation",
            "Limitation",
            "Limitation",
            "Limitation",
            "Limitation",
            "Limitation",
            "Limitation",
            "Limitation",
            "Limitation",
            "Limitation",
            "Limitation",
            "Limitation",
            "Limitation",
            "Limitation",
            "Limitation",
            "Limitation",
            "Limitation",
            "Limitation",
            "Limitation",
            "Limitation",
            "Limitation",
            "Limitation",
            "Limitation",
            "Limitation",
            "Limitation",
            "Limitation",
            "Limitation",
            "Limitation",
            "Limitation",
            "Limitation",
            "Limitation",
            "Limitation",
            "Limitation",
            "Limitation",
            "Limitation",
            "Limitation",
            "Limitation",
            "Limitation",
            "Limitation",
            "Limitation",
            "Limitation",
            "Limitation",
            "Limitation",
            "Limitation",
            "Limitation",
            "Limitation",
            "Limitation",
            "Limitation",
            "Limitation",
            "Limitation",
            "Limitation",
            "Limitation",
            "Limitation",
            "Limitation",
            "Limitation",
            "Limitation",
            "Limitation",
            "Limitation",
            "Limitation",
            "Limitation",
            "Limitation",
            "Limitation",
            "Limitation",
            "Limitation",
            "Limitation",
            "Limitation",
            "Limitation",
            "Limitation",
            "Limitation",
            "Limitation",
            "Limitation",
            "Limitation",
            "Limitation",
            "Limitation",
            "Limitation",
            "Limitation",
            "Limitation",
            "Limitation",
            "Limitation",
            "Limitation",
            "Limitation",
            "Limitation",
            "Limitation",
            "Limitation",
            "Installation and Deployment",
            "Installation and Deployment",
            "Installation and Deployment",
            "Installation and Deployment",
            "Installation and Deployment",
            "Installation and Deployment",
            "Document",
            "Document",
            "Document",
            "Document",
            "Document",
            "Document",
            "Document",
            "Document",
            "Document",
            "Document",
            "Document",
            "Dependency",
            "Dependency",
            "Dependency",
            "Dependency",
            "Dependency",
            "Dependency",
            "Dependency",
            "Dependency",
            "Dependency",
            "Dependency",
            "Dependency",
            "Dependency",
            "Dependency",
            "Dependency",
            "Dependency",
            "Dependency",
            "Dependency",
            "Dependency",
            "Dependency",
            "Dependency",
            "Dependency",
            "Dependency",
            "Dependency",
            "Dependency",
            "Dependency",
            "Dependency",
            "Dependency",
            "Dependency",
            "Dependency",
            "Dependency",
            "Dependency",
            "Dependency",
            "Dependency",
            "Dependency",
            "Dependency",
            "Dependency",
            "Dependency",
            "Dependency",
            "Dependency",
            "Dependency",
            "Dependency",
            "Dependency",
            "Dependency",
            "Dependency",
            "Dependency",
            "Dependency",
            "Dependency",
            "Dependency",
            "Dependency",
            "Dependency",
            "Dependency",
            "Dependency",
            "Dependency",
            "Dependency",
            "Dependency",
            "Dependency",
            "Lack of information",
            "Lack of information",
            "Lack of information",
            "Lack of information",
            "Lack of information",
            "Lack of information",
            "Lack of information",
            "Lack of information",
            "Lack of information",
            "Lack of information",
            "Lack of information",
            "Lack of information",
            "Lack of information",
            "Lack of information",
            "Lack of information",
            "Lack of information",
            "Lack of information",
            "Lack of information",
            "Lack of information",
            "Lack of information",
            "Lack of information",
            "Lack of information",
            "Lack of information",
            "Lack of information",
            "Lack of information",
            "Dependency",
            "Dependency",
            "Dependency",
            "Dependency",
            "Dependency",
            "Dependency",
            "Dependency",
            "Dependency",
            "Dependency",
            "Dependency",
            "Dependency",
            "Dependency",
            "Consistency",
            "Consistency",
            "Consistency",
            "Consistency",
            "Consistency",
            "Consistency",
            "Consistency",
            "Consistency",
            "Consistency",
            "Consistency",
            "Consistency",
            "Consistency",
            "Consistency",
            "Consistency",
            "Consistency",
            "Consistency",
            "Consistency",
            "Consistency",
            "Consistency",
            "Consistency",
            "Consistency",
            "Consistency",
            "Consistency",
            "Consistency",
            "Consistency",
            "Consistency",
            "Consistency",
            "Consistency",
            "Consistency",
            "Consistency",
            "Consistency",
            "Consistency",
            "Consistency",
            "Document",
            "Document",
            "Document",
            "Document",
            "Document",
            "Document",
            "Document",
            "Document",
            "Document",
            "Document",
            "Document",
            "Document",
            "Dependency",
            "Dependency",
            "Dependency",
            "Dependency",
            "Dependency",
            "Dependency",
            "Dependency",
            "Dependency",
            "Dependency",
            "Dependency",
            "Dependency",
            "Dependency",
            "Dependency",
            "Dependency",
            "Dependency",
            "Dependency",
            "Dependency",
            "Dependency",
            "Dependency",
            "Dependency",
            "Dependency",
            "Dependency",
            "Dependency",
            "Dependency",
            "Dependency",
            "Dependency",
            "Dependency",
            "Dependency",
            "Dependency",
            "Dependency",
            "Dependency",
            "Dependency",
            "Dependency",
            "Dependency",
            "Dependency",
            "Dependency",
            "Dependency",
            "Dependency",
            "Dependency",
            "Dependency",
            "Dependency",
            "Dependency",
            "Dependency",
            "Dependency",
            "Dependency",
            "Dependency",
            "Dependency",
            "Dependency",
            "Dependency",
            "Compiler setting",
            "Compiler setting"
           ]
          }
         ],
         "hoverinfo": "count+probability",
         "hoveron": "color",
         "labelfont": {
          "family": "Times",
          "size": 14
         },
         "line": {
          "color": [
           15,
           8,
           15,
           15,
           15,
           15,
           15,
           8,
           8,
           8,
           8,
           15,
           8,
           8,
           1,
           15,
           15,
           15,
           15,
           15,
           15,
           8,
           155,
           155,
           3,
           3,
           155,
           3,
           2,
           155,
           49,
           155,
           155,
           2,
           155,
           32,
           155,
           1,
           5,
           15,
           15,
           1,
           8,
           8,
           8,
           8,
           8,
           1,
           8,
           8,
           8,
           8,
           8,
           8,
           8,
           1,
           8,
           8,
           4,
           5,
           5,
           5,
           5,
           1,
           49,
           155,
           155,
           155,
           155,
           155,
           155,
           155,
           155,
           155,
           155,
           155,
           155,
           155,
           49,
           49,
           155,
           155,
           155,
           49,
           49,
           155,
           155,
           155,
           155,
           49,
           32,
           155,
           49,
           49,
           155,
           155,
           49,
           155,
           155,
           155,
           155,
           155,
           155,
           155,
           155,
           155,
           155,
           49,
           155,
           49,
           155,
           3,
           155,
           49,
           155,
           155,
           155,
           155,
           155,
           155,
           155,
           155,
           155,
           155,
           49,
           155,
           155,
           155,
           155,
           155,
           155,
           155,
           155,
           155,
           49,
           49,
           49,
           155,
           155,
           32,
           155,
           49,
           155,
           155,
           49,
           49,
           32,
           49,
           155,
           32,
           155,
           32,
           155,
           155,
           155,
           155,
           155,
           155,
           155,
           155,
           32,
           49,
           32,
           32,
           155,
           49,
           32,
           155,
           155,
           32,
           155,
           155,
           155,
           155,
           155,
           155,
           49,
           155,
           49,
           155,
           155,
           155,
           155,
           155,
           155,
           49,
           32,
           155,
           155,
           49,
           155,
           32,
           49,
           49,
           155,
           155,
           49,
           155,
           49,
           32,
           155,
           155,
           155,
           49,
           155,
           155,
           155,
           155,
           155,
           155,
           155,
           155,
           155,
           155,
           155,
           3,
           155,
           32,
           49,
           49,
           155,
           32,
           155,
           155,
           49,
           49,
           155,
           155,
           155,
           32,
           49,
           155,
           155,
           49,
           32,
           155,
           155,
           32,
           155,
           155,
           155,
           32,
           49,
           155,
           155,
           32,
           155,
           3,
           155,
           32,
           32,
           155,
           49,
           155,
           155,
           155,
           49,
           155,
           32,
           32,
           49,
           32,
           49,
           49,
           155,
           155,
           32,
           32,
           155,
           155,
           32,
           1,
           49,
           49,
           155,
           155,
           155,
           155,
           49,
           155,
           155,
           49,
           155,
           155,
           32,
           49,
           32,
           155,
           155,
           155,
           32,
           155,
           155,
           155,
           4,
           5,
           2,
           2,
           4,
           4,
           11,
           1,
           11,
           11,
           11,
           11,
           11,
           11,
           11,
           11,
           11,
           17,
           91,
           6,
           91,
           6,
           91,
           17,
           91,
           91,
           91,
           6,
           91,
           91,
           91,
           91,
           91,
           91,
           6,
           17,
           91,
           91,
           91,
           91,
           91,
           91,
           91,
           17,
           91,
           6,
           91,
           17,
           91,
           91,
           91,
           91,
           91,
           91,
           91,
           17,
           91,
           91,
           17,
           17,
           91,
           91,
           91,
           91,
           91,
           91,
           6,
           91,
           91,
           91,
           91,
           91,
           91,
           1,
           10,
           7,
           10,
           5,
           2,
           7,
           5,
           10,
           5,
           7,
           10,
           10,
           7,
           10,
           5,
           7,
           10,
           10,
           7,
           10,
           2,
           10,
           5,
           7,
           3,
           17,
           91,
           91,
           91,
           91,
           91,
           91,
           17,
           91,
           91,
           91,
           4,
           5,
           18,
           6,
           1,
           6,
           18,
           5,
           5,
           18,
           18,
           18,
           18,
           5,
           18,
           18,
           18,
           18,
           4,
           4,
           6,
           18,
           18,
           18,
           6,
           18,
           18,
           6,
           6,
           18,
           18,
           4,
           18,
           11,
           5,
           6,
           6,
           5,
           5,
           6,
           6,
           6,
           6,
           5,
           5,
           91,
           91,
           17,
           91,
           91,
           91,
           91,
           17,
           91,
           91,
           91,
           91,
           17,
           17,
           91,
           91,
           91,
           91,
           91,
           91,
           91,
           91,
           91,
           91,
           91,
           91,
           91,
           91,
           91,
           91,
           91,
           91,
           91,
           17,
           17,
           3,
           91,
           91,
           3,
           91,
           91,
           91,
           91,
           91,
           91,
           91,
           17,
           91,
           91,
           8,
           8
          ],
          "colorbar": {
           "len": 0.7,
           "thickness": 10,
           "x": 1.5
          },
          "colorscale": [
           [
            0,
            "rgb(0, 0, 0)"
           ],
           [
            0.09090909090909091,
            "rgb(16, 16, 16)"
           ],
           [
            0.18181818181818182,
            "rgb(38, 38, 38)"
           ],
           [
            0.2727272727272727,
            "rgb(59, 59, 59)"
           ],
           [
            0.36363636363636365,
            "rgb(81, 80, 80)"
           ],
           [
            0.45454545454545453,
            "rgb(102, 101, 101)"
           ],
           [
            0.5454545454545454,
            "rgb(124, 123, 122)"
           ],
           [
            0.6363636363636364,
            "rgb(146, 146, 145)"
           ],
           [
            0.7272727272727273,
            "rgb(171, 171, 170)"
           ],
           [
            0.8181818181818182,
            "rgb(197, 197, 195)"
           ],
           [
            0.9090909090909091,
            "rgb(224, 224, 223)"
           ],
           [
            1,
            "rgb(254, 254, 253)"
           ]
          ],
          "reversescale": true,
          "shape": "hspline",
          "showscale": true
         },
         "tickfont": {
          "family": "Times",
          "size": 12
         },
         "type": "parcats"
        }
       ],
       "layout": {
        "margin": {
         "b": 10,
         "l": 150,
         "pad": 0,
         "r": 150,
         "t": 20
        },
        "template": {
         "data": {
          "bar": [
           {
            "error_x": {
             "color": "#2a3f5f"
            },
            "error_y": {
             "color": "#2a3f5f"
            },
            "marker": {
             "line": {
              "color": "#E5ECF6",
              "width": 0.5
             }
            },
            "type": "bar"
           }
          ],
          "barpolar": [
           {
            "marker": {
             "line": {
              "color": "#E5ECF6",
              "width": 0.5
             }
            },
            "type": "barpolar"
           }
          ],
          "carpet": [
           {
            "aaxis": {
             "endlinecolor": "#2a3f5f",
             "gridcolor": "white",
             "linecolor": "white",
             "minorgridcolor": "white",
             "startlinecolor": "#2a3f5f"
            },
            "baxis": {
             "endlinecolor": "#2a3f5f",
             "gridcolor": "white",
             "linecolor": "white",
             "minorgridcolor": "white",
             "startlinecolor": "#2a3f5f"
            },
            "type": "carpet"
           }
          ],
          "choropleth": [
           {
            "colorbar": {
             "outlinewidth": 0,
             "ticks": ""
            },
            "type": "choropleth"
           }
          ],
          "contour": [
           {
            "colorbar": {
             "outlinewidth": 0,
             "ticks": ""
            },
            "colorscale": [
             [
              0,
              "#0d0887"
             ],
             [
              0.1111111111111111,
              "#46039f"
             ],
             [
              0.2222222222222222,
              "#7201a8"
             ],
             [
              0.3333333333333333,
              "#9c179e"
             ],
             [
              0.4444444444444444,
              "#bd3786"
             ],
             [
              0.5555555555555556,
              "#d8576b"
             ],
             [
              0.6666666666666666,
              "#ed7953"
             ],
             [
              0.7777777777777778,
              "#fb9f3a"
             ],
             [
              0.8888888888888888,
              "#fdca26"
             ],
             [
              1,
              "#f0f921"
             ]
            ],
            "type": "contour"
           }
          ],
          "contourcarpet": [
           {
            "colorbar": {
             "outlinewidth": 0,
             "ticks": ""
            },
            "type": "contourcarpet"
           }
          ],
          "heatmap": [
           {
            "colorbar": {
             "outlinewidth": 0,
             "ticks": ""
            },
            "colorscale": [
             [
              0,
              "#0d0887"
             ],
             [
              0.1111111111111111,
              "#46039f"
             ],
             [
              0.2222222222222222,
              "#7201a8"
             ],
             [
              0.3333333333333333,
              "#9c179e"
             ],
             [
              0.4444444444444444,
              "#bd3786"
             ],
             [
              0.5555555555555556,
              "#d8576b"
             ],
             [
              0.6666666666666666,
              "#ed7953"
             ],
             [
              0.7777777777777778,
              "#fb9f3a"
             ],
             [
              0.8888888888888888,
              "#fdca26"
             ],
             [
              1,
              "#f0f921"
             ]
            ],
            "type": "heatmap"
           }
          ],
          "heatmapgl": [
           {
            "colorbar": {
             "outlinewidth": 0,
             "ticks": ""
            },
            "colorscale": [
             [
              0,
              "#0d0887"
             ],
             [
              0.1111111111111111,
              "#46039f"
             ],
             [
              0.2222222222222222,
              "#7201a8"
             ],
             [
              0.3333333333333333,
              "#9c179e"
             ],
             [
              0.4444444444444444,
              "#bd3786"
             ],
             [
              0.5555555555555556,
              "#d8576b"
             ],
             [
              0.6666666666666666,
              "#ed7953"
             ],
             [
              0.7777777777777778,
              "#fb9f3a"
             ],
             [
              0.8888888888888888,
              "#fdca26"
             ],
             [
              1,
              "#f0f921"
             ]
            ],
            "type": "heatmapgl"
           }
          ],
          "histogram": [
           {
            "marker": {
             "colorbar": {
              "outlinewidth": 0,
              "ticks": ""
             }
            },
            "type": "histogram"
           }
          ],
          "histogram2d": [
           {
            "colorbar": {
             "outlinewidth": 0,
             "ticks": ""
            },
            "colorscale": [
             [
              0,
              "#0d0887"
             ],
             [
              0.1111111111111111,
              "#46039f"
             ],
             [
              0.2222222222222222,
              "#7201a8"
             ],
             [
              0.3333333333333333,
              "#9c179e"
             ],
             [
              0.4444444444444444,
              "#bd3786"
             ],
             [
              0.5555555555555556,
              "#d8576b"
             ],
             [
              0.6666666666666666,
              "#ed7953"
             ],
             [
              0.7777777777777778,
              "#fb9f3a"
             ],
             [
              0.8888888888888888,
              "#fdca26"
             ],
             [
              1,
              "#f0f921"
             ]
            ],
            "type": "histogram2d"
           }
          ],
          "histogram2dcontour": [
           {
            "colorbar": {
             "outlinewidth": 0,
             "ticks": ""
            },
            "colorscale": [
             [
              0,
              "#0d0887"
             ],
             [
              0.1111111111111111,
              "#46039f"
             ],
             [
              0.2222222222222222,
              "#7201a8"
             ],
             [
              0.3333333333333333,
              "#9c179e"
             ],
             [
              0.4444444444444444,
              "#bd3786"
             ],
             [
              0.5555555555555556,
              "#d8576b"
             ],
             [
              0.6666666666666666,
              "#ed7953"
             ],
             [
              0.7777777777777778,
              "#fb9f3a"
             ],
             [
              0.8888888888888888,
              "#fdca26"
             ],
             [
              1,
              "#f0f921"
             ]
            ],
            "type": "histogram2dcontour"
           }
          ],
          "mesh3d": [
           {
            "colorbar": {
             "outlinewidth": 0,
             "ticks": ""
            },
            "type": "mesh3d"
           }
          ],
          "parcoords": [
           {
            "line": {
             "colorbar": {
              "outlinewidth": 0,
              "ticks": ""
             }
            },
            "type": "parcoords"
           }
          ],
          "pie": [
           {
            "automargin": true,
            "type": "pie"
           }
          ],
          "scatter": [
           {
            "marker": {
             "colorbar": {
              "outlinewidth": 0,
              "ticks": ""
             }
            },
            "type": "scatter"
           }
          ],
          "scatter3d": [
           {
            "line": {
             "colorbar": {
              "outlinewidth": 0,
              "ticks": ""
             }
            },
            "marker": {
             "colorbar": {
              "outlinewidth": 0,
              "ticks": ""
             }
            },
            "type": "scatter3d"
           }
          ],
          "scattercarpet": [
           {
            "marker": {
             "colorbar": {
              "outlinewidth": 0,
              "ticks": ""
             }
            },
            "type": "scattercarpet"
           }
          ],
          "scattergeo": [
           {
            "marker": {
             "colorbar": {
              "outlinewidth": 0,
              "ticks": ""
             }
            },
            "type": "scattergeo"
           }
          ],
          "scattergl": [
           {
            "marker": {
             "colorbar": {
              "outlinewidth": 0,
              "ticks": ""
             }
            },
            "type": "scattergl"
           }
          ],
          "scattermapbox": [
           {
            "marker": {
             "colorbar": {
              "outlinewidth": 0,
              "ticks": ""
             }
            },
            "type": "scattermapbox"
           }
          ],
          "scatterpolar": [
           {
            "marker": {
             "colorbar": {
              "outlinewidth": 0,
              "ticks": ""
             }
            },
            "type": "scatterpolar"
           }
          ],
          "scatterpolargl": [
           {
            "marker": {
             "colorbar": {
              "outlinewidth": 0,
              "ticks": ""
             }
            },
            "type": "scatterpolargl"
           }
          ],
          "scatterternary": [
           {
            "marker": {
             "colorbar": {
              "outlinewidth": 0,
              "ticks": ""
             }
            },
            "type": "scatterternary"
           }
          ],
          "surface": [
           {
            "colorbar": {
             "outlinewidth": 0,
             "ticks": ""
            },
            "colorscale": [
             [
              0,
              "#0d0887"
             ],
             [
              0.1111111111111111,
              "#46039f"
             ],
             [
              0.2222222222222222,
              "#7201a8"
             ],
             [
              0.3333333333333333,
              "#9c179e"
             ],
             [
              0.4444444444444444,
              "#bd3786"
             ],
             [
              0.5555555555555556,
              "#d8576b"
             ],
             [
              0.6666666666666666,
              "#ed7953"
             ],
             [
              0.7777777777777778,
              "#fb9f3a"
             ],
             [
              0.8888888888888888,
              "#fdca26"
             ],
             [
              1,
              "#f0f921"
             ]
            ],
            "type": "surface"
           }
          ],
          "table": [
           {
            "cells": {
             "fill": {
              "color": "#EBF0F8"
             },
             "line": {
              "color": "white"
             }
            },
            "header": {
             "fill": {
              "color": "#C8D4E3"
             },
             "line": {
              "color": "white"
             }
            },
            "type": "table"
           }
          ]
         },
         "layout": {
          "annotationdefaults": {
           "arrowcolor": "#2a3f5f",
           "arrowhead": 0,
           "arrowwidth": 1
          },
          "coloraxis": {
           "colorbar": {
            "outlinewidth": 0,
            "ticks": ""
           }
          },
          "colorscale": {
           "diverging": [
            [
             0,
             "#8e0152"
            ],
            [
             0.1,
             "#c51b7d"
            ],
            [
             0.2,
             "#de77ae"
            ],
            [
             0.3,
             "#f1b6da"
            ],
            [
             0.4,
             "#fde0ef"
            ],
            [
             0.5,
             "#f7f7f7"
            ],
            [
             0.6,
             "#e6f5d0"
            ],
            [
             0.7,
             "#b8e186"
            ],
            [
             0.8,
             "#7fbc41"
            ],
            [
             0.9,
             "#4d9221"
            ],
            [
             1,
             "#276419"
            ]
           ],
           "sequential": [
            [
             0,
             "#0d0887"
            ],
            [
             0.1111111111111111,
             "#46039f"
            ],
            [
             0.2222222222222222,
             "#7201a8"
            ],
            [
             0.3333333333333333,
             "#9c179e"
            ],
            [
             0.4444444444444444,
             "#bd3786"
            ],
            [
             0.5555555555555556,
             "#d8576b"
            ],
            [
             0.6666666666666666,
             "#ed7953"
            ],
            [
             0.7777777777777778,
             "#fb9f3a"
            ],
            [
             0.8888888888888888,
             "#fdca26"
            ],
            [
             1,
             "#f0f921"
            ]
           ],
           "sequentialminus": [
            [
             0,
             "#0d0887"
            ],
            [
             0.1111111111111111,
             "#46039f"
            ],
            [
             0.2222222222222222,
             "#7201a8"
            ],
            [
             0.3333333333333333,
             "#9c179e"
            ],
            [
             0.4444444444444444,
             "#bd3786"
            ],
            [
             0.5555555555555556,
             "#d8576b"
            ],
            [
             0.6666666666666666,
             "#ed7953"
            ],
            [
             0.7777777777777778,
             "#fb9f3a"
            ],
            [
             0.8888888888888888,
             "#fdca26"
            ],
            [
             1,
             "#f0f921"
            ]
           ]
          },
          "colorway": [
           "#636efa",
           "#EF553B",
           "#00cc96",
           "#ab63fa",
           "#FFA15A",
           "#19d3f3",
           "#FF6692",
           "#B6E880",
           "#FF97FF",
           "#FECB52"
          ],
          "font": {
           "color": "#2a3f5f"
          },
          "geo": {
           "bgcolor": "white",
           "lakecolor": "white",
           "landcolor": "#E5ECF6",
           "showlakes": true,
           "showland": true,
           "subunitcolor": "white"
          },
          "hoverlabel": {
           "align": "left"
          },
          "hovermode": "closest",
          "mapbox": {
           "style": "light"
          },
          "paper_bgcolor": "white",
          "plot_bgcolor": "#E5ECF6",
          "polar": {
           "angularaxis": {
            "gridcolor": "white",
            "linecolor": "white",
            "ticks": ""
           },
           "bgcolor": "#E5ECF6",
           "radialaxis": {
            "gridcolor": "white",
            "linecolor": "white",
            "ticks": ""
           }
          },
          "scene": {
           "xaxis": {
            "backgroundcolor": "#E5ECF6",
            "gridcolor": "white",
            "gridwidth": 2,
            "linecolor": "white",
            "showbackground": true,
            "ticks": "",
            "zerolinecolor": "white"
           },
           "yaxis": {
            "backgroundcolor": "#E5ECF6",
            "gridcolor": "white",
            "gridwidth": 2,
            "linecolor": "white",
            "showbackground": true,
            "ticks": "",
            "zerolinecolor": "white"
           },
           "zaxis": {
            "backgroundcolor": "#E5ECF6",
            "gridcolor": "white",
            "gridwidth": 2,
            "linecolor": "white",
            "showbackground": true,
            "ticks": "",
            "zerolinecolor": "white"
           }
          },
          "shapedefaults": {
           "line": {
            "color": "#2a3f5f"
           }
          },
          "ternary": {
           "aaxis": {
            "gridcolor": "white",
            "linecolor": "white",
            "ticks": ""
           },
           "baxis": {
            "gridcolor": "white",
            "linecolor": "white",
            "ticks": ""
           },
           "bgcolor": "#E5ECF6",
           "caxis": {
            "gridcolor": "white",
            "linecolor": "white",
            "ticks": ""
           }
          },
          "title": {
           "x": 0.05
          },
          "xaxis": {
           "automargin": true,
           "gridcolor": "white",
           "linecolor": "white",
           "ticks": "",
           "title": {
            "standoff": 15
           },
           "zerolinecolor": "white",
           "zerolinewidth": 2
          },
          "yaxis": {
           "automargin": true,
           "gridcolor": "white",
           "linecolor": "white",
           "ticks": "",
           "title": {
            "standoff": 15
           },
           "zerolinecolor": "white",
           "zerolinewidth": 2
          }
         }
        }
       }
      },
      "text/html": [
       "<div>\n",
       "        \n",
       "        \n",
       "            <div id=\"55db968c-2c13-4ced-85ce-b48241527f31\" class=\"plotly-graph-div\" style=\"height:525px; width:100%;\"></div>\n",
       "            <script type=\"text/javascript\">\n",
       "                require([\"plotly\"], function(Plotly) {\n",
       "                    window.PLOTLYENV=window.PLOTLYENV || {};\n",
       "                    \n",
       "                if (document.getElementById(\"55db968c-2c13-4ced-85ce-b48241527f31\")) {\n",
       "                    Plotly.newPlot(\n",
       "                        '55db968c-2c13-4ced-85ce-b48241527f31',\n",
       "                        [{\"arrangement\": \"freeform\", \"dimensions\": [{\"label\": \"Location\", \"values\": [\"Plugin configuration\", \"Build variables\", \"Plugin configuration\", \"Plugin configuration\", \"Plugin configuration\", \"Plugin configuration\", \"Plugin configuration\", \"Build variables\", \"Build variables\", \"Build variables\", \"Build variables\", \"Plugin configuration\", \"Build variables\", \"Build variables\", \"Multi-directory configuration\", \"Plugin configuration\", \"Plugin configuration\", \"Plugin configuration\", \"Plugin configuration\", \"Plugin configuration\", \"Plugin configuration\", \"Build variables\", \"Plugin configuration\", \"Plugin configuration\", \"Build organization\", \"Build organization\", \"Plugin configuration\", \"Build organization\", \"Software configuration management\", \"Plugin configuration\", \"External dependencies configuration\", \"Plugin configuration\", \"Plugin configuration\", \"Software configuration management\", \"Plugin configuration\", \"Build variables\", \"Plugin configuration\", \"Resource configuration\", \"Build variables\", \"Plugin configuration\", \"Plugin configuration\", \"External dependencies configuration\", \"Plugin configuration\", \"Plugin configuration\", \"Plugin configuration\", \"Resource configuration\", \"Resource configuration\", \"Build variables\", \"Resource configuration\", \"Plugin configuration\", \"Resource configuration\", \"Resource configuration\", \"Resource configuration\", \"Resource configuration\", \"Plugin configuration\", \"External dependencies configuration\", \"Resource configuration\", \"Plugin configuration\", \"Plugin configuration\", \"Build variables\", \"Build variables\", \"Build variables\", \"Build variables\", \"Repository configuration\", \"External dependencies configuration\", \"Plugin configuration\", \"Plugin configuration\", \"Plugin configuration\", \"Plugin configuration\", \"Plugin configuration\", \"Plugin configuration\", \"Plugin configuration\", \"Plugin configuration\", \"Plugin configuration\", \"Plugin configuration\", \"Plugin configuration\", \"Plugin configuration\", \"Plugin configuration\", \"External dependencies configuration\", \"External dependencies configuration\", \"Plugin configuration\", \"Plugin configuration\", \"Plugin configuration\", \"External dependencies configuration\", \"External dependencies configuration\", \"Plugin configuration\", \"Plugin configuration\", \"Plugin configuration\", \"Plugin configuration\", \"External dependencies configuration\", \"Build variables\", \"Plugin configuration\", \"External dependencies configuration\", \"External dependencies configuration\", \"Plugin configuration\", \"Plugin configuration\", \"External dependencies configuration\", \"Plugin configuration\", \"Plugin configuration\", \"Plugin configuration\", \"Plugin configuration\", \"Plugin configuration\", \"Plugin configuration\", \"Plugin configuration\", \"Plugin configuration\", \"Plugin configuration\", \"Plugin configuration\", \"External dependencies configuration\", \"Plugin configuration\", \"External dependencies configuration\", \"Plugin configuration\", \"Multi-directory configuration\", \"Plugin configuration\", \"External dependencies configuration\", \"Plugin configuration\", \"Plugin configuration\", \"Plugin configuration\", \"Plugin configuration\", \"Plugin configuration\", \"Plugin configuration\", \"Plugin configuration\", \"Plugin configuration\", \"Plugin configuration\", \"Plugin configuration\", \"External dependencies configuration\", \"Plugin configuration\", \"Plugin configuration\", \"Plugin configuration\", \"Plugin configuration\", \"Plugin configuration\", \"Plugin configuration\", \"Plugin configuration\", \"Plugin configuration\", \"Plugin configuration\", \"External dependencies configuration\", \"External dependencies configuration\", \"External dependencies configuration\", \"Plugin configuration\", \"Plugin configuration\", \"Build variables\", \"Plugin configuration\", \"External dependencies configuration\", \"Plugin configuration\", \"Plugin configuration\", \"External dependencies configuration\", \"External dependencies configuration\", \"Build variables\", \"External dependencies configuration\", \"Plugin configuration\", \"Build variables\", \"Plugin configuration\", \"Build variables\", \"Plugin configuration\", \"Plugin configuration\", \"Plugin configuration\", \"Plugin configuration\", \"Plugin configuration\", \"Plugin configuration\", \"Plugin configuration\", \"Plugin configuration\", \"Build variables\", \"External dependencies configuration\", \"Build variables\", \"Build variables\", \"Plugin configuration\", \"External dependencies configuration\", \"Build variables\", \"Plugin configuration\", \"Plugin configuration\", \"Build variables\", \"Plugin configuration\", \"Plugin configuration\", \"Plugin configuration\", \"Plugin configuration\", \"Plugin configuration\", \"Plugin configuration\", \"External dependencies configuration\", \"Plugin configuration\", \"External dependencies configuration\", \"Plugin configuration\", \"Plugin configuration\", \"Plugin configuration\", \"Plugin configuration\", \"Plugin configuration\", \"Plugin configuration\", \"External dependencies configuration\", \"Build variables\", \"Plugin configuration\", \"Plugin configuration\", \"External dependencies configuration\", \"Plugin configuration\", \"Build variables\", \"External dependencies configuration\", \"External dependencies configuration\", \"Plugin configuration\", \"Plugin configuration\", \"External dependencies configuration\", \"Plugin configuration\", \"External dependencies configuration\", \"Build variables\", \"Plugin configuration\", \"Plugin configuration\", \"Plugin configuration\", \"External dependencies configuration\", \"Plugin configuration\", \"Plugin configuration\", \"Plugin configuration\", \"Plugin configuration\", \"Plugin configuration\", \"Plugin configuration\", \"Plugin configuration\", \"Plugin configuration\", \"Plugin configuration\", \"Plugin configuration\", \"Plugin configuration\", \"Multi-directory configuration\", \"Plugin configuration\", \"Build variables\", \"External dependencies configuration\", \"External dependencies configuration\", \"Plugin configuration\", \"Build variables\", \"Plugin configuration\", \"Plugin configuration\", \"External dependencies configuration\", \"External dependencies configuration\", \"Plugin configuration\", \"Plugin configuration\", \"Plugin configuration\", \"Build variables\", \"External dependencies configuration\", \"Plugin configuration\", \"Plugin configuration\", \"External dependencies configuration\", \"Build variables\", \"Plugin configuration\", \"Plugin configuration\", \"Build variables\", \"Plugin configuration\", \"Plugin configuration\", \"Plugin configuration\", \"Build variables\", \"External dependencies configuration\", \"Plugin configuration\", \"Plugin configuration\", \"Build variables\", \"Plugin configuration\", \"Multi-directory configuration\", \"Plugin configuration\", \"Build variables\", \"Build variables\", \"Plugin configuration\", \"External dependencies configuration\", \"Plugin configuration\", \"Plugin configuration\", \"Plugin configuration\", \"External dependencies configuration\", \"Plugin configuration\", \"Build variables\", \"Build variables\", \"External dependencies configuration\", \"Build variables\", \"External dependencies configuration\", \"External dependencies configuration\", \"Plugin configuration\", \"Plugin configuration\", \"Build variables\", \"Build variables\", \"Plugin configuration\", \"Plugin configuration\", \"Build variables\", \"Resource configuration\", \"External dependencies configuration\", \"External dependencies configuration\", \"Plugin configuration\", \"Plugin configuration\", \"Plugin configuration\", \"Plugin configuration\", \"External dependencies configuration\", \"Plugin configuration\", \"Plugin configuration\", \"External dependencies configuration\", \"Plugin configuration\", \"Plugin configuration\", \"Build variables\", \"External dependencies configuration\", \"Build variables\", \"Plugin configuration\", \"Plugin configuration\", \"Plugin configuration\", \"Build variables\", \"Plugin configuration\", \"Plugin configuration\", \"Plugin configuration\", \"Plugin configuration\", \"Build variables\", \"External dependencies configuration\", \"External dependencies configuration\", \"Plugin configuration\", \"Plugin configuration\", \"Plugin configuration\", \"External dependencies configuration\", \"Plugin configuration\", \"Plugin configuration\", \"Plugin configuration\", \"Plugin configuration\", \"Plugin configuration\", \"Plugin configuration\", \"Plugin configuration\", \"Plugin configuration\", \"Plugin configuration\", \"Plugin configuration\", \"External dependencies configuration\", \"Repository configuration\", \"External dependencies configuration\", \"Repository configuration\", \"External dependencies configuration\", \"Plugin configuration\", \"External dependencies configuration\", \"External dependencies configuration\", \"External dependencies configuration\", \"Repository configuration\", \"External dependencies configuration\", \"External dependencies configuration\", \"External dependencies configuration\", \"External dependencies configuration\", \"External dependencies configuration\", \"External dependencies configuration\", \"Repository configuration\", \"Plugin configuration\", \"External dependencies configuration\", \"External dependencies configuration\", \"External dependencies configuration\", \"External dependencies configuration\", \"External dependencies configuration\", \"External dependencies configuration\", \"External dependencies configuration\", \"Plugin configuration\", \"External dependencies configuration\", \"Repository configuration\", \"External dependencies configuration\", \"Plugin configuration\", \"External dependencies configuration\", \"External dependencies configuration\", \"External dependencies configuration\", \"External dependencies configuration\", \"External dependencies configuration\", \"External dependencies configuration\", \"External dependencies configuration\", \"Plugin configuration\", \"External dependencies configuration\", \"External dependencies configuration\", \"Plugin configuration\", \"Plugin configuration\", \"External dependencies configuration\", \"External dependencies configuration\", \"External dependencies configuration\", \"External dependencies configuration\", \"External dependencies configuration\", \"External dependencies configuration\", \"Repository configuration\", \"External dependencies configuration\", \"External dependencies configuration\", \"External dependencies configuration\", \"External dependencies configuration\", \"External dependencies configuration\", \"External dependencies configuration\", \"Repository configuration\", \"Plugin configuration\", \"Build variables\", \"Plugin configuration\", \"External dependencies configuration\", \"Multi-directory configuration\", \"Build variables\", \"External dependencies configuration\", \"Plugin configuration\", \"External dependencies configuration\", \"Build variables\", \"Plugin configuration\", \"Plugin configuration\", \"Build variables\", \"Plugin configuration\", \"External dependencies configuration\", \"Build variables\", \"Plugin configuration\", \"Plugin configuration\", \"Build variables\", \"Plugin configuration\", \"Multi-directory configuration\", \"Plugin configuration\", \"External dependencies configuration\", \"Build variables\", \"Build variables\", \"Plugin configuration\", \"External dependencies configuration\", \"External dependencies configuration\", \"External dependencies configuration\", \"External dependencies configuration\", \"External dependencies configuration\", \"External dependencies configuration\", \"Plugin configuration\", \"External dependencies configuration\", \"External dependencies configuration\", \"External dependencies configuration\", \"Multi-directory configuration\", \"Build variables\", \"Plugin configuration\", \"External dependencies configuration\", \"Repository configuration\", \"External dependencies configuration\", \"Plugin configuration\", \"Build variables\", \"Build variables\", \"Plugin configuration\", \"Plugin configuration\", \"Plugin configuration\", \"Plugin configuration\", \"Build variables\", \"Plugin configuration\", \"Plugin configuration\", \"Plugin configuration\", \"Plugin configuration\", \"Multi-directory configuration\", \"Multi-directory configuration\", \"External dependencies configuration\", \"Plugin configuration\", \"Plugin configuration\", \"Plugin configuration\", \"External dependencies configuration\", \"Plugin configuration\", \"Plugin configuration\", \"External dependencies configuration\", \"External dependencies configuration\", \"Plugin configuration\", \"Plugin configuration\", \"Multi-directory configuration\", \"Plugin configuration\", \"Plugin configuration\", \"Build variables\", \"Project metadata\", \"Project metadata\", \"Build variables\", \"Build variables\", \"Project metadata\", \"Project metadata\", \"Project metadata\", \"Project metadata\", \"Build variables\", \"Build variables\", \"External dependencies configuration\", \"External dependencies configuration\", \"Plugin configuration\", \"External dependencies configuration\", \"External dependencies configuration\", \"External dependencies configuration\", \"External dependencies configuration\", \"Plugin configuration\", \"External dependencies configuration\", \"External dependencies configuration\", \"External dependencies configuration\", \"External dependencies configuration\", \"Plugin configuration\", \"Plugin configuration\", \"External dependencies configuration\", \"External dependencies configuration\", \"External dependencies configuration\", \"External dependencies configuration\", \"External dependencies configuration\", \"External dependencies configuration\", \"External dependencies configuration\", \"External dependencies configuration\", \"External dependencies configuration\", \"External dependencies configuration\", \"External dependencies configuration\", \"External dependencies configuration\", \"External dependencies configuration\", \"External dependencies configuration\", \"External dependencies configuration\", \"External dependencies configuration\", \"External dependencies configuration\", \"External dependencies configuration\", \"External dependencies configuration\", \"Plugin configuration\", \"Plugin configuration\", \"Build variables\", \"External dependencies configuration\", \"External dependencies configuration\", \"Build variables\", \"External dependencies configuration\", \"External dependencies configuration\", \"External dependencies configuration\", \"External dependencies configuration\", \"External dependencies configuration\", \"External dependencies configuration\", \"External dependencies configuration\", \"Plugin configuration\", \"External dependencies configuration\", \"External dependencies configuration\", \"Plugin configuration\", \"Plugin configuration\"]}, {\"label\": \"Reason\", \"values\": [\"Breakage and Design\", \"Breakage and Design\", \"Breakage and Design\", \"Breakage and Design\", \"Breakage and Design\", \"Breakage and Design\", \"Breakage and Design\", \"Breakage and Design\", \"Breakage and Design\", \"Breakage and Design\", \"Breakage and Design\", \"Breakage and Design\", \"Breakage and Design\", \"Breakage and Design\", \"Breakage and Design\", \"Breakage and Design\", \"Breakage and Design\", \"Breakage and Design\", \"Breakage and Design\", \"Breakage and Design\", \"Breakage and Design\", \"Breakage and Design\", \"Limitation\", \"Limitation\", \"Limitation\", \"Limitation\", \"Limitation\", \"Limitation\", \"Limitation\", \"Limitation\", \"Limitation\", \"Limitation\", \"Limitation\", \"Limitation\", \"Limitation\", \"Limitation\", \"Limitation\", \"Consistency\", \"Consistency\", \"Breakage and Design\", \"Breakage and Design\", \"Breakage and Design\", \"Compiler setting\", \"Compiler setting\", \"Compiler setting\", \"Compiler setting\", \"Compiler setting\", \"Compiler setting\", \"Compiler setting\", \"Compiler setting\", \"Compiler setting\", \"Compiler setting\", \"Compiler setting\", \"Compiler setting\", \"Compiler setting\", \"Compiler setting\", \"Compiler setting\", \"Compiler setting\", \"Installation and Deployment\", \"Installation and Deployment\", \"Installation and Deployment\", \"Installation and Deployment\", \"Installation and Deployment\", \"Installation and Deployment\", \"Limitation\", \"Limitation\", \"Limitation\", \"Limitation\", \"Limitation\", \"Limitation\", \"Limitation\", \"Limitation\", \"Limitation\", \"Limitation\", \"Limitation\", \"Limitation\", \"Limitation\", \"Limitation\", \"Limitation\", \"Limitation\", \"Limitation\", \"Limitation\", \"Limitation\", \"Limitation\", \"Limitation\", \"Limitation\", \"Limitation\", \"Limitation\", \"Limitation\", \"Limitation\", \"Limitation\", \"Limitation\", \"Limitation\", \"Limitation\", \"Limitation\", \"Limitation\", \"Limitation\", \"Limitation\", \"Limitation\", \"Limitation\", \"Limitation\", \"Limitation\", \"Limitation\", \"Limitation\", \"Limitation\", \"Limitation\", \"Limitation\", \"Limitation\", \"Limitation\", \"Limitation\", \"Limitation\", \"Limitation\", \"Limitation\", \"Limitation\", \"Limitation\", \"Limitation\", \"Limitation\", \"Limitation\", \"Limitation\", \"Limitation\", \"Limitation\", \"Limitation\", \"Limitation\", \"Limitation\", \"Limitation\", \"Limitation\", \"Limitation\", \"Limitation\", \"Limitation\", \"Limitation\", \"Limitation\", \"Limitation\", \"Limitation\", \"Limitation\", \"Limitation\", \"Limitation\", \"Limitation\", \"Limitation\", \"Limitation\", \"Limitation\", \"Limitation\", \"Limitation\", \"Limitation\", \"Limitation\", \"Limitation\", \"Limitation\", \"Limitation\", \"Limitation\", \"Limitation\", \"Limitation\", \"Limitation\", \"Limitation\", \"Limitation\", \"Limitation\", \"Limitation\", \"Limitation\", \"Limitation\", \"Limitation\", \"Limitation\", \"Limitation\", \"Limitation\", \"Limitation\", \"Limitation\", \"Limitation\", \"Limitation\", \"Limitation\", \"Limitation\", \"Limitation\", \"Limitation\", \"Limitation\", \"Limitation\", \"Limitation\", \"Limitation\", \"Limitation\", \"Limitation\", \"Limitation\", \"Limitation\", \"Limitation\", \"Limitation\", \"Limitation\", \"Limitation\", \"Limitation\", \"Limitation\", \"Limitation\", \"Limitation\", \"Limitation\", \"Limitation\", \"Limitation\", \"Limitation\", \"Limitation\", \"Limitation\", \"Limitation\", \"Limitation\", \"Limitation\", \"Limitation\", \"Limitation\", \"Limitation\", \"Limitation\", \"Limitation\", \"Limitation\", \"Limitation\", \"Limitation\", \"Limitation\", \"Limitation\", \"Limitation\", \"Limitation\", \"Limitation\", \"Limitation\", \"Limitation\", \"Limitation\", \"Limitation\", \"Limitation\", \"Limitation\", \"Limitation\", \"Limitation\", \"Limitation\", \"Limitation\", \"Limitation\", \"Limitation\", \"Limitation\", \"Limitation\", \"Limitation\", \"Limitation\", \"Limitation\", \"Limitation\", \"Limitation\", \"Limitation\", \"Limitation\", \"Limitation\", \"Limitation\", \"Limitation\", \"Limitation\", \"Limitation\", \"Limitation\", \"Limitation\", \"Limitation\", \"Limitation\", \"Limitation\", \"Limitation\", \"Limitation\", \"Limitation\", \"Limitation\", \"Limitation\", \"Limitation\", \"Limitation\", \"Limitation\", \"Limitation\", \"Limitation\", \"Limitation\", \"Limitation\", \"Limitation\", \"Limitation\", \"Limitation\", \"Limitation\", \"Limitation\", \"Limitation\", \"Limitation\", \"Limitation\", \"Limitation\", \"Limitation\", \"Limitation\", \"Limitation\", \"Limitation\", \"Limitation\", \"Limitation\", \"Limitation\", \"Limitation\", \"Limitation\", \"Limitation\", \"Limitation\", \"Limitation\", \"Limitation\", \"Limitation\", \"Limitation\", \"Limitation\", \"Limitation\", \"Limitation\", \"Limitation\", \"Limitation\", \"Limitation\", \"Limitation\", \"Limitation\", \"Limitation\", \"Limitation\", \"Limitation\", \"Limitation\", \"Limitation\", \"Limitation\", \"Limitation\", \"Limitation\", \"Limitation\", \"Limitation\", \"Limitation\", \"Limitation\", \"Installation and Deployment\", \"Installation and Deployment\", \"Installation and Deployment\", \"Installation and Deployment\", \"Installation and Deployment\", \"Installation and Deployment\", \"Document\", \"Document\", \"Document\", \"Document\", \"Document\", \"Document\", \"Document\", \"Document\", \"Document\", \"Document\", \"Document\", \"Dependency\", \"Dependency\", \"Dependency\", \"Dependency\", \"Dependency\", \"Dependency\", \"Dependency\", \"Dependency\", \"Dependency\", \"Dependency\", \"Dependency\", \"Dependency\", \"Dependency\", \"Dependency\", \"Dependency\", \"Dependency\", \"Dependency\", \"Dependency\", \"Dependency\", \"Dependency\", \"Dependency\", \"Dependency\", \"Dependency\", \"Dependency\", \"Dependency\", \"Dependency\", \"Dependency\", \"Dependency\", \"Dependency\", \"Dependency\", \"Dependency\", \"Dependency\", \"Dependency\", \"Dependency\", \"Dependency\", \"Dependency\", \"Dependency\", \"Dependency\", \"Dependency\", \"Dependency\", \"Dependency\", \"Dependency\", \"Dependency\", \"Dependency\", \"Dependency\", \"Dependency\", \"Dependency\", \"Dependency\", \"Dependency\", \"Dependency\", \"Dependency\", \"Dependency\", \"Dependency\", \"Dependency\", \"Dependency\", \"Dependency\", \"Lack of information\", \"Lack of information\", \"Lack of information\", \"Lack of information\", \"Lack of information\", \"Lack of information\", \"Lack of information\", \"Lack of information\", \"Lack of information\", \"Lack of information\", \"Lack of information\", \"Lack of information\", \"Lack of information\", \"Lack of information\", \"Lack of information\", \"Lack of information\", \"Lack of information\", \"Lack of information\", \"Lack of information\", \"Lack of information\", \"Lack of information\", \"Lack of information\", \"Lack of information\", \"Lack of information\", \"Lack of information\", \"Dependency\", \"Dependency\", \"Dependency\", \"Dependency\", \"Dependency\", \"Dependency\", \"Dependency\", \"Dependency\", \"Dependency\", \"Dependency\", \"Dependency\", \"Dependency\", \"Consistency\", \"Consistency\", \"Consistency\", \"Consistency\", \"Consistency\", \"Consistency\", \"Consistency\", \"Consistency\", \"Consistency\", \"Consistency\", \"Consistency\", \"Consistency\", \"Consistency\", \"Consistency\", \"Consistency\", \"Consistency\", \"Consistency\", \"Consistency\", \"Consistency\", \"Consistency\", \"Consistency\", \"Consistency\", \"Consistency\", \"Consistency\", \"Consistency\", \"Consistency\", \"Consistency\", \"Consistency\", \"Consistency\", \"Consistency\", \"Consistency\", \"Consistency\", \"Consistency\", \"Document\", \"Document\", \"Document\", \"Document\", \"Document\", \"Document\", \"Document\", \"Document\", \"Document\", \"Document\", \"Document\", \"Document\", \"Dependency\", \"Dependency\", \"Dependency\", \"Dependency\", \"Dependency\", \"Dependency\", \"Dependency\", \"Dependency\", \"Dependency\", \"Dependency\", \"Dependency\", \"Dependency\", \"Dependency\", \"Dependency\", \"Dependency\", \"Dependency\", \"Dependency\", \"Dependency\", \"Dependency\", \"Dependency\", \"Dependency\", \"Dependency\", \"Dependency\", \"Dependency\", \"Dependency\", \"Dependency\", \"Dependency\", \"Dependency\", \"Dependency\", \"Dependency\", \"Dependency\", \"Dependency\", \"Dependency\", \"Dependency\", \"Dependency\", \"Dependency\", \"Dependency\", \"Dependency\", \"Dependency\", \"Dependency\", \"Dependency\", \"Dependency\", \"Dependency\", \"Dependency\", \"Dependency\", \"Dependency\", \"Dependency\", \"Dependency\", \"Dependency\", \"Compiler setting\", \"Compiler setting\"]}], \"hoverinfo\": \"count+probability\", \"hoveron\": \"color\", \"labelfont\": {\"family\": \"Times\", \"size\": 14}, \"line\": {\"color\": [15, 8, 15, 15, 15, 15, 15, 8, 8, 8, 8, 15, 8, 8, 1, 15, 15, 15, 15, 15, 15, 8, 155, 155, 3, 3, 155, 3, 2, 155, 49, 155, 155, 2, 155, 32, 155, 1, 5, 15, 15, 1, 8, 8, 8, 8, 8, 1, 8, 8, 8, 8, 8, 8, 8, 1, 8, 8, 4, 5, 5, 5, 5, 1, 49, 155, 155, 155, 155, 155, 155, 155, 155, 155, 155, 155, 155, 155, 49, 49, 155, 155, 155, 49, 49, 155, 155, 155, 155, 49, 32, 155, 49, 49, 155, 155, 49, 155, 155, 155, 155, 155, 155, 155, 155, 155, 155, 49, 155, 49, 155, 3, 155, 49, 155, 155, 155, 155, 155, 155, 155, 155, 155, 155, 49, 155, 155, 155, 155, 155, 155, 155, 155, 155, 49, 49, 49, 155, 155, 32, 155, 49, 155, 155, 49, 49, 32, 49, 155, 32, 155, 32, 155, 155, 155, 155, 155, 155, 155, 155, 32, 49, 32, 32, 155, 49, 32, 155, 155, 32, 155, 155, 155, 155, 155, 155, 49, 155, 49, 155, 155, 155, 155, 155, 155, 49, 32, 155, 155, 49, 155, 32, 49, 49, 155, 155, 49, 155, 49, 32, 155, 155, 155, 49, 155, 155, 155, 155, 155, 155, 155, 155, 155, 155, 155, 3, 155, 32, 49, 49, 155, 32, 155, 155, 49, 49, 155, 155, 155, 32, 49, 155, 155, 49, 32, 155, 155, 32, 155, 155, 155, 32, 49, 155, 155, 32, 155, 3, 155, 32, 32, 155, 49, 155, 155, 155, 49, 155, 32, 32, 49, 32, 49, 49, 155, 155, 32, 32, 155, 155, 32, 1, 49, 49, 155, 155, 155, 155, 49, 155, 155, 49, 155, 155, 32, 49, 32, 155, 155, 155, 32, 155, 155, 155, 4, 5, 2, 2, 4, 4, 11, 1, 11, 11, 11, 11, 11, 11, 11, 11, 11, 17, 91, 6, 91, 6, 91, 17, 91, 91, 91, 6, 91, 91, 91, 91, 91, 91, 6, 17, 91, 91, 91, 91, 91, 91, 91, 17, 91, 6, 91, 17, 91, 91, 91, 91, 91, 91, 91, 17, 91, 91, 17, 17, 91, 91, 91, 91, 91, 91, 6, 91, 91, 91, 91, 91, 91, 1, 10, 7, 10, 5, 2, 7, 5, 10, 5, 7, 10, 10, 7, 10, 5, 7, 10, 10, 7, 10, 2, 10, 5, 7, 3, 17, 91, 91, 91, 91, 91, 91, 17, 91, 91, 91, 4, 5, 18, 6, 1, 6, 18, 5, 5, 18, 18, 18, 18, 5, 18, 18, 18, 18, 4, 4, 6, 18, 18, 18, 6, 18, 18, 6, 6, 18, 18, 4, 18, 11, 5, 6, 6, 5, 5, 6, 6, 6, 6, 5, 5, 91, 91, 17, 91, 91, 91, 91, 17, 91, 91, 91, 91, 17, 17, 91, 91, 91, 91, 91, 91, 91, 91, 91, 91, 91, 91, 91, 91, 91, 91, 91, 91, 91, 17, 17, 3, 91, 91, 3, 91, 91, 91, 91, 91, 91, 91, 17, 91, 91, 8, 8], \"colorbar\": {\"len\": 0.7, \"thickness\": 10, \"x\": 1.5}, \"colorscale\": [[0.0, \"rgb(0, 0, 0)\"], [0.09090909090909091, \"rgb(16, 16, 16)\"], [0.18181818181818182, \"rgb(38, 38, 38)\"], [0.2727272727272727, \"rgb(59, 59, 59)\"], [0.36363636363636365, \"rgb(81, 80, 80)\"], [0.45454545454545453, \"rgb(102, 101, 101)\"], [0.5454545454545454, \"rgb(124, 123, 122)\"], [0.6363636363636364, \"rgb(146, 146, 145)\"], [0.7272727272727273, \"rgb(171, 171, 170)\"], [0.8181818181818182, \"rgb(197, 197, 195)\"], [0.9090909090909091, \"rgb(224, 224, 223)\"], [1.0, \"rgb(254, 254, 253)\"]], \"reversescale\": true, \"shape\": \"hspline\", \"showscale\": true}, \"tickfont\": {\"family\": \"Times\", \"size\": 12}, \"type\": \"parcats\"}],\n",
       "                        {\"margin\": {\"b\": 10, \"l\": 150, \"pad\": 0, \"r\": 150, \"t\": 20}, \"template\": {\"data\": {\"bar\": [{\"error_x\": {\"color\": \"#2a3f5f\"}, \"error_y\": {\"color\": \"#2a3f5f\"}, \"marker\": {\"line\": {\"color\": \"#E5ECF6\", \"width\": 0.5}}, \"type\": \"bar\"}], \"barpolar\": [{\"marker\": {\"line\": {\"color\": \"#E5ECF6\", \"width\": 0.5}}, \"type\": \"barpolar\"}], \"carpet\": [{\"aaxis\": {\"endlinecolor\": \"#2a3f5f\", \"gridcolor\": \"white\", \"linecolor\": \"white\", \"minorgridcolor\": \"white\", \"startlinecolor\": \"#2a3f5f\"}, \"baxis\": {\"endlinecolor\": \"#2a3f5f\", \"gridcolor\": \"white\", \"linecolor\": \"white\", \"minorgridcolor\": \"white\", \"startlinecolor\": \"#2a3f5f\"}, \"type\": \"carpet\"}], \"choropleth\": [{\"colorbar\": {\"outlinewidth\": 0, \"ticks\": \"\"}, \"type\": \"choropleth\"}], \"contour\": [{\"colorbar\": {\"outlinewidth\": 0, \"ticks\": \"\"}, \"colorscale\": [[0.0, \"#0d0887\"], [0.1111111111111111, \"#46039f\"], [0.2222222222222222, \"#7201a8\"], [0.3333333333333333, \"#9c179e\"], [0.4444444444444444, \"#bd3786\"], [0.5555555555555556, \"#d8576b\"], [0.6666666666666666, \"#ed7953\"], [0.7777777777777778, \"#fb9f3a\"], [0.8888888888888888, \"#fdca26\"], [1.0, \"#f0f921\"]], \"type\": \"contour\"}], \"contourcarpet\": [{\"colorbar\": {\"outlinewidth\": 0, \"ticks\": \"\"}, \"type\": \"contourcarpet\"}], \"heatmap\": [{\"colorbar\": {\"outlinewidth\": 0, \"ticks\": \"\"}, \"colorscale\": [[0.0, \"#0d0887\"], [0.1111111111111111, \"#46039f\"], [0.2222222222222222, \"#7201a8\"], [0.3333333333333333, \"#9c179e\"], [0.4444444444444444, \"#bd3786\"], [0.5555555555555556, \"#d8576b\"], [0.6666666666666666, \"#ed7953\"], [0.7777777777777778, \"#fb9f3a\"], [0.8888888888888888, \"#fdca26\"], [1.0, \"#f0f921\"]], \"type\": \"heatmap\"}], \"heatmapgl\": [{\"colorbar\": {\"outlinewidth\": 0, \"ticks\": \"\"}, \"colorscale\": [[0.0, \"#0d0887\"], [0.1111111111111111, \"#46039f\"], [0.2222222222222222, \"#7201a8\"], [0.3333333333333333, \"#9c179e\"], [0.4444444444444444, \"#bd3786\"], [0.5555555555555556, \"#d8576b\"], [0.6666666666666666, \"#ed7953\"], [0.7777777777777778, \"#fb9f3a\"], [0.8888888888888888, \"#fdca26\"], [1.0, \"#f0f921\"]], \"type\": \"heatmapgl\"}], \"histogram\": [{\"marker\": {\"colorbar\": {\"outlinewidth\": 0, \"ticks\": \"\"}}, \"type\": \"histogram\"}], \"histogram2d\": [{\"colorbar\": {\"outlinewidth\": 0, \"ticks\": \"\"}, \"colorscale\": [[0.0, \"#0d0887\"], [0.1111111111111111, \"#46039f\"], [0.2222222222222222, \"#7201a8\"], [0.3333333333333333, \"#9c179e\"], [0.4444444444444444, \"#bd3786\"], [0.5555555555555556, \"#d8576b\"], [0.6666666666666666, \"#ed7953\"], [0.7777777777777778, \"#fb9f3a\"], [0.8888888888888888, \"#fdca26\"], [1.0, \"#f0f921\"]], \"type\": \"histogram2d\"}], \"histogram2dcontour\": [{\"colorbar\": {\"outlinewidth\": 0, \"ticks\": \"\"}, \"colorscale\": [[0.0, \"#0d0887\"], [0.1111111111111111, \"#46039f\"], [0.2222222222222222, \"#7201a8\"], [0.3333333333333333, \"#9c179e\"], [0.4444444444444444, \"#bd3786\"], [0.5555555555555556, \"#d8576b\"], [0.6666666666666666, \"#ed7953\"], [0.7777777777777778, \"#fb9f3a\"], [0.8888888888888888, \"#fdca26\"], [1.0, \"#f0f921\"]], \"type\": \"histogram2dcontour\"}], \"mesh3d\": [{\"colorbar\": {\"outlinewidth\": 0, \"ticks\": \"\"}, \"type\": \"mesh3d\"}], \"parcoords\": [{\"line\": {\"colorbar\": {\"outlinewidth\": 0, \"ticks\": \"\"}}, \"type\": \"parcoords\"}], \"pie\": [{\"automargin\": true, \"type\": \"pie\"}], \"scatter\": [{\"marker\": {\"colorbar\": {\"outlinewidth\": 0, \"ticks\": \"\"}}, \"type\": \"scatter\"}], \"scatter3d\": [{\"line\": {\"colorbar\": {\"outlinewidth\": 0, \"ticks\": \"\"}}, \"marker\": {\"colorbar\": {\"outlinewidth\": 0, \"ticks\": \"\"}}, \"type\": \"scatter3d\"}], \"scattercarpet\": [{\"marker\": {\"colorbar\": {\"outlinewidth\": 0, \"ticks\": \"\"}}, \"type\": \"scattercarpet\"}], \"scattergeo\": [{\"marker\": {\"colorbar\": {\"outlinewidth\": 0, \"ticks\": \"\"}}, \"type\": \"scattergeo\"}], \"scattergl\": [{\"marker\": {\"colorbar\": {\"outlinewidth\": 0, \"ticks\": \"\"}}, \"type\": \"scattergl\"}], \"scattermapbox\": [{\"marker\": {\"colorbar\": {\"outlinewidth\": 0, \"ticks\": \"\"}}, \"type\": \"scattermapbox\"}], \"scatterpolar\": [{\"marker\": {\"colorbar\": {\"outlinewidth\": 0, \"ticks\": \"\"}}, \"type\": \"scatterpolar\"}], \"scatterpolargl\": [{\"marker\": {\"colorbar\": {\"outlinewidth\": 0, \"ticks\": \"\"}}, \"type\": \"scatterpolargl\"}], \"scatterternary\": [{\"marker\": {\"colorbar\": {\"outlinewidth\": 0, \"ticks\": \"\"}}, \"type\": \"scatterternary\"}], \"surface\": [{\"colorbar\": {\"outlinewidth\": 0, \"ticks\": \"\"}, \"colorscale\": [[0.0, \"#0d0887\"], [0.1111111111111111, \"#46039f\"], [0.2222222222222222, \"#7201a8\"], [0.3333333333333333, \"#9c179e\"], [0.4444444444444444, \"#bd3786\"], [0.5555555555555556, \"#d8576b\"], [0.6666666666666666, \"#ed7953\"], [0.7777777777777778, \"#fb9f3a\"], [0.8888888888888888, \"#fdca26\"], [1.0, \"#f0f921\"]], \"type\": \"surface\"}], \"table\": [{\"cells\": {\"fill\": {\"color\": \"#EBF0F8\"}, \"line\": {\"color\": \"white\"}}, \"header\": {\"fill\": {\"color\": \"#C8D4E3\"}, \"line\": {\"color\": \"white\"}}, \"type\": \"table\"}]}, \"layout\": {\"annotationdefaults\": {\"arrowcolor\": \"#2a3f5f\", \"arrowhead\": 0, \"arrowwidth\": 1}, \"coloraxis\": {\"colorbar\": {\"outlinewidth\": 0, \"ticks\": \"\"}}, \"colorscale\": {\"diverging\": [[0, \"#8e0152\"], [0.1, \"#c51b7d\"], [0.2, \"#de77ae\"], [0.3, \"#f1b6da\"], [0.4, \"#fde0ef\"], [0.5, \"#f7f7f7\"], [0.6, \"#e6f5d0\"], [0.7, \"#b8e186\"], [0.8, \"#7fbc41\"], [0.9, \"#4d9221\"], [1, \"#276419\"]], \"sequential\": [[0.0, \"#0d0887\"], [0.1111111111111111, \"#46039f\"], [0.2222222222222222, \"#7201a8\"], [0.3333333333333333, \"#9c179e\"], [0.4444444444444444, \"#bd3786\"], [0.5555555555555556, \"#d8576b\"], [0.6666666666666666, \"#ed7953\"], [0.7777777777777778, \"#fb9f3a\"], [0.8888888888888888, \"#fdca26\"], [1.0, \"#f0f921\"]], \"sequentialminus\": [[0.0, \"#0d0887\"], [0.1111111111111111, \"#46039f\"], [0.2222222222222222, \"#7201a8\"], [0.3333333333333333, \"#9c179e\"], [0.4444444444444444, \"#bd3786\"], [0.5555555555555556, \"#d8576b\"], [0.6666666666666666, \"#ed7953\"], [0.7777777777777778, \"#fb9f3a\"], [0.8888888888888888, \"#fdca26\"], [1.0, \"#f0f921\"]]}, \"colorway\": [\"#636efa\", \"#EF553B\", \"#00cc96\", \"#ab63fa\", \"#FFA15A\", \"#19d3f3\", \"#FF6692\", \"#B6E880\", \"#FF97FF\", \"#FECB52\"], \"font\": {\"color\": \"#2a3f5f\"}, \"geo\": {\"bgcolor\": \"white\", \"lakecolor\": \"white\", \"landcolor\": \"#E5ECF6\", \"showlakes\": true, \"showland\": true, \"subunitcolor\": \"white\"}, \"hoverlabel\": {\"align\": \"left\"}, \"hovermode\": \"closest\", \"mapbox\": {\"style\": \"light\"}, \"paper_bgcolor\": \"white\", \"plot_bgcolor\": \"#E5ECF6\", \"polar\": {\"angularaxis\": {\"gridcolor\": \"white\", \"linecolor\": \"white\", \"ticks\": \"\"}, \"bgcolor\": \"#E5ECF6\", \"radialaxis\": {\"gridcolor\": \"white\", \"linecolor\": \"white\", \"ticks\": \"\"}}, \"scene\": {\"xaxis\": {\"backgroundcolor\": \"#E5ECF6\", \"gridcolor\": \"white\", \"gridwidth\": 2, \"linecolor\": \"white\", \"showbackground\": true, \"ticks\": \"\", \"zerolinecolor\": \"white\"}, \"yaxis\": {\"backgroundcolor\": \"#E5ECF6\", \"gridcolor\": \"white\", \"gridwidth\": 2, \"linecolor\": \"white\", \"showbackground\": true, \"ticks\": \"\", \"zerolinecolor\": \"white\"}, \"zaxis\": {\"backgroundcolor\": \"#E5ECF6\", \"gridcolor\": \"white\", \"gridwidth\": 2, \"linecolor\": \"white\", \"showbackground\": true, \"ticks\": \"\", \"zerolinecolor\": \"white\"}}, \"shapedefaults\": {\"line\": {\"color\": \"#2a3f5f\"}}, \"ternary\": {\"aaxis\": {\"gridcolor\": \"white\", \"linecolor\": \"white\", \"ticks\": \"\"}, \"baxis\": {\"gridcolor\": \"white\", \"linecolor\": \"white\", \"ticks\": \"\"}, \"bgcolor\": \"#E5ECF6\", \"caxis\": {\"gridcolor\": \"white\", \"linecolor\": \"white\", \"ticks\": \"\"}}, \"title\": {\"x\": 0.05}, \"xaxis\": {\"automargin\": true, \"gridcolor\": \"white\", \"linecolor\": \"white\", \"ticks\": \"\", \"title\": {\"standoff\": 15}, \"zerolinecolor\": \"white\", \"zerolinewidth\": 2}, \"yaxis\": {\"automargin\": true, \"gridcolor\": \"white\", \"linecolor\": \"white\", \"ticks\": \"\", \"title\": {\"standoff\": 15}, \"zerolinecolor\": \"white\", \"zerolinewidth\": 2}}}},\n",
       "                        {\"responsive\": true}\n",
       "                    ).then(function(){\n",
       "                            \n",
       "var gd = document.getElementById('55db968c-2c13-4ced-85ce-b48241527f31');\n",
       "var x = new MutationObserver(function (mutations, observer) {{\n",
       "        var display = window.getComputedStyle(gd).display;\n",
       "        if (!display || display === 'none') {{\n",
       "            console.log([gd, 'removed!']);\n",
       "            Plotly.purge(gd);\n",
       "            observer.disconnect();\n",
       "        }}\n",
       "}});\n",
       "\n",
       "// Listen for the removal of the full notebook cells\n",
       "var notebookContainer = gd.closest('#notebook-container');\n",
       "if (notebookContainer) {{\n",
       "    x.observe(notebookContainer, {childList: true});\n",
       "}}\n",
       "\n",
       "// Listen for the clearing of the current output cell\n",
       "var outputEl = gd.closest('.output');\n",
       "if (outputEl) {{\n",
       "    x.observe(outputEl, {childList: true});\n",
       "}}\n",
       "\n",
       "                        })\n",
       "                };\n",
       "                });\n",
       "            </script>\n",
       "        </div>"
      ]
     },
     "metadata": {},
     "output_type": "display_data"
    }
   ],
   "source": [
    "# Draw location-reason diagram \n",
    "import plotly.graph_objects as go\n",
    "\n",
    "color = df.location_reason;\n",
    "\n",
    "\n",
    "fig = go.Figure(data = [go.Parcats(\n",
    "        dimensions=[\n",
    "        {'label': 'Location',\n",
    "         'values': df['Location']},\n",
    "        {'label': 'Reason',\n",
    "         'values': df['Reason']}],\n",
    "        line={'shape': 'hspline',\n",
    "              'color' : color ,'colorscale' : 'gray', 'reversescale' : True, 'showscale': True, \n",
    "              'colorbar': {'thickness': 10, 'x': 1.5, 'len': 0.7}},\n",
    "        hoveron='color', hoverinfo='count+probability',\n",
    "        labelfont={'size': 14, 'family': 'Times'},\n",
    "        tickfont={'size': 12, 'family': 'Times'},\n",
    "        arrangement='freeform')])\n",
    "\n",
    "fig.update_layout(\n",
    "    margin=dict(\n",
    "        l=150,\n",
    "        r=150,\n",
    "        b=10,\n",
    "        t=20,\n",
    "        pad=0\n",
    "    )\n",
    ")\n",
    "fig.show()\n"
   ]
  },
  {
   "cell_type": "code",
   "execution_count": 20,
   "metadata": {},
   "outputs": [
    {
     "data": {
      "application/vnd.plotly.v1+json": {
       "config": {
        "plotlyServerURL": "https://plot.ly"
       },
       "data": [
        {
         "arrangement": "freeform",
         "dimensions": [
          {
           "label": "Location",
           "values": [
            "Plugin configuration",
            "Build variables",
            "Plugin configuration",
            "Plugin configuration",
            "Plugin configuration",
            "Plugin configuration",
            "Plugin configuration",
            "Build variables",
            "Build variables",
            "Build variables",
            "Build variables",
            "Plugin configuration",
            "Build variables",
            "Build variables",
            "Multi-directory configuration",
            "Plugin configuration",
            "Plugin configuration",
            "Plugin configuration",
            "Plugin configuration",
            "Plugin configuration",
            "Plugin configuration",
            "Build variables",
            "Plugin configuration",
            "Plugin configuration",
            "Build organization",
            "Build organization",
            "Plugin configuration",
            "Build organization",
            "Software configuration management",
            "Plugin configuration",
            "External dependencies configuration",
            "Plugin configuration",
            "Plugin configuration",
            "Software configuration management",
            "Plugin configuration",
            "Build variables",
            "Plugin configuration",
            "Resource configuration",
            "Build variables",
            "Plugin configuration",
            "Plugin configuration",
            "External dependencies configuration",
            "Plugin configuration",
            "Plugin configuration",
            "Plugin configuration",
            "Resource configuration",
            "Resource configuration",
            "Build variables",
            "Resource configuration",
            "Plugin configuration",
            "Resource configuration",
            "Resource configuration",
            "Resource configuration",
            "Resource configuration",
            "Plugin configuration",
            "External dependencies configuration",
            "Resource configuration",
            "Plugin configuration",
            "Plugin configuration",
            "Build variables",
            "Build variables",
            "Build variables",
            "Build variables",
            "Repository configuration",
            "External dependencies configuration",
            "Plugin configuration",
            "Plugin configuration",
            "Plugin configuration",
            "Plugin configuration",
            "Plugin configuration",
            "Plugin configuration",
            "Plugin configuration",
            "Plugin configuration",
            "Plugin configuration",
            "Plugin configuration",
            "Plugin configuration",
            "Plugin configuration",
            "Plugin configuration",
            "External dependencies configuration",
            "External dependencies configuration",
            "Plugin configuration",
            "Plugin configuration",
            "Plugin configuration",
            "External dependencies configuration",
            "External dependencies configuration",
            "Plugin configuration",
            "Plugin configuration",
            "Plugin configuration",
            "Plugin configuration",
            "External dependencies configuration",
            "Build variables",
            "Plugin configuration",
            "External dependencies configuration",
            "External dependencies configuration",
            "Plugin configuration",
            "Plugin configuration",
            "External dependencies configuration",
            "Plugin configuration",
            "Plugin configuration",
            "Plugin configuration",
            "Plugin configuration",
            "Plugin configuration",
            "Plugin configuration",
            "Plugin configuration",
            "Plugin configuration",
            "Plugin configuration",
            "Plugin configuration",
            "External dependencies configuration",
            "Plugin configuration",
            "External dependencies configuration",
            "Plugin configuration",
            "Multi-directory configuration",
            "Plugin configuration",
            "External dependencies configuration",
            "Plugin configuration",
            "Plugin configuration",
            "Plugin configuration",
            "Plugin configuration",
            "Plugin configuration",
            "Plugin configuration",
            "Plugin configuration",
            "Plugin configuration",
            "Plugin configuration",
            "Plugin configuration",
            "External dependencies configuration",
            "Plugin configuration",
            "Plugin configuration",
            "Plugin configuration",
            "Plugin configuration",
            "Plugin configuration",
            "Plugin configuration",
            "Plugin configuration",
            "Plugin configuration",
            "Plugin configuration",
            "External dependencies configuration",
            "External dependencies configuration",
            "External dependencies configuration",
            "Plugin configuration",
            "Plugin configuration",
            "Build variables",
            "Plugin configuration",
            "External dependencies configuration",
            "Plugin configuration",
            "Plugin configuration",
            "External dependencies configuration",
            "External dependencies configuration",
            "Build variables",
            "External dependencies configuration",
            "Plugin configuration",
            "Build variables",
            "Plugin configuration",
            "Build variables",
            "Plugin configuration",
            "Plugin configuration",
            "Plugin configuration",
            "Plugin configuration",
            "Plugin configuration",
            "Plugin configuration",
            "Plugin configuration",
            "Plugin configuration",
            "Build variables",
            "External dependencies configuration",
            "Build variables",
            "Build variables",
            "Plugin configuration",
            "External dependencies configuration",
            "Build variables",
            "Plugin configuration",
            "Plugin configuration",
            "Build variables",
            "Plugin configuration",
            "Plugin configuration",
            "Plugin configuration",
            "Plugin configuration",
            "Plugin configuration",
            "Plugin configuration",
            "External dependencies configuration",
            "Plugin configuration",
            "External dependencies configuration",
            "Plugin configuration",
            "Plugin configuration",
            "Plugin configuration",
            "Plugin configuration",
            "Plugin configuration",
            "Plugin configuration",
            "External dependencies configuration",
            "Build variables",
            "Plugin configuration",
            "Plugin configuration",
            "External dependencies configuration",
            "Plugin configuration",
            "Build variables",
            "External dependencies configuration",
            "External dependencies configuration",
            "Plugin configuration",
            "Plugin configuration",
            "External dependencies configuration",
            "Plugin configuration",
            "External dependencies configuration",
            "Build variables",
            "Plugin configuration",
            "Plugin configuration",
            "Plugin configuration",
            "External dependencies configuration",
            "Plugin configuration",
            "Plugin configuration",
            "Plugin configuration",
            "Plugin configuration",
            "Plugin configuration",
            "Plugin configuration",
            "Plugin configuration",
            "Plugin configuration",
            "Plugin configuration",
            "Plugin configuration",
            "Plugin configuration",
            "Multi-directory configuration",
            "Plugin configuration",
            "Build variables",
            "External dependencies configuration",
            "External dependencies configuration",
            "Plugin configuration",
            "Build variables",
            "Plugin configuration",
            "Plugin configuration",
            "External dependencies configuration",
            "External dependencies configuration",
            "Plugin configuration",
            "Plugin configuration",
            "Plugin configuration",
            "Build variables",
            "External dependencies configuration",
            "Plugin configuration",
            "Plugin configuration",
            "External dependencies configuration",
            "Build variables",
            "Plugin configuration",
            "Plugin configuration",
            "Build variables",
            "Plugin configuration",
            "Plugin configuration",
            "Plugin configuration",
            "Build variables",
            "External dependencies configuration",
            "Plugin configuration",
            "Plugin configuration",
            "Build variables",
            "Plugin configuration",
            "Multi-directory configuration",
            "Plugin configuration",
            "Build variables",
            "Build variables",
            "Plugin configuration",
            "External dependencies configuration",
            "Plugin configuration",
            "Plugin configuration",
            "Plugin configuration",
            "External dependencies configuration",
            "Plugin configuration",
            "Build variables",
            "Build variables",
            "External dependencies configuration",
            "Build variables",
            "External dependencies configuration",
            "External dependencies configuration",
            "Plugin configuration",
            "Plugin configuration",
            "Build variables",
            "Build variables",
            "Plugin configuration",
            "Plugin configuration",
            "Build variables",
            "Resource configuration",
            "External dependencies configuration",
            "External dependencies configuration",
            "Plugin configuration",
            "Plugin configuration",
            "Plugin configuration",
            "Plugin configuration",
            "External dependencies configuration",
            "Plugin configuration",
            "Plugin configuration",
            "External dependencies configuration",
            "Plugin configuration",
            "Plugin configuration",
            "Build variables",
            "External dependencies configuration",
            "Build variables",
            "Plugin configuration",
            "Plugin configuration",
            "Plugin configuration",
            "Build variables",
            "Plugin configuration",
            "Plugin configuration",
            "Plugin configuration",
            "Plugin configuration",
            "Build variables",
            "External dependencies configuration",
            "External dependencies configuration",
            "Plugin configuration",
            "Plugin configuration",
            "Plugin configuration",
            "External dependencies configuration",
            "Plugin configuration",
            "Plugin configuration",
            "Plugin configuration",
            "Plugin configuration",
            "Plugin configuration",
            "Plugin configuration",
            "Plugin configuration",
            "Plugin configuration",
            "Plugin configuration",
            "Plugin configuration",
            "External dependencies configuration",
            "Repository configuration",
            "External dependencies configuration",
            "Repository configuration",
            "External dependencies configuration",
            "Plugin configuration",
            "External dependencies configuration",
            "External dependencies configuration",
            "External dependencies configuration",
            "Repository configuration",
            "External dependencies configuration",
            "External dependencies configuration",
            "External dependencies configuration",
            "External dependencies configuration",
            "External dependencies configuration",
            "External dependencies configuration",
            "Repository configuration",
            "Plugin configuration",
            "External dependencies configuration",
            "External dependencies configuration",
            "External dependencies configuration",
            "External dependencies configuration",
            "External dependencies configuration",
            "External dependencies configuration",
            "External dependencies configuration",
            "Plugin configuration",
            "External dependencies configuration",
            "Repository configuration",
            "External dependencies configuration",
            "Plugin configuration",
            "External dependencies configuration",
            "External dependencies configuration",
            "External dependencies configuration",
            "External dependencies configuration",
            "External dependencies configuration",
            "External dependencies configuration",
            "External dependencies configuration",
            "Plugin configuration",
            "External dependencies configuration",
            "External dependencies configuration",
            "Plugin configuration",
            "Plugin configuration",
            "External dependencies configuration",
            "External dependencies configuration",
            "External dependencies configuration",
            "External dependencies configuration",
            "External dependencies configuration",
            "External dependencies configuration",
            "Repository configuration",
            "External dependencies configuration",
            "External dependencies configuration",
            "External dependencies configuration",
            "External dependencies configuration",
            "External dependencies configuration",
            "External dependencies configuration",
            "Repository configuration",
            "Plugin configuration",
            "Build variables",
            "Plugin configuration",
            "External dependencies configuration",
            "Multi-directory configuration",
            "Build variables",
            "External dependencies configuration",
            "Plugin configuration",
            "External dependencies configuration",
            "Build variables",
            "Plugin configuration",
            "Plugin configuration",
            "Build variables",
            "Plugin configuration",
            "External dependencies configuration",
            "Build variables",
            "Plugin configuration",
            "Plugin configuration",
            "Build variables",
            "Plugin configuration",
            "Multi-directory configuration",
            "Plugin configuration",
            "External dependencies configuration",
            "Build variables",
            "Build variables",
            "Plugin configuration",
            "External dependencies configuration",
            "External dependencies configuration",
            "External dependencies configuration",
            "External dependencies configuration",
            "External dependencies configuration",
            "External dependencies configuration",
            "Plugin configuration",
            "External dependencies configuration",
            "External dependencies configuration",
            "External dependencies configuration",
            "Multi-directory configuration",
            "Build variables",
            "Plugin configuration",
            "External dependencies configuration",
            "Repository configuration",
            "External dependencies configuration",
            "Plugin configuration",
            "Build variables",
            "Build variables",
            "Plugin configuration",
            "Plugin configuration",
            "Plugin configuration",
            "Plugin configuration",
            "Build variables",
            "Plugin configuration",
            "Plugin configuration",
            "Plugin configuration",
            "Plugin configuration",
            "Multi-directory configuration",
            "Multi-directory configuration",
            "External dependencies configuration",
            "Plugin configuration",
            "Plugin configuration",
            "Plugin configuration",
            "External dependencies configuration",
            "Plugin configuration",
            "Plugin configuration",
            "External dependencies configuration",
            "External dependencies configuration",
            "Plugin configuration",
            "Plugin configuration",
            "Multi-directory configuration",
            "Plugin configuration",
            "Plugin configuration",
            "Build variables",
            "Project metadata",
            "Project metadata",
            "Build variables",
            "Build variables",
            "Project metadata",
            "Project metadata",
            "Project metadata",
            "Project metadata",
            "Build variables",
            "Build variables",
            "External dependencies configuration",
            "External dependencies configuration",
            "Plugin configuration",
            "External dependencies configuration",
            "External dependencies configuration",
            "External dependencies configuration",
            "External dependencies configuration",
            "Plugin configuration",
            "External dependencies configuration",
            "External dependencies configuration",
            "External dependencies configuration",
            "External dependencies configuration",
            "Plugin configuration",
            "Plugin configuration",
            "External dependencies configuration",
            "External dependencies configuration",
            "External dependencies configuration",
            "External dependencies configuration",
            "External dependencies configuration",
            "External dependencies configuration",
            "External dependencies configuration",
            "External dependencies configuration",
            "External dependencies configuration",
            "External dependencies configuration",
            "External dependencies configuration",
            "External dependencies configuration",
            "External dependencies configuration",
            "External dependencies configuration",
            "External dependencies configuration",
            "External dependencies configuration",
            "External dependencies configuration",
            "External dependencies configuration",
            "External dependencies configuration",
            "Plugin configuration",
            "Plugin configuration",
            "Build variables",
            "External dependencies configuration",
            "External dependencies configuration",
            "Build variables",
            "External dependencies configuration",
            "External dependencies configuration",
            "External dependencies configuration",
            "External dependencies configuration",
            "External dependencies configuration",
            "External dependencies configuration",
            "External dependencies configuration",
            "Plugin configuration",
            "External dependencies configuration",
            "External dependencies configuration",
            "Plugin configuration",
            "Plugin configuration"
           ]
          },
          {
           "label": "Purpose",
           "values": [
            "Document for later fix",
            "Silence build warnings",
            "Workaround",
            "Workaround",
            "Workaround",
            "Workaround",
            "Workaround",
            "Silence build warnings",
            "Silence build warnings",
            "Silence build warnings",
            "Silence build warnings",
            "Workaround",
            "Silence build warnings",
            "Silence build warnings",
            "Warning for future developers",
            "Workaround",
            "Workaround",
            "Silence build warnings",
            "Workaround",
            "Workaround",
            "Document for later fix",
            "Silence build warnings",
            "Workaround",
            "Workaround",
            "Document suboptimal implementation choice",
            "Document suboptimal implementation choice",
            "Workaround",
            "Document suboptimal implementation choice",
            "Workaround",
            "Document for later fix",
            "Warning for future developers",
            "Workaround",
            "Workaround",
            "Workaround",
            "Workaround",
            "Workaround",
            "Warning for future developers",
            "Document for later fix",
            "Document for later fix",
            "Document for later fix",
            "Workaround",
            "Document suboptimal implementation choice",
            "Warning for future developers",
            "Workaround",
            "Workaround",
            "Document suboptimal implementation choice",
            "Document suboptimal implementation choice",
            "Warning for future developers",
            "Document suboptimal implementation choice",
            "Document for later fix",
            "Document suboptimal implementation choice",
            "Document suboptimal implementation choice",
            "Document for later fix",
            "Document for later fix",
            "Placeholder for later",
            "Warning for future developers",
            "Document suboptimal implementation choice",
            "Document for later fix",
            "Warning for future developers",
            "Warning for future developers",
            "Warning for future developers",
            "Document suboptimal implementation choice",
            "Warning for future developers",
            "Document for later fix",
            "Document for later fix",
            "Document for later fix",
            "Document suboptimal implementation choice",
            "Workaround",
            "Document for later fix",
            "Workaround",
            "Workaround",
            "Document for later fix",
            "Document for later fix",
            "Document for later fix",
            "Document suboptimal implementation choice",
            "Warning for future developers",
            "Workaround",
            "Workaround",
            "Warning for future developers",
            "Document for later fix",
            "Warning for future developers",
            "Workaround",
            "Document suboptimal implementation choice",
            "Warning for future developers",
            "Document for later fix",
            "Document for later fix",
            "Warning for future developers",
            "Document suboptimal implementation choice",
            "Document for later fix",
            "Document for later fix",
            "Document for later fix",
            "Warning for future developers",
            "Document suboptimal implementation choice",
            "Document for later fix",
            "Document for later fix",
            "Document for later fix",
            "Document for later fix",
            "Warning for future developers",
            "Document for later fix",
            "Warning for future developers",
            "Document for later fix",
            "Document for later fix",
            "Document suboptimal implementation choice",
            "Warning for future developers",
            "Document suboptimal implementation choice",
            "Warning for future developers",
            "Workaround",
            "Warning for future developers",
            "Workaround",
            "Warning for future developers",
            "Workaround",
            "Warning for future developers",
            "Workaround",
            "Warning for future developers",
            "Document for later fix",
            "Warning for future developers",
            "Warning for future developers",
            "Document suboptimal implementation choice",
            "Workaround",
            "Document for later fix",
            "Workaround",
            "Warning for future developers",
            "Document for later fix",
            "Document suboptimal implementation choice",
            "Workaround",
            "Workaround",
            "Warning for future developers",
            "Warning for future developers",
            "Document for later fix",
            "Document for later fix",
            "Workaround",
            "Workaround",
            "Workaround",
            "Warning for future developers",
            "Document suboptimal implementation choice",
            "Document suboptimal implementation choice",
            "Document for later fix",
            "Document suboptimal implementation choice",
            "Warning for future developers",
            "Workaround",
            "Warning for future developers",
            "Workaround",
            "Document suboptimal implementation choice",
            "Warning for future developers",
            "Warning for future developers",
            "Document for later fix",
            "Document for later fix",
            "Warning for future developers",
            "Document suboptimal implementation choice",
            "Workaround",
            "Document for later fix",
            "Document for later fix",
            "Workaround",
            "Workaround",
            "Warning for future developers",
            "Warning for future developers",
            "Warning for future developers",
            "Workaround",
            "Workaround",
            "Workaround",
            "Document for later fix",
            "Warning for future developers",
            "Warning for future developers",
            "Document for later fix",
            "Document suboptimal implementation choice",
            "Document for later fix",
            "Document for later fix",
            "Warning for future developers",
            "Document for later fix",
            "Document for later fix",
            "Warning for future developers",
            "Warning for future developers",
            "Warning for future developers",
            "Document for later fix",
            "Workaround",
            "Document suboptimal implementation choice",
            "Document for later fix",
            "Workaround",
            "Document suboptimal implementation choice",
            "Document suboptimal implementation choice",
            "Document for later fix",
            "Warning for future developers",
            "Document suboptimal implementation choice",
            "Document suboptimal implementation choice",
            "Document for later fix",
            "Workaround",
            "Workaround",
            "Warning for future developers",
            "Document suboptimal implementation choice",
            "Workaround",
            "Document for later fix",
            "Document for later fix",
            "Warning for future developers",
            "Warning for future developers",
            "Document suboptimal implementation choice",
            "Warning for future developers",
            "Warning for future developers",
            "Document suboptimal implementation choice",
            "Workaround",
            "Document for later fix",
            "Workaround",
            "Warning for future developers",
            "Document for later fix",
            "Document for later fix",
            "Document for later fix",
            "Warning for future developers",
            "Warning for future developers",
            "Document suboptimal implementation choice",
            "Document suboptimal implementation choice",
            "Warning for future developers",
            "Warning for future developers",
            "Warning for future developers",
            "Warning for future developers",
            "Workaround",
            "Document suboptimal implementation choice",
            "Document for later fix",
            "Document suboptimal implementation choice",
            "Document for later fix",
            "Document for later fix",
            "Warning for future developers",
            "Warning for future developers",
            "Warning for future developers",
            "Warning for future developers",
            "Warning for future developers",
            "Document for later fix",
            "Warning for future developers",
            "Warning for future developers",
            "Document for later fix",
            "Warning for future developers",
            "Document for later fix",
            "Document for later fix",
            "Document for later fix",
            "Document for later fix",
            "Document for later fix",
            "Warning for future developers",
            "Warning for future developers",
            "Warning for future developers",
            "Document for later fix",
            "Document for later fix",
            "Document suboptimal implementation choice",
            "Document for later fix",
            "Workaround",
            "Document for later fix",
            "Document suboptimal implementation choice",
            "Document for later fix",
            "Document for later fix",
            "Workaround",
            "Document for later fix",
            "Document for later fix",
            "Document suboptimal implementation choice",
            "Workaround",
            "Document for later fix",
            "Warning for future developers",
            "Document suboptimal implementation choice",
            "Document for later fix",
            "Warning for future developers",
            "Document for later fix",
            "Document for later fix",
            "Warning for future developers",
            "Warning for future developers",
            "Document suboptimal implementation choice",
            "Warning for future developers",
            "Document for later fix",
            "Workaround",
            "Warning for future developers",
            "Warning for future developers",
            "Document for later fix",
            "Document for later fix",
            "Workaround",
            "Warning for future developers",
            "Workaround",
            "Warning for future developers",
            "Workaround",
            "Document for later fix",
            "Workaround",
            "Workaround",
            "Document suboptimal implementation choice",
            "Document suboptimal implementation choice",
            "Workaround",
            "Document suboptimal implementation choice",
            "Workaround",
            "Workaround",
            "Workaround",
            "Workaround",
            "Document suboptimal implementation choice",
            "Workaround",
            "Warning for future developers",
            "Document for later fix",
            "Workaround",
            "Warning for future developers",
            "Warning for future developers",
            "Workaround",
            "Workaround",
            "Document for later fix",
            "Warning for future developers",
            "Workaround",
            "Warning for future developers",
            "Document for later fix",
            "Workaround",
            "Warning for future developers",
            "Placeholder for later",
            "Placeholder for later",
            "Placeholder for later",
            "Workaround",
            "Placeholder for later",
            "Placeholder for later",
            "Placeholder for later",
            "Placeholder for later",
            "Placeholder for later",
            "Workaround",
            "Placeholder for later",
            "Workaround",
            "Document for later fix",
            "Document for later fix",
            "Document for later fix",
            "Workaround",
            "Warning for future developers",
            "Workaround",
            "Document for later fix",
            "Document for later fix",
            "Warning for future developers",
            "Document for later fix",
            "Workaround",
            "Document for later fix",
            "Workaround",
            "Document for later fix",
            "Workaround",
            "Workaround",
            "Document suboptimal implementation choice",
            "Workaround",
            "Workaround",
            "Workaround",
            "Document for later fix",
            "Document for later fix",
            "Warning for future developers",
            "Document for later fix",
            "Workaround",
            "Workaround",
            "Document for later fix",
            "Document for later fix",
            "Workaround",
            "Workaround",
            "Warning for future developers",
            "Placeholder for later",
            "Document for later fix",
            "Document for later fix",
            "Warning for future developers",
            "Warning for future developers",
            "Warning for future developers",
            "Workaround",
            "Warning for future developers",
            "Workaround",
            "Warning for future developers",
            "Warning for future developers",
            "Document suboptimal implementation choice",
            "Document suboptimal implementation choice",
            "Document for later fix",
            "Warning for future developers",
            "Workaround",
            "Document suboptimal implementation choice",
            "Warning for future developers",
            "Warning for future developers",
            "Placeholder for later",
            "Document for later fix",
            "Document for later fix",
            "Document suboptimal implementation choice",
            "Warning for future developers",
            "Placeholder for later",
            "Document for later fix",
            "Document for later fix",
            "Workaround",
            "Document suboptimal implementation choice",
            "Document for later fix",
            "Document for later fix",
            "Document for later fix",
            "Document suboptimal implementation choice",
            "Document for later fix",
            "Document for later fix",
            "Warning for future developers",
            "Document for later fix",
            "Document for later fix",
            "Document suboptimal implementation choice",
            "Warning for future developers",
            "Document suboptimal implementation choice",
            "Document for later fix",
            "Document for later fix",
            "Document for later fix",
            "Warning for future developers",
            "Document for later fix",
            "Warning for future developers",
            "Document for later fix",
            "Document for later fix",
            "Document for later fix",
            "Document for later fix",
            "Document for later fix",
            "Document for later fix",
            "Workaround",
            "Workaround",
            "Document suboptimal implementation choice",
            "Warning for future developers",
            "Workaround",
            "Document suboptimal implementation choice",
            "Document for later fix",
            "Document suboptimal implementation choice",
            "Workaround",
            "Document suboptimal implementation choice",
            "Workaround",
            "Document suboptimal implementation choice",
            "Warning for future developers",
            "Document for later fix",
            "Workaround",
            "Document for later fix",
            "Document for later fix",
            "Warning for future developers",
            "Document suboptimal implementation choice",
            "Document for later fix",
            "Document for later fix",
            "Document suboptimal implementation choice",
            "Document for later fix",
            "Workaround",
            "Warning for future developers",
            "Document suboptimal implementation choice",
            "Document for later fix",
            "Document for later fix",
            "Workaround",
            "Warning for future developers",
            "Document suboptimal implementation choice",
            "Document for later fix",
            "Workaround",
            "Workaround",
            "Workaround",
            "Document for later fix",
            "Document for later fix",
            "Warning for future developers",
            "Warning for future developers",
            "Document for later fix",
            "Workaround",
            "Document for later fix",
            "Workaround",
            "Document for later fix",
            "Document for later fix",
            "Document suboptimal implementation choice",
            "Document for later fix",
            "Document for later fix",
            "Document for later fix",
            "Document for later fix",
            "Document for later fix",
            "Document for later fix",
            "Document for later fix",
            "Document for later fix",
            "Document for later fix",
            "Workaround",
            "Document suboptimal implementation choice",
            "Document for later fix",
            "Document for later fix",
            "Warning for future developers",
            "Document for later fix",
            "Document for later fix",
            "Document for later fix",
            "Document for later fix",
            "Document for later fix",
            "Document for later fix",
            "Document for later fix",
            "Document suboptimal implementation choice",
            "Workaround",
            "Document suboptimal implementation choice",
            "Document for later fix",
            "Document suboptimal implementation choice",
            "Document for later fix",
            "Document for later fix",
            "Document suboptimal implementation choice",
            "Document for later fix",
            "Document for later fix",
            "Document suboptimal implementation choice",
            "Document suboptimal implementation choice",
            "Warning for future developers",
            "Document for later fix",
            "Workaround",
            "Document suboptimal implementation choice",
            "Workaround",
            "Document suboptimal implementation choice",
            "Document suboptimal implementation choice",
            "Document for later fix",
            "Warning for future developers",
            "Document for later fix",
            "Document suboptimal implementation choice",
            "Document for later fix",
            "Document for later fix",
            "Document suboptimal implementation choice",
            "Document for later fix",
            "Document for later fix",
            "Document for later fix",
            "Document suboptimal implementation choice",
            "Document for later fix",
            "Document for later fix",
            "Document suboptimal implementation choice",
            "Document suboptimal implementation choice",
            "Document for later fix",
            "Document suboptimal implementation choice",
            "Workaround"
           ]
          }
         ],
         "hoverinfo": "count+probability",
         "hoveron": "color",
         "labelfont": {
          "family": "Times",
          "size": 14
         },
         "line": {
          "color": [
           57,
           8,
           73,
           73,
           73,
           73,
           73,
           8,
           8,
           8,
           8,
           73,
           8,
           8,
           2,
           73,
           73,
           1,
           73,
           73,
           57,
           8,
           73,
           73,
           3,
           3,
           73,
           3,
           2,
           57,
           32,
           73,
           73,
           2,
           73,
           9,
           62,
           3,
           30,
           57,
           73,
           29,
           62,
           73,
           73,
           6,
           6,
           12,
           6,
           57,
           6,
           6,
           3,
           3,
           9,
           32,
           6,
           57,
           62,
           12,
           12,
           7,
           12,
           4,
           65,
           57,
           36,
           73,
           57,
           73,
           73,
           57,
           57,
           57,
           36,
           62,
           73,
           73,
           32,
           65,
           62,
           73,
           36,
           32,
           65,
           57,
           62,
           36,
           57,
           65,
           30,
           62,
           29,
           65,
           57,
           57,
           65,
           62,
           57,
           62,
           57,
           57,
           36,
           62,
           36,
           62,
           73,
           32,
           73,
           32,
           73,
           2,
           73,
           32,
           57,
           62,
           62,
           36,
           73,
           57,
           73,
           62,
           57,
           36,
           27,
           73,
           62,
           62,
           57,
           57,
           73,
           73,
           73,
           62,
           29,
           29,
           65,
           36,
           62,
           9,
           62,
           27,
           36,
           62,
           32,
           65,
           30,
           32,
           36,
           9,
           57,
           30,
           73,
           73,
           62,
           62,
           62,
           73,
           73,
           73,
           30,
           32,
           12,
           30,
           36,
           65,
           30,
           62,
           57,
           30,
           62,
           62,
           62,
           57,
           73,
           36,
           65,
           73,
           29,
           36,
           57,
           62,
           36,
           36,
           57,
           27,
           9,
           62,
           36,
           27,
           57,
           30,
           32,
           32,
           36,
           62,
           32,
           36,
           27,
           30,
           73,
           62,
           57,
           65,
           57,
           62,
           62,
           36,
           36,
           62,
           62,
           62,
           62,
           73,
           36,
           7,
           36,
           30,
           65,
           32,
           62,
           12,
           62,
           62,
           65,
           32,
           62,
           57,
           62,
           30,
           65,
           57,
           57,
           65,
           12,
           62,
           62,
           30,
           57,
           36,
           57,
           9,
           65,
           36,
           57,
           30,
           73,
           7,
           57,
           7,
           9,
           57,
           32,
           36,
           57,
           62,
           65,
           57,
           12,
           12,
           29,
           12,
           65,
           27,
           62,
           62,
           30,
           30,
           73,
           62,
           9,
           1,
           27,
           65,
           73,
           73,
           36,
           36,
           27,
           36,
           73,
           27,
           73,
           73,
           7,
           27,
           12,
           57,
           73,
           62,
           12,
           73,
           73,
           57,
           62,
           9,
           32,
           65,
           73,
           62,
           9,
           3,
           9,
           73,
           9,
           9,
           9,
           9,
           9,
           73,
           9,
           73,
           65,
           4,
           65,
           1,
           32,
           73,
           65,
           65,
           32,
           4,
           27,
           65,
           27,
           65,
           27,
           27,
           1,
           73,
           27,
           27,
           65,
           65,
           32,
           65,
           27,
           73,
           65,
           4,
           27,
           73,
           32,
           3,
           65,
           65,
           32,
           32,
           32,
           73,
           32,
           27,
           62,
           62,
           29,
           29,
           65,
           32,
           27,
           29,
           2,
           32,
           3,
           65,
           65,
           29,
           32,
           1,
           57,
           30,
           73,
           29,
           7,
           30,
           65,
           36,
           65,
           30,
           62,
           57,
           30,
           36,
           32,
           7,
           57,
           57,
           30,
           62,
           7,
           62,
           65,
           30,
           30,
           57,
           65,
           65,
           27,
           27,
           29,
           32,
           73,
           29,
           65,
           29,
           1,
           7,
           73,
           29,
           2,
           65,
           73,
           30,
           30,
           62,
           36,
           57,
           57,
           7,
           57,
           73,
           62,
           36,
           7,
           7,
           27,
           62,
           36,
           57,
           27,
           73,
           73,
           65,
           65,
           62,
           62,
           7,
           73,
           57,
           9,
           6,
           6,
           7,
           30,
           6,
           6,
           6,
           6,
           30,
           30,
           65,
           65,
           73,
           29,
           65,
           65,
           32,
           57,
           65,
           65,
           65,
           65,
           57,
           57,
           29,
           27,
           29,
           65,
           29,
           65,
           65,
           29,
           65,
           65,
           29,
           29,
           32,
           65,
           27,
           29,
           27,
           29,
           29,
           57,
           62,
           30,
           29,
           65,
           30,
           29,
           65,
           65,
           65,
           29,
           65,
           65,
           36,
           29,
           65,
           36,
           73
          ],
          "colorbar": {
           "len": 0.7,
           "thickness": 10,
           "x": 1.5
          },
          "colorscale": [
           [
            0,
            "rgb(0, 0, 0)"
           ],
           [
            0.09090909090909091,
            "rgb(16, 16, 16)"
           ],
           [
            0.18181818181818182,
            "rgb(38, 38, 38)"
           ],
           [
            0.2727272727272727,
            "rgb(59, 59, 59)"
           ],
           [
            0.36363636363636365,
            "rgb(81, 80, 80)"
           ],
           [
            0.45454545454545453,
            "rgb(102, 101, 101)"
           ],
           [
            0.5454545454545454,
            "rgb(124, 123, 122)"
           ],
           [
            0.6363636363636364,
            "rgb(146, 146, 145)"
           ],
           [
            0.7272727272727273,
            "rgb(171, 171, 170)"
           ],
           [
            0.8181818181818182,
            "rgb(197, 197, 195)"
           ],
           [
            0.9090909090909091,
            "rgb(224, 224, 223)"
           ],
           [
            1,
            "rgb(254, 254, 253)"
           ]
          ],
          "reversescale": true,
          "shape": "hspline",
          "showscale": true
         },
         "tickfont": {
          "family": "Times",
          "size": 12
         },
         "type": "parcats"
        }
       ],
       "layout": {
        "margin": {
         "b": 10,
         "l": 150,
         "pad": 0,
         "r": 150,
         "t": 20
        },
        "template": {
         "data": {
          "bar": [
           {
            "error_x": {
             "color": "#2a3f5f"
            },
            "error_y": {
             "color": "#2a3f5f"
            },
            "marker": {
             "line": {
              "color": "#E5ECF6",
              "width": 0.5
             }
            },
            "type": "bar"
           }
          ],
          "barpolar": [
           {
            "marker": {
             "line": {
              "color": "#E5ECF6",
              "width": 0.5
             }
            },
            "type": "barpolar"
           }
          ],
          "carpet": [
           {
            "aaxis": {
             "endlinecolor": "#2a3f5f",
             "gridcolor": "white",
             "linecolor": "white",
             "minorgridcolor": "white",
             "startlinecolor": "#2a3f5f"
            },
            "baxis": {
             "endlinecolor": "#2a3f5f",
             "gridcolor": "white",
             "linecolor": "white",
             "minorgridcolor": "white",
             "startlinecolor": "#2a3f5f"
            },
            "type": "carpet"
           }
          ],
          "choropleth": [
           {
            "colorbar": {
             "outlinewidth": 0,
             "ticks": ""
            },
            "type": "choropleth"
           }
          ],
          "contour": [
           {
            "colorbar": {
             "outlinewidth": 0,
             "ticks": ""
            },
            "colorscale": [
             [
              0,
              "#0d0887"
             ],
             [
              0.1111111111111111,
              "#46039f"
             ],
             [
              0.2222222222222222,
              "#7201a8"
             ],
             [
              0.3333333333333333,
              "#9c179e"
             ],
             [
              0.4444444444444444,
              "#bd3786"
             ],
             [
              0.5555555555555556,
              "#d8576b"
             ],
             [
              0.6666666666666666,
              "#ed7953"
             ],
             [
              0.7777777777777778,
              "#fb9f3a"
             ],
             [
              0.8888888888888888,
              "#fdca26"
             ],
             [
              1,
              "#f0f921"
             ]
            ],
            "type": "contour"
           }
          ],
          "contourcarpet": [
           {
            "colorbar": {
             "outlinewidth": 0,
             "ticks": ""
            },
            "type": "contourcarpet"
           }
          ],
          "heatmap": [
           {
            "colorbar": {
             "outlinewidth": 0,
             "ticks": ""
            },
            "colorscale": [
             [
              0,
              "#0d0887"
             ],
             [
              0.1111111111111111,
              "#46039f"
             ],
             [
              0.2222222222222222,
              "#7201a8"
             ],
             [
              0.3333333333333333,
              "#9c179e"
             ],
             [
              0.4444444444444444,
              "#bd3786"
             ],
             [
              0.5555555555555556,
              "#d8576b"
             ],
             [
              0.6666666666666666,
              "#ed7953"
             ],
             [
              0.7777777777777778,
              "#fb9f3a"
             ],
             [
              0.8888888888888888,
              "#fdca26"
             ],
             [
              1,
              "#f0f921"
             ]
            ],
            "type": "heatmap"
           }
          ],
          "heatmapgl": [
           {
            "colorbar": {
             "outlinewidth": 0,
             "ticks": ""
            },
            "colorscale": [
             [
              0,
              "#0d0887"
             ],
             [
              0.1111111111111111,
              "#46039f"
             ],
             [
              0.2222222222222222,
              "#7201a8"
             ],
             [
              0.3333333333333333,
              "#9c179e"
             ],
             [
              0.4444444444444444,
              "#bd3786"
             ],
             [
              0.5555555555555556,
              "#d8576b"
             ],
             [
              0.6666666666666666,
              "#ed7953"
             ],
             [
              0.7777777777777778,
              "#fb9f3a"
             ],
             [
              0.8888888888888888,
              "#fdca26"
             ],
             [
              1,
              "#f0f921"
             ]
            ],
            "type": "heatmapgl"
           }
          ],
          "histogram": [
           {
            "marker": {
             "colorbar": {
              "outlinewidth": 0,
              "ticks": ""
             }
            },
            "type": "histogram"
           }
          ],
          "histogram2d": [
           {
            "colorbar": {
             "outlinewidth": 0,
             "ticks": ""
            },
            "colorscale": [
             [
              0,
              "#0d0887"
             ],
             [
              0.1111111111111111,
              "#46039f"
             ],
             [
              0.2222222222222222,
              "#7201a8"
             ],
             [
              0.3333333333333333,
              "#9c179e"
             ],
             [
              0.4444444444444444,
              "#bd3786"
             ],
             [
              0.5555555555555556,
              "#d8576b"
             ],
             [
              0.6666666666666666,
              "#ed7953"
             ],
             [
              0.7777777777777778,
              "#fb9f3a"
             ],
             [
              0.8888888888888888,
              "#fdca26"
             ],
             [
              1,
              "#f0f921"
             ]
            ],
            "type": "histogram2d"
           }
          ],
          "histogram2dcontour": [
           {
            "colorbar": {
             "outlinewidth": 0,
             "ticks": ""
            },
            "colorscale": [
             [
              0,
              "#0d0887"
             ],
             [
              0.1111111111111111,
              "#46039f"
             ],
             [
              0.2222222222222222,
              "#7201a8"
             ],
             [
              0.3333333333333333,
              "#9c179e"
             ],
             [
              0.4444444444444444,
              "#bd3786"
             ],
             [
              0.5555555555555556,
              "#d8576b"
             ],
             [
              0.6666666666666666,
              "#ed7953"
             ],
             [
              0.7777777777777778,
              "#fb9f3a"
             ],
             [
              0.8888888888888888,
              "#fdca26"
             ],
             [
              1,
              "#f0f921"
             ]
            ],
            "type": "histogram2dcontour"
           }
          ],
          "mesh3d": [
           {
            "colorbar": {
             "outlinewidth": 0,
             "ticks": ""
            },
            "type": "mesh3d"
           }
          ],
          "parcoords": [
           {
            "line": {
             "colorbar": {
              "outlinewidth": 0,
              "ticks": ""
             }
            },
            "type": "parcoords"
           }
          ],
          "pie": [
           {
            "automargin": true,
            "type": "pie"
           }
          ],
          "scatter": [
           {
            "marker": {
             "colorbar": {
              "outlinewidth": 0,
              "ticks": ""
             }
            },
            "type": "scatter"
           }
          ],
          "scatter3d": [
           {
            "line": {
             "colorbar": {
              "outlinewidth": 0,
              "ticks": ""
             }
            },
            "marker": {
             "colorbar": {
              "outlinewidth": 0,
              "ticks": ""
             }
            },
            "type": "scatter3d"
           }
          ],
          "scattercarpet": [
           {
            "marker": {
             "colorbar": {
              "outlinewidth": 0,
              "ticks": ""
             }
            },
            "type": "scattercarpet"
           }
          ],
          "scattergeo": [
           {
            "marker": {
             "colorbar": {
              "outlinewidth": 0,
              "ticks": ""
             }
            },
            "type": "scattergeo"
           }
          ],
          "scattergl": [
           {
            "marker": {
             "colorbar": {
              "outlinewidth": 0,
              "ticks": ""
             }
            },
            "type": "scattergl"
           }
          ],
          "scattermapbox": [
           {
            "marker": {
             "colorbar": {
              "outlinewidth": 0,
              "ticks": ""
             }
            },
            "type": "scattermapbox"
           }
          ],
          "scatterpolar": [
           {
            "marker": {
             "colorbar": {
              "outlinewidth": 0,
              "ticks": ""
             }
            },
            "type": "scatterpolar"
           }
          ],
          "scatterpolargl": [
           {
            "marker": {
             "colorbar": {
              "outlinewidth": 0,
              "ticks": ""
             }
            },
            "type": "scatterpolargl"
           }
          ],
          "scatterternary": [
           {
            "marker": {
             "colorbar": {
              "outlinewidth": 0,
              "ticks": ""
             }
            },
            "type": "scatterternary"
           }
          ],
          "surface": [
           {
            "colorbar": {
             "outlinewidth": 0,
             "ticks": ""
            },
            "colorscale": [
             [
              0,
              "#0d0887"
             ],
             [
              0.1111111111111111,
              "#46039f"
             ],
             [
              0.2222222222222222,
              "#7201a8"
             ],
             [
              0.3333333333333333,
              "#9c179e"
             ],
             [
              0.4444444444444444,
              "#bd3786"
             ],
             [
              0.5555555555555556,
              "#d8576b"
             ],
             [
              0.6666666666666666,
              "#ed7953"
             ],
             [
              0.7777777777777778,
              "#fb9f3a"
             ],
             [
              0.8888888888888888,
              "#fdca26"
             ],
             [
              1,
              "#f0f921"
             ]
            ],
            "type": "surface"
           }
          ],
          "table": [
           {
            "cells": {
             "fill": {
              "color": "#EBF0F8"
             },
             "line": {
              "color": "white"
             }
            },
            "header": {
             "fill": {
              "color": "#C8D4E3"
             },
             "line": {
              "color": "white"
             }
            },
            "type": "table"
           }
          ]
         },
         "layout": {
          "annotationdefaults": {
           "arrowcolor": "#2a3f5f",
           "arrowhead": 0,
           "arrowwidth": 1
          },
          "coloraxis": {
           "colorbar": {
            "outlinewidth": 0,
            "ticks": ""
           }
          },
          "colorscale": {
           "diverging": [
            [
             0,
             "#8e0152"
            ],
            [
             0.1,
             "#c51b7d"
            ],
            [
             0.2,
             "#de77ae"
            ],
            [
             0.3,
             "#f1b6da"
            ],
            [
             0.4,
             "#fde0ef"
            ],
            [
             0.5,
             "#f7f7f7"
            ],
            [
             0.6,
             "#e6f5d0"
            ],
            [
             0.7,
             "#b8e186"
            ],
            [
             0.8,
             "#7fbc41"
            ],
            [
             0.9,
             "#4d9221"
            ],
            [
             1,
             "#276419"
            ]
           ],
           "sequential": [
            [
             0,
             "#0d0887"
            ],
            [
             0.1111111111111111,
             "#46039f"
            ],
            [
             0.2222222222222222,
             "#7201a8"
            ],
            [
             0.3333333333333333,
             "#9c179e"
            ],
            [
             0.4444444444444444,
             "#bd3786"
            ],
            [
             0.5555555555555556,
             "#d8576b"
            ],
            [
             0.6666666666666666,
             "#ed7953"
            ],
            [
             0.7777777777777778,
             "#fb9f3a"
            ],
            [
             0.8888888888888888,
             "#fdca26"
            ],
            [
             1,
             "#f0f921"
            ]
           ],
           "sequentialminus": [
            [
             0,
             "#0d0887"
            ],
            [
             0.1111111111111111,
             "#46039f"
            ],
            [
             0.2222222222222222,
             "#7201a8"
            ],
            [
             0.3333333333333333,
             "#9c179e"
            ],
            [
             0.4444444444444444,
             "#bd3786"
            ],
            [
             0.5555555555555556,
             "#d8576b"
            ],
            [
             0.6666666666666666,
             "#ed7953"
            ],
            [
             0.7777777777777778,
             "#fb9f3a"
            ],
            [
             0.8888888888888888,
             "#fdca26"
            ],
            [
             1,
             "#f0f921"
            ]
           ]
          },
          "colorway": [
           "#636efa",
           "#EF553B",
           "#00cc96",
           "#ab63fa",
           "#FFA15A",
           "#19d3f3",
           "#FF6692",
           "#B6E880",
           "#FF97FF",
           "#FECB52"
          ],
          "font": {
           "color": "#2a3f5f"
          },
          "geo": {
           "bgcolor": "white",
           "lakecolor": "white",
           "landcolor": "#E5ECF6",
           "showlakes": true,
           "showland": true,
           "subunitcolor": "white"
          },
          "hoverlabel": {
           "align": "left"
          },
          "hovermode": "closest",
          "mapbox": {
           "style": "light"
          },
          "paper_bgcolor": "white",
          "plot_bgcolor": "#E5ECF6",
          "polar": {
           "angularaxis": {
            "gridcolor": "white",
            "linecolor": "white",
            "ticks": ""
           },
           "bgcolor": "#E5ECF6",
           "radialaxis": {
            "gridcolor": "white",
            "linecolor": "white",
            "ticks": ""
           }
          },
          "scene": {
           "xaxis": {
            "backgroundcolor": "#E5ECF6",
            "gridcolor": "white",
            "gridwidth": 2,
            "linecolor": "white",
            "showbackground": true,
            "ticks": "",
            "zerolinecolor": "white"
           },
           "yaxis": {
            "backgroundcolor": "#E5ECF6",
            "gridcolor": "white",
            "gridwidth": 2,
            "linecolor": "white",
            "showbackground": true,
            "ticks": "",
            "zerolinecolor": "white"
           },
           "zaxis": {
            "backgroundcolor": "#E5ECF6",
            "gridcolor": "white",
            "gridwidth": 2,
            "linecolor": "white",
            "showbackground": true,
            "ticks": "",
            "zerolinecolor": "white"
           }
          },
          "shapedefaults": {
           "line": {
            "color": "#2a3f5f"
           }
          },
          "ternary": {
           "aaxis": {
            "gridcolor": "white",
            "linecolor": "white",
            "ticks": ""
           },
           "baxis": {
            "gridcolor": "white",
            "linecolor": "white",
            "ticks": ""
           },
           "bgcolor": "#E5ECF6",
           "caxis": {
            "gridcolor": "white",
            "linecolor": "white",
            "ticks": ""
           }
          },
          "title": {
           "x": 0.05
          },
          "xaxis": {
           "automargin": true,
           "gridcolor": "white",
           "linecolor": "white",
           "ticks": "",
           "title": {
            "standoff": 15
           },
           "zerolinecolor": "white",
           "zerolinewidth": 2
          },
          "yaxis": {
           "automargin": true,
           "gridcolor": "white",
           "linecolor": "white",
           "ticks": "",
           "title": {
            "standoff": 15
           },
           "zerolinecolor": "white",
           "zerolinewidth": 2
          }
         }
        }
       }
      },
      "text/html": [
       "<div>\n",
       "        \n",
       "        \n",
       "            <div id=\"f90af399-6a0c-4bbb-9de4-de86fabac4b3\" class=\"plotly-graph-div\" style=\"height:525px; width:100%;\"></div>\n",
       "            <script type=\"text/javascript\">\n",
       "                require([\"plotly\"], function(Plotly) {\n",
       "                    window.PLOTLYENV=window.PLOTLYENV || {};\n",
       "                    \n",
       "                if (document.getElementById(\"f90af399-6a0c-4bbb-9de4-de86fabac4b3\")) {\n",
       "                    Plotly.newPlot(\n",
       "                        'f90af399-6a0c-4bbb-9de4-de86fabac4b3',\n",
       "                        [{\"arrangement\": \"freeform\", \"dimensions\": [{\"label\": \"Location\", \"values\": [\"Plugin configuration\", \"Build variables\", \"Plugin configuration\", \"Plugin configuration\", \"Plugin configuration\", \"Plugin configuration\", \"Plugin configuration\", \"Build variables\", \"Build variables\", \"Build variables\", \"Build variables\", \"Plugin configuration\", \"Build variables\", \"Build variables\", \"Multi-directory configuration\", \"Plugin configuration\", \"Plugin configuration\", \"Plugin configuration\", \"Plugin configuration\", \"Plugin configuration\", \"Plugin configuration\", \"Build variables\", \"Plugin configuration\", \"Plugin configuration\", \"Build organization\", \"Build organization\", \"Plugin configuration\", \"Build organization\", \"Software configuration management\", \"Plugin configuration\", \"External dependencies configuration\", \"Plugin configuration\", \"Plugin configuration\", \"Software configuration management\", \"Plugin configuration\", \"Build variables\", \"Plugin configuration\", \"Resource configuration\", \"Build variables\", \"Plugin configuration\", \"Plugin configuration\", \"External dependencies configuration\", \"Plugin configuration\", \"Plugin configuration\", \"Plugin configuration\", \"Resource configuration\", \"Resource configuration\", \"Build variables\", \"Resource configuration\", \"Plugin configuration\", \"Resource configuration\", \"Resource configuration\", \"Resource configuration\", \"Resource configuration\", \"Plugin configuration\", \"External dependencies configuration\", \"Resource configuration\", \"Plugin configuration\", \"Plugin configuration\", \"Build variables\", \"Build variables\", \"Build variables\", \"Build variables\", \"Repository configuration\", \"External dependencies configuration\", \"Plugin configuration\", \"Plugin configuration\", \"Plugin configuration\", \"Plugin configuration\", \"Plugin configuration\", \"Plugin configuration\", \"Plugin configuration\", \"Plugin configuration\", \"Plugin configuration\", \"Plugin configuration\", \"Plugin configuration\", \"Plugin configuration\", \"Plugin configuration\", \"External dependencies configuration\", \"External dependencies configuration\", \"Plugin configuration\", \"Plugin configuration\", \"Plugin configuration\", \"External dependencies configuration\", \"External dependencies configuration\", \"Plugin configuration\", \"Plugin configuration\", \"Plugin configuration\", \"Plugin configuration\", \"External dependencies configuration\", \"Build variables\", \"Plugin configuration\", \"External dependencies configuration\", \"External dependencies configuration\", \"Plugin configuration\", \"Plugin configuration\", \"External dependencies configuration\", \"Plugin configuration\", \"Plugin configuration\", \"Plugin configuration\", \"Plugin configuration\", \"Plugin configuration\", \"Plugin configuration\", \"Plugin configuration\", \"Plugin configuration\", \"Plugin configuration\", \"Plugin configuration\", \"External dependencies configuration\", \"Plugin configuration\", \"External dependencies configuration\", \"Plugin configuration\", \"Multi-directory configuration\", \"Plugin configuration\", \"External dependencies configuration\", \"Plugin configuration\", \"Plugin configuration\", \"Plugin configuration\", \"Plugin configuration\", \"Plugin configuration\", \"Plugin configuration\", \"Plugin configuration\", \"Plugin configuration\", \"Plugin configuration\", \"Plugin configuration\", \"External dependencies configuration\", \"Plugin configuration\", \"Plugin configuration\", \"Plugin configuration\", \"Plugin configuration\", \"Plugin configuration\", \"Plugin configuration\", \"Plugin configuration\", \"Plugin configuration\", \"Plugin configuration\", \"External dependencies configuration\", \"External dependencies configuration\", \"External dependencies configuration\", \"Plugin configuration\", \"Plugin configuration\", \"Build variables\", \"Plugin configuration\", \"External dependencies configuration\", \"Plugin configuration\", \"Plugin configuration\", \"External dependencies configuration\", \"External dependencies configuration\", \"Build variables\", \"External dependencies configuration\", \"Plugin configuration\", \"Build variables\", \"Plugin configuration\", \"Build variables\", \"Plugin configuration\", \"Plugin configuration\", \"Plugin configuration\", \"Plugin configuration\", \"Plugin configuration\", \"Plugin configuration\", \"Plugin configuration\", \"Plugin configuration\", \"Build variables\", \"External dependencies configuration\", \"Build variables\", \"Build variables\", \"Plugin configuration\", \"External dependencies configuration\", \"Build variables\", \"Plugin configuration\", \"Plugin configuration\", \"Build variables\", \"Plugin configuration\", \"Plugin configuration\", \"Plugin configuration\", \"Plugin configuration\", \"Plugin configuration\", \"Plugin configuration\", \"External dependencies configuration\", \"Plugin configuration\", \"External dependencies configuration\", \"Plugin configuration\", \"Plugin configuration\", \"Plugin configuration\", \"Plugin configuration\", \"Plugin configuration\", \"Plugin configuration\", \"External dependencies configuration\", \"Build variables\", \"Plugin configuration\", \"Plugin configuration\", \"External dependencies configuration\", \"Plugin configuration\", \"Build variables\", \"External dependencies configuration\", \"External dependencies configuration\", \"Plugin configuration\", \"Plugin configuration\", \"External dependencies configuration\", \"Plugin configuration\", \"External dependencies configuration\", \"Build variables\", \"Plugin configuration\", \"Plugin configuration\", \"Plugin configuration\", \"External dependencies configuration\", \"Plugin configuration\", \"Plugin configuration\", \"Plugin configuration\", \"Plugin configuration\", \"Plugin configuration\", \"Plugin configuration\", \"Plugin configuration\", \"Plugin configuration\", \"Plugin configuration\", \"Plugin configuration\", \"Plugin configuration\", \"Multi-directory configuration\", \"Plugin configuration\", \"Build variables\", \"External dependencies configuration\", \"External dependencies configuration\", \"Plugin configuration\", \"Build variables\", \"Plugin configuration\", \"Plugin configuration\", \"External dependencies configuration\", \"External dependencies configuration\", \"Plugin configuration\", \"Plugin configuration\", \"Plugin configuration\", \"Build variables\", \"External dependencies configuration\", \"Plugin configuration\", \"Plugin configuration\", \"External dependencies configuration\", \"Build variables\", \"Plugin configuration\", \"Plugin configuration\", \"Build variables\", \"Plugin configuration\", \"Plugin configuration\", \"Plugin configuration\", \"Build variables\", \"External dependencies configuration\", \"Plugin configuration\", \"Plugin configuration\", \"Build variables\", \"Plugin configuration\", \"Multi-directory configuration\", \"Plugin configuration\", \"Build variables\", \"Build variables\", \"Plugin configuration\", \"External dependencies configuration\", \"Plugin configuration\", \"Plugin configuration\", \"Plugin configuration\", \"External dependencies configuration\", \"Plugin configuration\", \"Build variables\", \"Build variables\", \"External dependencies configuration\", \"Build variables\", \"External dependencies configuration\", \"External dependencies configuration\", \"Plugin configuration\", \"Plugin configuration\", \"Build variables\", \"Build variables\", \"Plugin configuration\", \"Plugin configuration\", \"Build variables\", \"Resource configuration\", \"External dependencies configuration\", \"External dependencies configuration\", \"Plugin configuration\", \"Plugin configuration\", \"Plugin configuration\", \"Plugin configuration\", \"External dependencies configuration\", \"Plugin configuration\", \"Plugin configuration\", \"External dependencies configuration\", \"Plugin configuration\", \"Plugin configuration\", \"Build variables\", \"External dependencies configuration\", \"Build variables\", \"Plugin configuration\", \"Plugin configuration\", \"Plugin configuration\", \"Build variables\", \"Plugin configuration\", \"Plugin configuration\", \"Plugin configuration\", \"Plugin configuration\", \"Build variables\", \"External dependencies configuration\", \"External dependencies configuration\", \"Plugin configuration\", \"Plugin configuration\", \"Plugin configuration\", \"External dependencies configuration\", \"Plugin configuration\", \"Plugin configuration\", \"Plugin configuration\", \"Plugin configuration\", \"Plugin configuration\", \"Plugin configuration\", \"Plugin configuration\", \"Plugin configuration\", \"Plugin configuration\", \"Plugin configuration\", \"External dependencies configuration\", \"Repository configuration\", \"External dependencies configuration\", \"Repository configuration\", \"External dependencies configuration\", \"Plugin configuration\", \"External dependencies configuration\", \"External dependencies configuration\", \"External dependencies configuration\", \"Repository configuration\", \"External dependencies configuration\", \"External dependencies configuration\", \"External dependencies configuration\", \"External dependencies configuration\", \"External dependencies configuration\", \"External dependencies configuration\", \"Repository configuration\", \"Plugin configuration\", \"External dependencies configuration\", \"External dependencies configuration\", \"External dependencies configuration\", \"External dependencies configuration\", \"External dependencies configuration\", \"External dependencies configuration\", \"External dependencies configuration\", \"Plugin configuration\", \"External dependencies configuration\", \"Repository configuration\", \"External dependencies configuration\", \"Plugin configuration\", \"External dependencies configuration\", \"External dependencies configuration\", \"External dependencies configuration\", \"External dependencies configuration\", \"External dependencies configuration\", \"External dependencies configuration\", \"External dependencies configuration\", \"Plugin configuration\", \"External dependencies configuration\", \"External dependencies configuration\", \"Plugin configuration\", \"Plugin configuration\", \"External dependencies configuration\", \"External dependencies configuration\", \"External dependencies configuration\", \"External dependencies configuration\", \"External dependencies configuration\", \"External dependencies configuration\", \"Repository configuration\", \"External dependencies configuration\", \"External dependencies configuration\", \"External dependencies configuration\", \"External dependencies configuration\", \"External dependencies configuration\", \"External dependencies configuration\", \"Repository configuration\", \"Plugin configuration\", \"Build variables\", \"Plugin configuration\", \"External dependencies configuration\", \"Multi-directory configuration\", \"Build variables\", \"External dependencies configuration\", \"Plugin configuration\", \"External dependencies configuration\", \"Build variables\", \"Plugin configuration\", \"Plugin configuration\", \"Build variables\", \"Plugin configuration\", \"External dependencies configuration\", \"Build variables\", \"Plugin configuration\", \"Plugin configuration\", \"Build variables\", \"Plugin configuration\", \"Multi-directory configuration\", \"Plugin configuration\", \"External dependencies configuration\", \"Build variables\", \"Build variables\", \"Plugin configuration\", \"External dependencies configuration\", \"External dependencies configuration\", \"External dependencies configuration\", \"External dependencies configuration\", \"External dependencies configuration\", \"External dependencies configuration\", \"Plugin configuration\", \"External dependencies configuration\", \"External dependencies configuration\", \"External dependencies configuration\", \"Multi-directory configuration\", \"Build variables\", \"Plugin configuration\", \"External dependencies configuration\", \"Repository configuration\", \"External dependencies configuration\", \"Plugin configuration\", \"Build variables\", \"Build variables\", \"Plugin configuration\", \"Plugin configuration\", \"Plugin configuration\", \"Plugin configuration\", \"Build variables\", \"Plugin configuration\", \"Plugin configuration\", \"Plugin configuration\", \"Plugin configuration\", \"Multi-directory configuration\", \"Multi-directory configuration\", \"External dependencies configuration\", \"Plugin configuration\", \"Plugin configuration\", \"Plugin configuration\", \"External dependencies configuration\", \"Plugin configuration\", \"Plugin configuration\", \"External dependencies configuration\", \"External dependencies configuration\", \"Plugin configuration\", \"Plugin configuration\", \"Multi-directory configuration\", \"Plugin configuration\", \"Plugin configuration\", \"Build variables\", \"Project metadata\", \"Project metadata\", \"Build variables\", \"Build variables\", \"Project metadata\", \"Project metadata\", \"Project metadata\", \"Project metadata\", \"Build variables\", \"Build variables\", \"External dependencies configuration\", \"External dependencies configuration\", \"Plugin configuration\", \"External dependencies configuration\", \"External dependencies configuration\", \"External dependencies configuration\", \"External dependencies configuration\", \"Plugin configuration\", \"External dependencies configuration\", \"External dependencies configuration\", \"External dependencies configuration\", \"External dependencies configuration\", \"Plugin configuration\", \"Plugin configuration\", \"External dependencies configuration\", \"External dependencies configuration\", \"External dependencies configuration\", \"External dependencies configuration\", \"External dependencies configuration\", \"External dependencies configuration\", \"External dependencies configuration\", \"External dependencies configuration\", \"External dependencies configuration\", \"External dependencies configuration\", \"External dependencies configuration\", \"External dependencies configuration\", \"External dependencies configuration\", \"External dependencies configuration\", \"External dependencies configuration\", \"External dependencies configuration\", \"External dependencies configuration\", \"External dependencies configuration\", \"External dependencies configuration\", \"Plugin configuration\", \"Plugin configuration\", \"Build variables\", \"External dependencies configuration\", \"External dependencies configuration\", \"Build variables\", \"External dependencies configuration\", \"External dependencies configuration\", \"External dependencies configuration\", \"External dependencies configuration\", \"External dependencies configuration\", \"External dependencies configuration\", \"External dependencies configuration\", \"Plugin configuration\", \"External dependencies configuration\", \"External dependencies configuration\", \"Plugin configuration\", \"Plugin configuration\"]}, {\"label\": \"Purpose\", \"values\": [\"Document for later fix\", \"Silence build warnings\", \"Workaround\", \"Workaround\", \"Workaround\", \"Workaround\", \"Workaround\", \"Silence build warnings\", \"Silence build warnings\", \"Silence build warnings\", \"Silence build warnings\", \"Workaround\", \"Silence build warnings\", \"Silence build warnings\", \"Warning for future developers\", \"Workaround\", \"Workaround\", \"Silence build warnings\", \"Workaround\", \"Workaround\", \"Document for later fix\", \"Silence build warnings\", \"Workaround\", \"Workaround\", \"Document suboptimal implementation choice\", \"Document suboptimal implementation choice\", \"Workaround\", \"Document suboptimal implementation choice\", \"Workaround\", \"Document for later fix\", \"Warning for future developers\", \"Workaround\", \"Workaround\", \"Workaround\", \"Workaround\", \"Workaround\", \"Warning for future developers\", \"Document for later fix\", \"Document for later fix\", \"Document for later fix\", \"Workaround\", \"Document suboptimal implementation choice\", \"Warning for future developers\", \"Workaround\", \"Workaround\", \"Document suboptimal implementation choice\", \"Document suboptimal implementation choice\", \"Warning for future developers\", \"Document suboptimal implementation choice\", \"Document for later fix\", \"Document suboptimal implementation choice\", \"Document suboptimal implementation choice\", \"Document for later fix\", \"Document for later fix\", \"Placeholder for later\", \"Warning for future developers\", \"Document suboptimal implementation choice\", \"Document for later fix\", \"Warning for future developers\", \"Warning for future developers\", \"Warning for future developers\", \"Document suboptimal implementation choice\", \"Warning for future developers\", \"Document for later fix\", \"Document for later fix\", \"Document for later fix\", \"Document suboptimal implementation choice\", \"Workaround\", \"Document for later fix\", \"Workaround\", \"Workaround\", \"Document for later fix\", \"Document for later fix\", \"Document for later fix\", \"Document suboptimal implementation choice\", \"Warning for future developers\", \"Workaround\", \"Workaround\", \"Warning for future developers\", \"Document for later fix\", \"Warning for future developers\", \"Workaround\", \"Document suboptimal implementation choice\", \"Warning for future developers\", \"Document for later fix\", \"Document for later fix\", \"Warning for future developers\", \"Document suboptimal implementation choice\", \"Document for later fix\", \"Document for later fix\", \"Document for later fix\", \"Warning for future developers\", \"Document suboptimal implementation choice\", \"Document for later fix\", \"Document for later fix\", \"Document for later fix\", \"Document for later fix\", \"Warning for future developers\", \"Document for later fix\", \"Warning for future developers\", \"Document for later fix\", \"Document for later fix\", \"Document suboptimal implementation choice\", \"Warning for future developers\", \"Document suboptimal implementation choice\", \"Warning for future developers\", \"Workaround\", \"Warning for future developers\", \"Workaround\", \"Warning for future developers\", \"Workaround\", \"Warning for future developers\", \"Workaround\", \"Warning for future developers\", \"Document for later fix\", \"Warning for future developers\", \"Warning for future developers\", \"Document suboptimal implementation choice\", \"Workaround\", \"Document for later fix\", \"Workaround\", \"Warning for future developers\", \"Document for later fix\", \"Document suboptimal implementation choice\", \"Workaround\", \"Workaround\", \"Warning for future developers\", \"Warning for future developers\", \"Document for later fix\", \"Document for later fix\", \"Workaround\", \"Workaround\", \"Workaround\", \"Warning for future developers\", \"Document suboptimal implementation choice\", \"Document suboptimal implementation choice\", \"Document for later fix\", \"Document suboptimal implementation choice\", \"Warning for future developers\", \"Workaround\", \"Warning for future developers\", \"Workaround\", \"Document suboptimal implementation choice\", \"Warning for future developers\", \"Warning for future developers\", \"Document for later fix\", \"Document for later fix\", \"Warning for future developers\", \"Document suboptimal implementation choice\", \"Workaround\", \"Document for later fix\", \"Document for later fix\", \"Workaround\", \"Workaround\", \"Warning for future developers\", \"Warning for future developers\", \"Warning for future developers\", \"Workaround\", \"Workaround\", \"Workaround\", \"Document for later fix\", \"Warning for future developers\", \"Warning for future developers\", \"Document for later fix\", \"Document suboptimal implementation choice\", \"Document for later fix\", \"Document for later fix\", \"Warning for future developers\", \"Document for later fix\", \"Document for later fix\", \"Warning for future developers\", \"Warning for future developers\", \"Warning for future developers\", \"Document for later fix\", \"Workaround\", \"Document suboptimal implementation choice\", \"Document for later fix\", \"Workaround\", \"Document suboptimal implementation choice\", \"Document suboptimal implementation choice\", \"Document for later fix\", \"Warning for future developers\", \"Document suboptimal implementation choice\", \"Document suboptimal implementation choice\", \"Document for later fix\", \"Workaround\", \"Workaround\", \"Warning for future developers\", \"Document suboptimal implementation choice\", \"Workaround\", \"Document for later fix\", \"Document for later fix\", \"Warning for future developers\", \"Warning for future developers\", \"Document suboptimal implementation choice\", \"Warning for future developers\", \"Warning for future developers\", \"Document suboptimal implementation choice\", \"Workaround\", \"Document for later fix\", \"Workaround\", \"Warning for future developers\", \"Document for later fix\", \"Document for later fix\", \"Document for later fix\", \"Warning for future developers\", \"Warning for future developers\", \"Document suboptimal implementation choice\", \"Document suboptimal implementation choice\", \"Warning for future developers\", \"Warning for future developers\", \"Warning for future developers\", \"Warning for future developers\", \"Workaround\", \"Document suboptimal implementation choice\", \"Document for later fix\", \"Document suboptimal implementation choice\", \"Document for later fix\", \"Document for later fix\", \"Warning for future developers\", \"Warning for future developers\", \"Warning for future developers\", \"Warning for future developers\", \"Warning for future developers\", \"Document for later fix\", \"Warning for future developers\", \"Warning for future developers\", \"Document for later fix\", \"Warning for future developers\", \"Document for later fix\", \"Document for later fix\", \"Document for later fix\", \"Document for later fix\", \"Document for later fix\", \"Warning for future developers\", \"Warning for future developers\", \"Warning for future developers\", \"Document for later fix\", \"Document for later fix\", \"Document suboptimal implementation choice\", \"Document for later fix\", \"Workaround\", \"Document for later fix\", \"Document suboptimal implementation choice\", \"Document for later fix\", \"Document for later fix\", \"Workaround\", \"Document for later fix\", \"Document for later fix\", \"Document suboptimal implementation choice\", \"Workaround\", \"Document for later fix\", \"Warning for future developers\", \"Document suboptimal implementation choice\", \"Document for later fix\", \"Warning for future developers\", \"Document for later fix\", \"Document for later fix\", \"Warning for future developers\", \"Warning for future developers\", \"Document suboptimal implementation choice\", \"Warning for future developers\", \"Document for later fix\", \"Workaround\", \"Warning for future developers\", \"Warning for future developers\", \"Document for later fix\", \"Document for later fix\", \"Workaround\", \"Warning for future developers\", \"Workaround\", \"Warning for future developers\", \"Workaround\", \"Document for later fix\", \"Workaround\", \"Workaround\", \"Document suboptimal implementation choice\", \"Document suboptimal implementation choice\", \"Workaround\", \"Document suboptimal implementation choice\", \"Workaround\", \"Workaround\", \"Workaround\", \"Workaround\", \"Document suboptimal implementation choice\", \"Workaround\", \"Warning for future developers\", \"Document for later fix\", \"Workaround\", \"Warning for future developers\", \"Warning for future developers\", \"Workaround\", \"Workaround\", \"Document for later fix\", \"Warning for future developers\", \"Workaround\", \"Warning for future developers\", \"Document for later fix\", \"Workaround\", \"Warning for future developers\", \"Placeholder for later\", \"Placeholder for later\", \"Placeholder for later\", \"Workaround\", \"Placeholder for later\", \"Placeholder for later\", \"Placeholder for later\", \"Placeholder for later\", \"Placeholder for later\", \"Workaround\", \"Placeholder for later\", \"Workaround\", \"Document for later fix\", \"Document for later fix\", \"Document for later fix\", \"Workaround\", \"Warning for future developers\", \"Workaround\", \"Document for later fix\", \"Document for later fix\", \"Warning for future developers\", \"Document for later fix\", \"Workaround\", \"Document for later fix\", \"Workaround\", \"Document for later fix\", \"Workaround\", \"Workaround\", \"Document suboptimal implementation choice\", \"Workaround\", \"Workaround\", \"Workaround\", \"Document for later fix\", \"Document for later fix\", \"Warning for future developers\", \"Document for later fix\", \"Workaround\", \"Workaround\", \"Document for later fix\", \"Document for later fix\", \"Workaround\", \"Workaround\", \"Warning for future developers\", \"Placeholder for later\", \"Document for later fix\", \"Document for later fix\", \"Warning for future developers\", \"Warning for future developers\", \"Warning for future developers\", \"Workaround\", \"Warning for future developers\", \"Workaround\", \"Warning for future developers\", \"Warning for future developers\", \"Document suboptimal implementation choice\", \"Document suboptimal implementation choice\", \"Document for later fix\", \"Warning for future developers\", \"Workaround\", \"Document suboptimal implementation choice\", \"Warning for future developers\", \"Warning for future developers\", \"Placeholder for later\", \"Document for later fix\", \"Document for later fix\", \"Document suboptimal implementation choice\", \"Warning for future developers\", \"Placeholder for later\", \"Document for later fix\", \"Document for later fix\", \"Workaround\", \"Document suboptimal implementation choice\", \"Document for later fix\", \"Document for later fix\", \"Document for later fix\", \"Document suboptimal implementation choice\", \"Document for later fix\", \"Document for later fix\", \"Warning for future developers\", \"Document for later fix\", \"Document for later fix\", \"Document suboptimal implementation choice\", \"Warning for future developers\", \"Document suboptimal implementation choice\", \"Document for later fix\", \"Document for later fix\", \"Document for later fix\", \"Warning for future developers\", \"Document for later fix\", \"Warning for future developers\", \"Document for later fix\", \"Document for later fix\", \"Document for later fix\", \"Document for later fix\", \"Document for later fix\", \"Document for later fix\", \"Workaround\", \"Workaround\", \"Document suboptimal implementation choice\", \"Warning for future developers\", \"Workaround\", \"Document suboptimal implementation choice\", \"Document for later fix\", \"Document suboptimal implementation choice\", \"Workaround\", \"Document suboptimal implementation choice\", \"Workaround\", \"Document suboptimal implementation choice\", \"Warning for future developers\", \"Document for later fix\", \"Workaround\", \"Document for later fix\", \"Document for later fix\", \"Warning for future developers\", \"Document suboptimal implementation choice\", \"Document for later fix\", \"Document for later fix\", \"Document suboptimal implementation choice\", \"Document for later fix\", \"Workaround\", \"Warning for future developers\", \"Document suboptimal implementation choice\", \"Document for later fix\", \"Document for later fix\", \"Workaround\", \"Warning for future developers\", \"Document suboptimal implementation choice\", \"Document for later fix\", \"Workaround\", \"Workaround\", \"Workaround\", \"Document for later fix\", \"Document for later fix\", \"Warning for future developers\", \"Warning for future developers\", \"Document for later fix\", \"Workaround\", \"Document for later fix\", \"Workaround\", \"Document for later fix\", \"Document for later fix\", \"Document suboptimal implementation choice\", \"Document for later fix\", \"Document for later fix\", \"Document for later fix\", \"Document for later fix\", \"Document for later fix\", \"Document for later fix\", \"Document for later fix\", \"Document for later fix\", \"Document for later fix\", \"Workaround\", \"Document suboptimal implementation choice\", \"Document for later fix\", \"Document for later fix\", \"Warning for future developers\", \"Document for later fix\", \"Document for later fix\", \"Document for later fix\", \"Document for later fix\", \"Document for later fix\", \"Document for later fix\", \"Document for later fix\", \"Document suboptimal implementation choice\", \"Workaround\", \"Document suboptimal implementation choice\", \"Document for later fix\", \"Document suboptimal implementation choice\", \"Document for later fix\", \"Document for later fix\", \"Document suboptimal implementation choice\", \"Document for later fix\", \"Document for later fix\", \"Document suboptimal implementation choice\", \"Document suboptimal implementation choice\", \"Warning for future developers\", \"Document for later fix\", \"Workaround\", \"Document suboptimal implementation choice\", \"Workaround\", \"Document suboptimal implementation choice\", \"Document suboptimal implementation choice\", \"Document for later fix\", \"Warning for future developers\", \"Document for later fix\", \"Document suboptimal implementation choice\", \"Document for later fix\", \"Document for later fix\", \"Document suboptimal implementation choice\", \"Document for later fix\", \"Document for later fix\", \"Document for later fix\", \"Document suboptimal implementation choice\", \"Document for later fix\", \"Document for later fix\", \"Document suboptimal implementation choice\", \"Document suboptimal implementation choice\", \"Document for later fix\", \"Document suboptimal implementation choice\", \"Workaround\"]}], \"hoverinfo\": \"count+probability\", \"hoveron\": \"color\", \"labelfont\": {\"family\": \"Times\", \"size\": 14}, \"line\": {\"color\": [57, 8, 73, 73, 73, 73, 73, 8, 8, 8, 8, 73, 8, 8, 2, 73, 73, 1, 73, 73, 57, 8, 73, 73, 3, 3, 73, 3, 2, 57, 32, 73, 73, 2, 73, 9, 62, 3, 30, 57, 73, 29, 62, 73, 73, 6, 6, 12, 6, 57, 6, 6, 3, 3, 9, 32, 6, 57, 62, 12, 12, 7, 12, 4, 65, 57, 36, 73, 57, 73, 73, 57, 57, 57, 36, 62, 73, 73, 32, 65, 62, 73, 36, 32, 65, 57, 62, 36, 57, 65, 30, 62, 29, 65, 57, 57, 65, 62, 57, 62, 57, 57, 36, 62, 36, 62, 73, 32, 73, 32, 73, 2, 73, 32, 57, 62, 62, 36, 73, 57, 73, 62, 57, 36, 27, 73, 62, 62, 57, 57, 73, 73, 73, 62, 29, 29, 65, 36, 62, 9, 62, 27, 36, 62, 32, 65, 30, 32, 36, 9, 57, 30, 73, 73, 62, 62, 62, 73, 73, 73, 30, 32, 12, 30, 36, 65, 30, 62, 57, 30, 62, 62, 62, 57, 73, 36, 65, 73, 29, 36, 57, 62, 36, 36, 57, 27, 9, 62, 36, 27, 57, 30, 32, 32, 36, 62, 32, 36, 27, 30, 73, 62, 57, 65, 57, 62, 62, 36, 36, 62, 62, 62, 62, 73, 36, 7, 36, 30, 65, 32, 62, 12, 62, 62, 65, 32, 62, 57, 62, 30, 65, 57, 57, 65, 12, 62, 62, 30, 57, 36, 57, 9, 65, 36, 57, 30, 73, 7, 57, 7, 9, 57, 32, 36, 57, 62, 65, 57, 12, 12, 29, 12, 65, 27, 62, 62, 30, 30, 73, 62, 9, 1, 27, 65, 73, 73, 36, 36, 27, 36, 73, 27, 73, 73, 7, 27, 12, 57, 73, 62, 12, 73, 73, 57, 62, 9, 32, 65, 73, 62, 9, 3, 9, 73, 9, 9, 9, 9, 9, 73, 9, 73, 65, 4, 65, 1, 32, 73, 65, 65, 32, 4, 27, 65, 27, 65, 27, 27, 1, 73, 27, 27, 65, 65, 32, 65, 27, 73, 65, 4, 27, 73, 32, 3, 65, 65, 32, 32, 32, 73, 32, 27, 62, 62, 29, 29, 65, 32, 27, 29, 2, 32, 3, 65, 65, 29, 32, 1, 57, 30, 73, 29, 7, 30, 65, 36, 65, 30, 62, 57, 30, 36, 32, 7, 57, 57, 30, 62, 7, 62, 65, 30, 30, 57, 65, 65, 27, 27, 29, 32, 73, 29, 65, 29, 1, 7, 73, 29, 2, 65, 73, 30, 30, 62, 36, 57, 57, 7, 57, 73, 62, 36, 7, 7, 27, 62, 36, 57, 27, 73, 73, 65, 65, 62, 62, 7, 73, 57, 9, 6, 6, 7, 30, 6, 6, 6, 6, 30, 30, 65, 65, 73, 29, 65, 65, 32, 57, 65, 65, 65, 65, 57, 57, 29, 27, 29, 65, 29, 65, 65, 29, 65, 65, 29, 29, 32, 65, 27, 29, 27, 29, 29, 57, 62, 30, 29, 65, 30, 29, 65, 65, 65, 29, 65, 65, 36, 29, 65, 36, 73], \"colorbar\": {\"len\": 0.7, \"thickness\": 10, \"x\": 1.5}, \"colorscale\": [[0.0, \"rgb(0, 0, 0)\"], [0.09090909090909091, \"rgb(16, 16, 16)\"], [0.18181818181818182, \"rgb(38, 38, 38)\"], [0.2727272727272727, \"rgb(59, 59, 59)\"], [0.36363636363636365, \"rgb(81, 80, 80)\"], [0.45454545454545453, \"rgb(102, 101, 101)\"], [0.5454545454545454, \"rgb(124, 123, 122)\"], [0.6363636363636364, \"rgb(146, 146, 145)\"], [0.7272727272727273, \"rgb(171, 171, 170)\"], [0.8181818181818182, \"rgb(197, 197, 195)\"], [0.9090909090909091, \"rgb(224, 224, 223)\"], [1.0, \"rgb(254, 254, 253)\"]], \"reversescale\": true, \"shape\": \"hspline\", \"showscale\": true}, \"tickfont\": {\"family\": \"Times\", \"size\": 12}, \"type\": \"parcats\"}],\n",
       "                        {\"margin\": {\"b\": 10, \"l\": 150, \"pad\": 0, \"r\": 150, \"t\": 20}, \"template\": {\"data\": {\"bar\": [{\"error_x\": {\"color\": \"#2a3f5f\"}, \"error_y\": {\"color\": \"#2a3f5f\"}, \"marker\": {\"line\": {\"color\": \"#E5ECF6\", \"width\": 0.5}}, \"type\": \"bar\"}], \"barpolar\": [{\"marker\": {\"line\": {\"color\": \"#E5ECF6\", \"width\": 0.5}}, \"type\": \"barpolar\"}], \"carpet\": [{\"aaxis\": {\"endlinecolor\": \"#2a3f5f\", \"gridcolor\": \"white\", \"linecolor\": \"white\", \"minorgridcolor\": \"white\", \"startlinecolor\": \"#2a3f5f\"}, \"baxis\": {\"endlinecolor\": \"#2a3f5f\", \"gridcolor\": \"white\", \"linecolor\": \"white\", \"minorgridcolor\": \"white\", \"startlinecolor\": \"#2a3f5f\"}, \"type\": \"carpet\"}], \"choropleth\": [{\"colorbar\": {\"outlinewidth\": 0, \"ticks\": \"\"}, \"type\": \"choropleth\"}], \"contour\": [{\"colorbar\": {\"outlinewidth\": 0, \"ticks\": \"\"}, \"colorscale\": [[0.0, \"#0d0887\"], [0.1111111111111111, \"#46039f\"], [0.2222222222222222, \"#7201a8\"], [0.3333333333333333, \"#9c179e\"], [0.4444444444444444, \"#bd3786\"], [0.5555555555555556, \"#d8576b\"], [0.6666666666666666, \"#ed7953\"], [0.7777777777777778, \"#fb9f3a\"], [0.8888888888888888, \"#fdca26\"], [1.0, \"#f0f921\"]], \"type\": \"contour\"}], \"contourcarpet\": [{\"colorbar\": {\"outlinewidth\": 0, \"ticks\": \"\"}, \"type\": \"contourcarpet\"}], \"heatmap\": [{\"colorbar\": {\"outlinewidth\": 0, \"ticks\": \"\"}, \"colorscale\": [[0.0, \"#0d0887\"], [0.1111111111111111, \"#46039f\"], [0.2222222222222222, \"#7201a8\"], [0.3333333333333333, \"#9c179e\"], [0.4444444444444444, \"#bd3786\"], [0.5555555555555556, \"#d8576b\"], [0.6666666666666666, \"#ed7953\"], [0.7777777777777778, \"#fb9f3a\"], [0.8888888888888888, \"#fdca26\"], [1.0, \"#f0f921\"]], \"type\": \"heatmap\"}], \"heatmapgl\": [{\"colorbar\": {\"outlinewidth\": 0, \"ticks\": \"\"}, \"colorscale\": [[0.0, \"#0d0887\"], [0.1111111111111111, \"#46039f\"], [0.2222222222222222, \"#7201a8\"], [0.3333333333333333, \"#9c179e\"], [0.4444444444444444, \"#bd3786\"], [0.5555555555555556, \"#d8576b\"], [0.6666666666666666, \"#ed7953\"], [0.7777777777777778, \"#fb9f3a\"], [0.8888888888888888, \"#fdca26\"], [1.0, \"#f0f921\"]], \"type\": \"heatmapgl\"}], \"histogram\": [{\"marker\": {\"colorbar\": {\"outlinewidth\": 0, \"ticks\": \"\"}}, \"type\": \"histogram\"}], \"histogram2d\": [{\"colorbar\": {\"outlinewidth\": 0, \"ticks\": \"\"}, \"colorscale\": [[0.0, \"#0d0887\"], [0.1111111111111111, \"#46039f\"], [0.2222222222222222, \"#7201a8\"], [0.3333333333333333, \"#9c179e\"], [0.4444444444444444, \"#bd3786\"], [0.5555555555555556, \"#d8576b\"], [0.6666666666666666, \"#ed7953\"], [0.7777777777777778, \"#fb9f3a\"], [0.8888888888888888, \"#fdca26\"], [1.0, \"#f0f921\"]], \"type\": \"histogram2d\"}], \"histogram2dcontour\": [{\"colorbar\": {\"outlinewidth\": 0, \"ticks\": \"\"}, \"colorscale\": [[0.0, \"#0d0887\"], [0.1111111111111111, \"#46039f\"], [0.2222222222222222, \"#7201a8\"], [0.3333333333333333, \"#9c179e\"], [0.4444444444444444, \"#bd3786\"], [0.5555555555555556, \"#d8576b\"], [0.6666666666666666, \"#ed7953\"], [0.7777777777777778, \"#fb9f3a\"], [0.8888888888888888, \"#fdca26\"], [1.0, \"#f0f921\"]], \"type\": \"histogram2dcontour\"}], \"mesh3d\": [{\"colorbar\": {\"outlinewidth\": 0, \"ticks\": \"\"}, \"type\": \"mesh3d\"}], \"parcoords\": [{\"line\": {\"colorbar\": {\"outlinewidth\": 0, \"ticks\": \"\"}}, \"type\": \"parcoords\"}], \"pie\": [{\"automargin\": true, \"type\": \"pie\"}], \"scatter\": [{\"marker\": {\"colorbar\": {\"outlinewidth\": 0, \"ticks\": \"\"}}, \"type\": \"scatter\"}], \"scatter3d\": [{\"line\": {\"colorbar\": {\"outlinewidth\": 0, \"ticks\": \"\"}}, \"marker\": {\"colorbar\": {\"outlinewidth\": 0, \"ticks\": \"\"}}, \"type\": \"scatter3d\"}], \"scattercarpet\": [{\"marker\": {\"colorbar\": {\"outlinewidth\": 0, \"ticks\": \"\"}}, \"type\": \"scattercarpet\"}], \"scattergeo\": [{\"marker\": {\"colorbar\": {\"outlinewidth\": 0, \"ticks\": \"\"}}, \"type\": \"scattergeo\"}], \"scattergl\": [{\"marker\": {\"colorbar\": {\"outlinewidth\": 0, \"ticks\": \"\"}}, \"type\": \"scattergl\"}], \"scattermapbox\": [{\"marker\": {\"colorbar\": {\"outlinewidth\": 0, \"ticks\": \"\"}}, \"type\": \"scattermapbox\"}], \"scatterpolar\": [{\"marker\": {\"colorbar\": {\"outlinewidth\": 0, \"ticks\": \"\"}}, \"type\": \"scatterpolar\"}], \"scatterpolargl\": [{\"marker\": {\"colorbar\": {\"outlinewidth\": 0, \"ticks\": \"\"}}, \"type\": \"scatterpolargl\"}], \"scatterternary\": [{\"marker\": {\"colorbar\": {\"outlinewidth\": 0, \"ticks\": \"\"}}, \"type\": \"scatterternary\"}], \"surface\": [{\"colorbar\": {\"outlinewidth\": 0, \"ticks\": \"\"}, \"colorscale\": [[0.0, \"#0d0887\"], [0.1111111111111111, \"#46039f\"], [0.2222222222222222, \"#7201a8\"], [0.3333333333333333, \"#9c179e\"], [0.4444444444444444, \"#bd3786\"], [0.5555555555555556, \"#d8576b\"], [0.6666666666666666, \"#ed7953\"], [0.7777777777777778, \"#fb9f3a\"], [0.8888888888888888, \"#fdca26\"], [1.0, \"#f0f921\"]], \"type\": \"surface\"}], \"table\": [{\"cells\": {\"fill\": {\"color\": \"#EBF0F8\"}, \"line\": {\"color\": \"white\"}}, \"header\": {\"fill\": {\"color\": \"#C8D4E3\"}, \"line\": {\"color\": \"white\"}}, \"type\": \"table\"}]}, \"layout\": {\"annotationdefaults\": {\"arrowcolor\": \"#2a3f5f\", \"arrowhead\": 0, \"arrowwidth\": 1}, \"coloraxis\": {\"colorbar\": {\"outlinewidth\": 0, \"ticks\": \"\"}}, \"colorscale\": {\"diverging\": [[0, \"#8e0152\"], [0.1, \"#c51b7d\"], [0.2, \"#de77ae\"], [0.3, \"#f1b6da\"], [0.4, \"#fde0ef\"], [0.5, \"#f7f7f7\"], [0.6, \"#e6f5d0\"], [0.7, \"#b8e186\"], [0.8, \"#7fbc41\"], [0.9, \"#4d9221\"], [1, \"#276419\"]], \"sequential\": [[0.0, \"#0d0887\"], [0.1111111111111111, \"#46039f\"], [0.2222222222222222, \"#7201a8\"], [0.3333333333333333, \"#9c179e\"], [0.4444444444444444, \"#bd3786\"], [0.5555555555555556, \"#d8576b\"], [0.6666666666666666, \"#ed7953\"], [0.7777777777777778, \"#fb9f3a\"], [0.8888888888888888, \"#fdca26\"], [1.0, \"#f0f921\"]], \"sequentialminus\": [[0.0, \"#0d0887\"], [0.1111111111111111, \"#46039f\"], [0.2222222222222222, \"#7201a8\"], [0.3333333333333333, \"#9c179e\"], [0.4444444444444444, \"#bd3786\"], [0.5555555555555556, \"#d8576b\"], [0.6666666666666666, \"#ed7953\"], [0.7777777777777778, \"#fb9f3a\"], [0.8888888888888888, \"#fdca26\"], [1.0, \"#f0f921\"]]}, \"colorway\": [\"#636efa\", \"#EF553B\", \"#00cc96\", \"#ab63fa\", \"#FFA15A\", \"#19d3f3\", \"#FF6692\", \"#B6E880\", \"#FF97FF\", \"#FECB52\"], \"font\": {\"color\": \"#2a3f5f\"}, \"geo\": {\"bgcolor\": \"white\", \"lakecolor\": \"white\", \"landcolor\": \"#E5ECF6\", \"showlakes\": true, \"showland\": true, \"subunitcolor\": \"white\"}, \"hoverlabel\": {\"align\": \"left\"}, \"hovermode\": \"closest\", \"mapbox\": {\"style\": \"light\"}, \"paper_bgcolor\": \"white\", \"plot_bgcolor\": \"#E5ECF6\", \"polar\": {\"angularaxis\": {\"gridcolor\": \"white\", \"linecolor\": \"white\", \"ticks\": \"\"}, \"bgcolor\": \"#E5ECF6\", \"radialaxis\": {\"gridcolor\": \"white\", \"linecolor\": \"white\", \"ticks\": \"\"}}, \"scene\": {\"xaxis\": {\"backgroundcolor\": \"#E5ECF6\", \"gridcolor\": \"white\", \"gridwidth\": 2, \"linecolor\": \"white\", \"showbackground\": true, \"ticks\": \"\", \"zerolinecolor\": \"white\"}, \"yaxis\": {\"backgroundcolor\": \"#E5ECF6\", \"gridcolor\": \"white\", \"gridwidth\": 2, \"linecolor\": \"white\", \"showbackground\": true, \"ticks\": \"\", \"zerolinecolor\": \"white\"}, \"zaxis\": {\"backgroundcolor\": \"#E5ECF6\", \"gridcolor\": \"white\", \"gridwidth\": 2, \"linecolor\": \"white\", \"showbackground\": true, \"ticks\": \"\", \"zerolinecolor\": \"white\"}}, \"shapedefaults\": {\"line\": {\"color\": \"#2a3f5f\"}}, \"ternary\": {\"aaxis\": {\"gridcolor\": \"white\", \"linecolor\": \"white\", \"ticks\": \"\"}, \"baxis\": {\"gridcolor\": \"white\", \"linecolor\": \"white\", \"ticks\": \"\"}, \"bgcolor\": \"#E5ECF6\", \"caxis\": {\"gridcolor\": \"white\", \"linecolor\": \"white\", \"ticks\": \"\"}}, \"title\": {\"x\": 0.05}, \"xaxis\": {\"automargin\": true, \"gridcolor\": \"white\", \"linecolor\": \"white\", \"ticks\": \"\", \"title\": {\"standoff\": 15}, \"zerolinecolor\": \"white\", \"zerolinewidth\": 2}, \"yaxis\": {\"automargin\": true, \"gridcolor\": \"white\", \"linecolor\": \"white\", \"ticks\": \"\", \"title\": {\"standoff\": 15}, \"zerolinecolor\": \"white\", \"zerolinewidth\": 2}}}},\n",
       "                        {\"responsive\": true}\n",
       "                    ).then(function(){\n",
       "                            \n",
       "var gd = document.getElementById('f90af399-6a0c-4bbb-9de4-de86fabac4b3');\n",
       "var x = new MutationObserver(function (mutations, observer) {{\n",
       "        var display = window.getComputedStyle(gd).display;\n",
       "        if (!display || display === 'none') {{\n",
       "            console.log([gd, 'removed!']);\n",
       "            Plotly.purge(gd);\n",
       "            observer.disconnect();\n",
       "        }}\n",
       "}});\n",
       "\n",
       "// Listen for the removal of the full notebook cells\n",
       "var notebookContainer = gd.closest('#notebook-container');\n",
       "if (notebookContainer) {{\n",
       "    x.observe(notebookContainer, {childList: true});\n",
       "}}\n",
       "\n",
       "// Listen for the clearing of the current output cell\n",
       "var outputEl = gd.closest('.output');\n",
       "if (outputEl) {{\n",
       "    x.observe(outputEl, {childList: true});\n",
       "}}\n",
       "\n",
       "                        })\n",
       "                };\n",
       "                });\n",
       "            </script>\n",
       "        </div>"
      ]
     },
     "metadata": {},
     "output_type": "display_data"
    }
   ],
   "source": [
    "# Draw location-purpose diagram \n",
    "import plotly.graph_objects as go\n",
    "\n",
    "color = df.location_purpose;\n",
    "\n",
    "\n",
    "fig = go.Figure(data = [go.Parcats(\n",
    "        dimensions=[\n",
    "        {'label': 'Location',\n",
    "         'values': df['Location']},\n",
    "        {'label': 'Purpose',\n",
    "         'values': df['Purpose']}],\n",
    "        line={'shape': 'hspline',\n",
    "              'color' : color ,'colorscale' : 'gray', 'reversescale' : True, 'showscale': True, \n",
    "              'colorbar': {'thickness': 10, 'x': 1.5, 'len': 0.7}},\n",
    "        hoveron='color', hoverinfo='count+probability',\n",
    "        labelfont={'size': 14, 'family': 'Times'},\n",
    "        tickfont={'size': 12, 'family': 'Times'},\n",
    "\n",
    "        arrangement='freeform')])\n",
    "\n",
    "fig.update_layout(\n",
    "    margin=dict(\n",
    "        l=150,\n",
    "        r=150,\n",
    "        b=10,\n",
    "        t=20,\n",
    "        pad=0\n",
    "    )\n",
    ")\n",
    "\n",
    "fig.show()"
   ]
  },
  {
   "cell_type": "code",
   "execution_count": 22,
   "metadata": {},
   "outputs": [
    {
     "data": {
      "application/vnd.plotly.v1+json": {
       "config": {
        "plotlyServerURL": "https://plot.ly"
       },
       "data": [
        {
         "arrangement": "freeform",
         "dimensions": [
          {
           "label": "Reason",
           "values": [
            "Breakage and Design",
            "Breakage and Design",
            "Breakage and Design",
            "Breakage and Design",
            "Breakage and Design",
            "Breakage and Design",
            "Breakage and Design",
            "Breakage and Design",
            "Breakage and Design",
            "Breakage and Design",
            "Breakage and Design",
            "Breakage and Design",
            "Breakage and Design",
            "Breakage and Design",
            "Breakage and Design",
            "Breakage and Design",
            "Breakage and Design",
            "Breakage and Design",
            "Breakage and Design",
            "Breakage and Design",
            "Breakage and Design",
            "Breakage and Design",
            "Limitation",
            "Limitation",
            "Limitation",
            "Limitation",
            "Limitation",
            "Limitation",
            "Limitation",
            "Limitation",
            "Limitation",
            "Limitation",
            "Limitation",
            "Limitation",
            "Limitation",
            "Limitation",
            "Limitation",
            "Consistency",
            "Consistency",
            "Breakage and Design",
            "Breakage and Design",
            "Breakage and Design",
            "Compiler setting",
            "Compiler setting",
            "Compiler setting",
            "Compiler setting",
            "Compiler setting",
            "Compiler setting",
            "Compiler setting",
            "Compiler setting",
            "Compiler setting",
            "Compiler setting",
            "Compiler setting",
            "Compiler setting",
            "Compiler setting",
            "Compiler setting",
            "Compiler setting",
            "Compiler setting",
            "Installation and Deployment",
            "Installation and Deployment",
            "Installation and Deployment",
            "Installation and Deployment",
            "Installation and Deployment",
            "Installation and Deployment",
            "Limitation",
            "Limitation",
            "Limitation",
            "Limitation",
            "Limitation",
            "Limitation",
            "Limitation",
            "Limitation",
            "Limitation",
            "Limitation",
            "Limitation",
            "Limitation",
            "Limitation",
            "Limitation",
            "Limitation",
            "Limitation",
            "Limitation",
            "Limitation",
            "Limitation",
            "Limitation",
            "Limitation",
            "Limitation",
            "Limitation",
            "Limitation",
            "Limitation",
            "Limitation",
            "Limitation",
            "Limitation",
            "Limitation",
            "Limitation",
            "Limitation",
            "Limitation",
            "Limitation",
            "Limitation",
            "Limitation",
            "Limitation",
            "Limitation",
            "Limitation",
            "Limitation",
            "Limitation",
            "Limitation",
            "Limitation",
            "Limitation",
            "Limitation",
            "Limitation",
            "Limitation",
            "Limitation",
            "Limitation",
            "Limitation",
            "Limitation",
            "Limitation",
            "Limitation",
            "Limitation",
            "Limitation",
            "Limitation",
            "Limitation",
            "Limitation",
            "Limitation",
            "Limitation",
            "Limitation",
            "Limitation",
            "Limitation",
            "Limitation",
            "Limitation",
            "Limitation",
            "Limitation",
            "Limitation",
            "Limitation",
            "Limitation",
            "Limitation",
            "Limitation",
            "Limitation",
            "Limitation",
            "Limitation",
            "Limitation",
            "Limitation",
            "Limitation",
            "Limitation",
            "Limitation",
            "Limitation",
            "Limitation",
            "Limitation",
            "Limitation",
            "Limitation",
            "Limitation",
            "Limitation",
            "Limitation",
            "Limitation",
            "Limitation",
            "Limitation",
            "Limitation",
            "Limitation",
            "Limitation",
            "Limitation",
            "Limitation",
            "Limitation",
            "Limitation",
            "Limitation",
            "Limitation",
            "Limitation",
            "Limitation",
            "Limitation",
            "Limitation",
            "Limitation",
            "Limitation",
            "Limitation",
            "Limitation",
            "Limitation",
            "Limitation",
            "Limitation",
            "Limitation",
            "Limitation",
            "Limitation",
            "Limitation",
            "Limitation",
            "Limitation",
            "Limitation",
            "Limitation",
            "Limitation",
            "Limitation",
            "Limitation",
            "Limitation",
            "Limitation",
            "Limitation",
            "Limitation",
            "Limitation",
            "Limitation",
            "Limitation",
            "Limitation",
            "Limitation",
            "Limitation",
            "Limitation",
            "Limitation",
            "Limitation",
            "Limitation",
            "Limitation",
            "Limitation",
            "Limitation",
            "Limitation",
            "Limitation",
            "Limitation",
            "Limitation",
            "Limitation",
            "Limitation",
            "Limitation",
            "Limitation",
            "Limitation",
            "Limitation",
            "Limitation",
            "Limitation",
            "Limitation",
            "Limitation",
            "Limitation",
            "Limitation",
            "Limitation",
            "Limitation",
            "Limitation",
            "Limitation",
            "Limitation",
            "Limitation",
            "Limitation",
            "Limitation",
            "Limitation",
            "Limitation",
            "Limitation",
            "Limitation",
            "Limitation",
            "Limitation",
            "Limitation",
            "Limitation",
            "Limitation",
            "Limitation",
            "Limitation",
            "Limitation",
            "Limitation",
            "Limitation",
            "Limitation",
            "Limitation",
            "Limitation",
            "Limitation",
            "Limitation",
            "Limitation",
            "Limitation",
            "Limitation",
            "Limitation",
            "Limitation",
            "Limitation",
            "Limitation",
            "Limitation",
            "Limitation",
            "Limitation",
            "Limitation",
            "Limitation",
            "Limitation",
            "Limitation",
            "Limitation",
            "Limitation",
            "Limitation",
            "Limitation",
            "Limitation",
            "Limitation",
            "Limitation",
            "Limitation",
            "Limitation",
            "Limitation",
            "Limitation",
            "Limitation",
            "Limitation",
            "Limitation",
            "Limitation",
            "Limitation",
            "Limitation",
            "Limitation",
            "Limitation",
            "Limitation",
            "Limitation",
            "Limitation",
            "Limitation",
            "Limitation",
            "Limitation",
            "Limitation",
            "Limitation",
            "Limitation",
            "Limitation",
            "Limitation",
            "Limitation",
            "Limitation",
            "Limitation",
            "Limitation",
            "Limitation",
            "Installation and Deployment",
            "Installation and Deployment",
            "Installation and Deployment",
            "Installation and Deployment",
            "Installation and Deployment",
            "Installation and Deployment",
            "Document",
            "Document",
            "Document",
            "Document",
            "Document",
            "Document",
            "Document",
            "Document",
            "Document",
            "Document",
            "Document",
            "Dependency",
            "Dependency",
            "Dependency",
            "Dependency",
            "Dependency",
            "Dependency",
            "Dependency",
            "Dependency",
            "Dependency",
            "Dependency",
            "Dependency",
            "Dependency",
            "Dependency",
            "Dependency",
            "Dependency",
            "Dependency",
            "Dependency",
            "Dependency",
            "Dependency",
            "Dependency",
            "Dependency",
            "Dependency",
            "Dependency",
            "Dependency",
            "Dependency",
            "Dependency",
            "Dependency",
            "Dependency",
            "Dependency",
            "Dependency",
            "Dependency",
            "Dependency",
            "Dependency",
            "Dependency",
            "Dependency",
            "Dependency",
            "Dependency",
            "Dependency",
            "Dependency",
            "Dependency",
            "Dependency",
            "Dependency",
            "Dependency",
            "Dependency",
            "Dependency",
            "Dependency",
            "Dependency",
            "Dependency",
            "Dependency",
            "Dependency",
            "Dependency",
            "Dependency",
            "Dependency",
            "Dependency",
            "Dependency",
            "Dependency",
            "Lack of information",
            "Lack of information",
            "Lack of information",
            "Lack of information",
            "Lack of information",
            "Lack of information",
            "Lack of information",
            "Lack of information",
            "Lack of information",
            "Lack of information",
            "Lack of information",
            "Lack of information",
            "Lack of information",
            "Lack of information",
            "Lack of information",
            "Lack of information",
            "Lack of information",
            "Lack of information",
            "Lack of information",
            "Lack of information",
            "Lack of information",
            "Lack of information",
            "Lack of information",
            "Lack of information",
            "Lack of information",
            "Dependency",
            "Dependency",
            "Dependency",
            "Dependency",
            "Dependency",
            "Dependency",
            "Dependency",
            "Dependency",
            "Dependency",
            "Dependency",
            "Dependency",
            "Dependency",
            "Consistency",
            "Consistency",
            "Consistency",
            "Consistency",
            "Consistency",
            "Consistency",
            "Consistency",
            "Consistency",
            "Consistency",
            "Consistency",
            "Consistency",
            "Consistency",
            "Consistency",
            "Consistency",
            "Consistency",
            "Consistency",
            "Consistency",
            "Consistency",
            "Consistency",
            "Consistency",
            "Consistency",
            "Consistency",
            "Consistency",
            "Consistency",
            "Consistency",
            "Consistency",
            "Consistency",
            "Consistency",
            "Consistency",
            "Consistency",
            "Consistency",
            "Consistency",
            "Consistency",
            "Document",
            "Document",
            "Document",
            "Document",
            "Document",
            "Document",
            "Document",
            "Document",
            "Document",
            "Document",
            "Document",
            "Document",
            "Dependency",
            "Dependency",
            "Dependency",
            "Dependency",
            "Dependency",
            "Dependency",
            "Dependency",
            "Dependency",
            "Dependency",
            "Dependency",
            "Dependency",
            "Dependency",
            "Dependency",
            "Dependency",
            "Dependency",
            "Dependency",
            "Dependency",
            "Dependency",
            "Dependency",
            "Dependency",
            "Dependency",
            "Dependency",
            "Dependency",
            "Dependency",
            "Dependency",
            "Dependency",
            "Dependency",
            "Dependency",
            "Dependency",
            "Dependency",
            "Dependency",
            "Dependency",
            "Dependency",
            "Dependency",
            "Dependency",
            "Dependency",
            "Dependency",
            "Dependency",
            "Dependency",
            "Dependency",
            "Dependency",
            "Dependency",
            "Dependency",
            "Dependency",
            "Dependency",
            "Dependency",
            "Dependency",
            "Dependency",
            "Dependency",
            "Compiler setting",
            "Compiler setting"
           ]
          },
          {
           "label": "Purpose",
           "values": [
            "Document for later fix",
            "Silence build warnings",
            "Workaround",
            "Workaround",
            "Workaround",
            "Workaround",
            "Workaround",
            "Silence build warnings",
            "Silence build warnings",
            "Silence build warnings",
            "Silence build warnings",
            "Workaround",
            "Silence build warnings",
            "Silence build warnings",
            "Warning for future developers",
            "Workaround",
            "Workaround",
            "Silence build warnings",
            "Workaround",
            "Workaround",
            "Document for later fix",
            "Silence build warnings",
            "Workaround",
            "Workaround",
            "Document suboptimal implementation choice",
            "Document suboptimal implementation choice",
            "Workaround",
            "Document suboptimal implementation choice",
            "Workaround",
            "Document for later fix",
            "Warning for future developers",
            "Workaround",
            "Workaround",
            "Workaround",
            "Workaround",
            "Workaround",
            "Warning for future developers",
            "Document for later fix",
            "Document for later fix",
            "Document for later fix",
            "Workaround",
            "Document suboptimal implementation choice",
            "Warning for future developers",
            "Workaround",
            "Workaround",
            "Document suboptimal implementation choice",
            "Document suboptimal implementation choice",
            "Warning for future developers",
            "Document suboptimal implementation choice",
            "Document for later fix",
            "Document suboptimal implementation choice",
            "Document suboptimal implementation choice",
            "Document for later fix",
            "Document for later fix",
            "Placeholder for later",
            "Warning for future developers",
            "Document suboptimal implementation choice",
            "Document for later fix",
            "Warning for future developers",
            "Warning for future developers",
            "Warning for future developers",
            "Document suboptimal implementation choice",
            "Warning for future developers",
            "Document for later fix",
            "Document for later fix",
            "Document for later fix",
            "Document suboptimal implementation choice",
            "Workaround",
            "Document for later fix",
            "Workaround",
            "Workaround",
            "Document for later fix",
            "Document for later fix",
            "Document for later fix",
            "Document suboptimal implementation choice",
            "Warning for future developers",
            "Workaround",
            "Workaround",
            "Warning for future developers",
            "Document for later fix",
            "Warning for future developers",
            "Workaround",
            "Document suboptimal implementation choice",
            "Warning for future developers",
            "Document for later fix",
            "Document for later fix",
            "Warning for future developers",
            "Document suboptimal implementation choice",
            "Document for later fix",
            "Document for later fix",
            "Document for later fix",
            "Warning for future developers",
            "Document suboptimal implementation choice",
            "Document for later fix",
            "Document for later fix",
            "Document for later fix",
            "Document for later fix",
            "Warning for future developers",
            "Document for later fix",
            "Warning for future developers",
            "Document for later fix",
            "Document for later fix",
            "Document suboptimal implementation choice",
            "Warning for future developers",
            "Document suboptimal implementation choice",
            "Warning for future developers",
            "Workaround",
            "Warning for future developers",
            "Workaround",
            "Warning for future developers",
            "Workaround",
            "Warning for future developers",
            "Workaround",
            "Warning for future developers",
            "Document for later fix",
            "Warning for future developers",
            "Warning for future developers",
            "Document suboptimal implementation choice",
            "Workaround",
            "Document for later fix",
            "Workaround",
            "Warning for future developers",
            "Document for later fix",
            "Document suboptimal implementation choice",
            "Workaround",
            "Workaround",
            "Warning for future developers",
            "Warning for future developers",
            "Document for later fix",
            "Document for later fix",
            "Workaround",
            "Workaround",
            "Workaround",
            "Warning for future developers",
            "Document suboptimal implementation choice",
            "Document suboptimal implementation choice",
            "Document for later fix",
            "Document suboptimal implementation choice",
            "Warning for future developers",
            "Workaround",
            "Warning for future developers",
            "Workaround",
            "Document suboptimal implementation choice",
            "Warning for future developers",
            "Warning for future developers",
            "Document for later fix",
            "Document for later fix",
            "Warning for future developers",
            "Document suboptimal implementation choice",
            "Workaround",
            "Document for later fix",
            "Document for later fix",
            "Workaround",
            "Workaround",
            "Warning for future developers",
            "Warning for future developers",
            "Warning for future developers",
            "Workaround",
            "Workaround",
            "Workaround",
            "Document for later fix",
            "Warning for future developers",
            "Warning for future developers",
            "Document for later fix",
            "Document suboptimal implementation choice",
            "Document for later fix",
            "Document for later fix",
            "Warning for future developers",
            "Document for later fix",
            "Document for later fix",
            "Warning for future developers",
            "Warning for future developers",
            "Warning for future developers",
            "Document for later fix",
            "Workaround",
            "Document suboptimal implementation choice",
            "Document for later fix",
            "Workaround",
            "Document suboptimal implementation choice",
            "Document suboptimal implementation choice",
            "Document for later fix",
            "Warning for future developers",
            "Document suboptimal implementation choice",
            "Document suboptimal implementation choice",
            "Document for later fix",
            "Workaround",
            "Workaround",
            "Warning for future developers",
            "Document suboptimal implementation choice",
            "Workaround",
            "Document for later fix",
            "Document for later fix",
            "Warning for future developers",
            "Warning for future developers",
            "Document suboptimal implementation choice",
            "Warning for future developers",
            "Warning for future developers",
            "Document suboptimal implementation choice",
            "Workaround",
            "Document for later fix",
            "Workaround",
            "Warning for future developers",
            "Document for later fix",
            "Document for later fix",
            "Document for later fix",
            "Warning for future developers",
            "Warning for future developers",
            "Document suboptimal implementation choice",
            "Document suboptimal implementation choice",
            "Warning for future developers",
            "Warning for future developers",
            "Warning for future developers",
            "Warning for future developers",
            "Workaround",
            "Document suboptimal implementation choice",
            "Document for later fix",
            "Document suboptimal implementation choice",
            "Document for later fix",
            "Document for later fix",
            "Warning for future developers",
            "Warning for future developers",
            "Warning for future developers",
            "Warning for future developers",
            "Warning for future developers",
            "Document for later fix",
            "Warning for future developers",
            "Warning for future developers",
            "Document for later fix",
            "Warning for future developers",
            "Document for later fix",
            "Document for later fix",
            "Document for later fix",
            "Document for later fix",
            "Document for later fix",
            "Warning for future developers",
            "Warning for future developers",
            "Warning for future developers",
            "Document for later fix",
            "Document for later fix",
            "Document suboptimal implementation choice",
            "Document for later fix",
            "Workaround",
            "Document for later fix",
            "Document suboptimal implementation choice",
            "Document for later fix",
            "Document for later fix",
            "Workaround",
            "Document for later fix",
            "Document for later fix",
            "Document suboptimal implementation choice",
            "Workaround",
            "Document for later fix",
            "Warning for future developers",
            "Document suboptimal implementation choice",
            "Document for later fix",
            "Warning for future developers",
            "Document for later fix",
            "Document for later fix",
            "Warning for future developers",
            "Warning for future developers",
            "Document suboptimal implementation choice",
            "Warning for future developers",
            "Document for later fix",
            "Workaround",
            "Warning for future developers",
            "Warning for future developers",
            "Document for later fix",
            "Document for later fix",
            "Workaround",
            "Warning for future developers",
            "Workaround",
            "Warning for future developers",
            "Workaround",
            "Document for later fix",
            "Workaround",
            "Workaround",
            "Document suboptimal implementation choice",
            "Document suboptimal implementation choice",
            "Workaround",
            "Document suboptimal implementation choice",
            "Workaround",
            "Workaround",
            "Workaround",
            "Workaround",
            "Document suboptimal implementation choice",
            "Workaround",
            "Warning for future developers",
            "Document for later fix",
            "Workaround",
            "Warning for future developers",
            "Warning for future developers",
            "Workaround",
            "Workaround",
            "Document for later fix",
            "Warning for future developers",
            "Workaround",
            "Warning for future developers",
            "Document for later fix",
            "Workaround",
            "Warning for future developers",
            "Placeholder for later",
            "Placeholder for later",
            "Placeholder for later",
            "Workaround",
            "Placeholder for later",
            "Placeholder for later",
            "Placeholder for later",
            "Placeholder for later",
            "Placeholder for later",
            "Workaround",
            "Placeholder for later",
            "Workaround",
            "Document for later fix",
            "Document for later fix",
            "Document for later fix",
            "Workaround",
            "Warning for future developers",
            "Workaround",
            "Document for later fix",
            "Document for later fix",
            "Warning for future developers",
            "Document for later fix",
            "Workaround",
            "Document for later fix",
            "Workaround",
            "Document for later fix",
            "Workaround",
            "Workaround",
            "Document suboptimal implementation choice",
            "Workaround",
            "Workaround",
            "Workaround",
            "Document for later fix",
            "Document for later fix",
            "Warning for future developers",
            "Document for later fix",
            "Workaround",
            "Workaround",
            "Document for later fix",
            "Document for later fix",
            "Workaround",
            "Workaround",
            "Warning for future developers",
            "Placeholder for later",
            "Document for later fix",
            "Document for later fix",
            "Warning for future developers",
            "Warning for future developers",
            "Warning for future developers",
            "Workaround",
            "Warning for future developers",
            "Workaround",
            "Warning for future developers",
            "Warning for future developers",
            "Document suboptimal implementation choice",
            "Document suboptimal implementation choice",
            "Document for later fix",
            "Warning for future developers",
            "Workaround",
            "Document suboptimal implementation choice",
            "Warning for future developers",
            "Warning for future developers",
            "Placeholder for later",
            "Document for later fix",
            "Document for later fix",
            "Document suboptimal implementation choice",
            "Warning for future developers",
            "Placeholder for later",
            "Document for later fix",
            "Document for later fix",
            "Workaround",
            "Document suboptimal implementation choice",
            "Document for later fix",
            "Document for later fix",
            "Document for later fix",
            "Document suboptimal implementation choice",
            "Document for later fix",
            "Document for later fix",
            "Warning for future developers",
            "Document for later fix",
            "Document for later fix",
            "Document suboptimal implementation choice",
            "Warning for future developers",
            "Document suboptimal implementation choice",
            "Document for later fix",
            "Document for later fix",
            "Document for later fix",
            "Warning for future developers",
            "Document for later fix",
            "Warning for future developers",
            "Document for later fix",
            "Document for later fix",
            "Document for later fix",
            "Document for later fix",
            "Document for later fix",
            "Document for later fix",
            "Workaround",
            "Workaround",
            "Document suboptimal implementation choice",
            "Warning for future developers",
            "Workaround",
            "Document suboptimal implementation choice",
            "Document for later fix",
            "Document suboptimal implementation choice",
            "Workaround",
            "Document suboptimal implementation choice",
            "Workaround",
            "Document suboptimal implementation choice",
            "Warning for future developers",
            "Document for later fix",
            "Workaround",
            "Document for later fix",
            "Document for later fix",
            "Warning for future developers",
            "Document suboptimal implementation choice",
            "Document for later fix",
            "Document for later fix",
            "Document suboptimal implementation choice",
            "Document for later fix",
            "Workaround",
            "Warning for future developers",
            "Document suboptimal implementation choice",
            "Document for later fix",
            "Document for later fix",
            "Workaround",
            "Warning for future developers",
            "Document suboptimal implementation choice",
            "Document for later fix",
            "Workaround",
            "Workaround",
            "Workaround",
            "Document for later fix",
            "Document for later fix",
            "Warning for future developers",
            "Warning for future developers",
            "Document for later fix",
            "Workaround",
            "Document for later fix",
            "Workaround",
            "Document for later fix",
            "Document for later fix",
            "Document suboptimal implementation choice",
            "Document for later fix",
            "Document for later fix",
            "Document for later fix",
            "Document for later fix",
            "Document for later fix",
            "Document for later fix",
            "Document for later fix",
            "Document for later fix",
            "Document for later fix",
            "Workaround",
            "Document suboptimal implementation choice",
            "Document for later fix",
            "Document for later fix",
            "Warning for future developers",
            "Document for later fix",
            "Document for later fix",
            "Document for later fix",
            "Document for later fix",
            "Document for later fix",
            "Document for later fix",
            "Document for later fix",
            "Document suboptimal implementation choice",
            "Workaround",
            "Document suboptimal implementation choice",
            "Document for later fix",
            "Document suboptimal implementation choice",
            "Document for later fix",
            "Document for later fix",
            "Document suboptimal implementation choice",
            "Document for later fix",
            "Document for later fix",
            "Document suboptimal implementation choice",
            "Document suboptimal implementation choice",
            "Warning for future developers",
            "Document for later fix",
            "Workaround",
            "Document suboptimal implementation choice",
            "Workaround",
            "Document suboptimal implementation choice",
            "Document suboptimal implementation choice",
            "Document for later fix",
            "Warning for future developers",
            "Document for later fix",
            "Document suboptimal implementation choice",
            "Document for later fix",
            "Document for later fix",
            "Document suboptimal implementation choice",
            "Document for later fix",
            "Document for later fix",
            "Document for later fix",
            "Document suboptimal implementation choice",
            "Document for later fix",
            "Document for later fix",
            "Document suboptimal implementation choice",
            "Document suboptimal implementation choice",
            "Document for later fix",
            "Document suboptimal implementation choice",
            "Workaround"
           ]
          }
         ],
         "hoverinfo": "count+probability",
         "hoveron": "color",
         "labelfont": {
          "family": "Times",
          "size": 14
         },
         "line": {
          "color": [
           3,
           9,
           11,
           11,
           11,
           11,
           11,
           9,
           9,
           9,
           9,
           11,
           9,
           9,
           1,
           11,
           11,
           9,
           11,
           11,
           3,
           9,
           60,
           60,
           39,
           39,
           60,
           39,
           60,
           74,
           72,
           60,
           60,
           60,
           60,
           60,
           72,
           14,
           14,
           3,
           11,
           1,
           3,
           3,
           3,
           7,
           7,
           3,
           7,
           4,
           7,
           7,
           4,
           4,
           1,
           3,
           7,
           4,
           7,
           7,
           7,
           1,
           7,
           2,
           74,
           74,
           39,
           60,
           74,
           60,
           60,
           74,
           74,
           74,
           39,
           72,
           60,
           60,
           72,
           74,
           72,
           60,
           39,
           72,
           74,
           74,
           72,
           39,
           74,
           74,
           74,
           72,
           39,
           74,
           74,
           74,
           74,
           72,
           74,
           72,
           74,
           74,
           39,
           72,
           39,
           72,
           60,
           72,
           60,
           72,
           60,
           72,
           60,
           72,
           74,
           72,
           72,
           39,
           60,
           74,
           60,
           72,
           74,
           39,
           60,
           60,
           72,
           72,
           74,
           74,
           60,
           60,
           60,
           72,
           39,
           39,
           74,
           39,
           72,
           60,
           72,
           60,
           39,
           72,
           72,
           74,
           74,
           72,
           39,
           60,
           74,
           74,
           60,
           60,
           72,
           72,
           72,
           60,
           60,
           60,
           74,
           72,
           72,
           74,
           39,
           74,
           74,
           72,
           74,
           74,
           72,
           72,
           72,
           74,
           60,
           39,
           74,
           60,
           39,
           39,
           74,
           72,
           39,
           39,
           74,
           60,
           60,
           72,
           39,
           60,
           74,
           74,
           72,
           72,
           39,
           72,
           72,
           39,
           60,
           74,
           60,
           72,
           74,
           74,
           74,
           72,
           72,
           39,
           39,
           72,
           72,
           72,
           72,
           60,
           39,
           74,
           39,
           74,
           74,
           72,
           72,
           72,
           72,
           72,
           74,
           72,
           72,
           74,
           72,
           74,
           74,
           74,
           74,
           74,
           72,
           72,
           72,
           74,
           74,
           39,
           74,
           60,
           74,
           39,
           74,
           74,
           60,
           74,
           74,
           39,
           60,
           74,
           72,
           39,
           74,
           72,
           74,
           74,
           72,
           72,
           39,
           72,
           74,
           60,
           72,
           72,
           74,
           74,
           60,
           72,
           60,
           72,
           60,
           74,
           60,
           60,
           39,
           39,
           60,
           39,
           60,
           60,
           60,
           60,
           39,
           60,
           72,
           74,
           60,
           72,
           72,
           60,
           60,
           74,
           7,
           2,
           7,
           2,
           2,
           7,
           9,
           9,
           9,
           3,
           9,
           9,
           9,
           9,
           9,
           3,
           9,
           24,
           50,
           50,
           50,
           24,
           18,
           24,
           50,
           50,
           18,
           50,
           24,
           50,
           24,
           50,
           24,
           24,
           23,
           24,
           24,
           24,
           50,
           50,
           18,
           50,
           24,
           24,
           50,
           50,
           24,
           24,
           18,
           2,
           50,
           50,
           18,
           18,
           18,
           24,
           18,
           24,
           18,
           18,
           23,
           23,
           50,
           18,
           24,
           23,
           18,
           18,
           2,
           50,
           50,
           23,
           18,
           1,
           15,
           15,
           1,
           4,
           15,
           15,
           15,
           4,
           15,
           15,
           4,
           15,
           15,
           4,
           4,
           4,
           15,
           15,
           15,
           4,
           15,
           4,
           15,
           15,
           50,
           50,
           50,
           50,
           24,
           24,
           23,
           18,
           24,
           23,
           50,
           23,
           9,
           6,
           9,
           6,
           6,
           14,
           9,
           14,
           14,
           6,
           6,
           14,
           14,
           6,
           14,
           9,
           6,
           6,
           14,
           14,
           9,
           6,
           6,
           14,
           9,
           9,
           9,
           14,
           14,
           6,
           6,
           14,
           9,
           10,
           3,
           10,
           10,
           1,
           10,
           10,
           10,
           10,
           10,
           10,
           10,
           50,
           50,
           24,
           23,
           50,
           50,
           18,
           50,
           50,
           50,
           50,
           50,
           50,
           50,
           23,
           24,
           23,
           50,
           23,
           50,
           50,
           23,
           50,
           50,
           23,
           23,
           18,
           50,
           24,
           23,
           24,
           23,
           23,
           50,
           18,
           50,
           23,
           50,
           50,
           23,
           50,
           50,
           50,
           23,
           50,
           50,
           23,
           23,
           50,
           7,
           3
          ],
          "colorbar": {
           "len": 0.7,
           "thickness": 10,
           "x": 1.5
          },
          "colorscale": [
           [
            0,
            "rgb(0, 0, 0)"
           ],
           [
            0.09090909090909091,
            "rgb(16, 16, 16)"
           ],
           [
            0.18181818181818182,
            "rgb(38, 38, 38)"
           ],
           [
            0.2727272727272727,
            "rgb(59, 59, 59)"
           ],
           [
            0.36363636363636365,
            "rgb(81, 80, 80)"
           ],
           [
            0.45454545454545453,
            "rgb(102, 101, 101)"
           ],
           [
            0.5454545454545454,
            "rgb(124, 123, 122)"
           ],
           [
            0.6363636363636364,
            "rgb(146, 146, 145)"
           ],
           [
            0.7272727272727273,
            "rgb(171, 171, 170)"
           ],
           [
            0.8181818181818182,
            "rgb(197, 197, 195)"
           ],
           [
            0.9090909090909091,
            "rgb(224, 224, 223)"
           ],
           [
            1,
            "rgb(254, 254, 253)"
           ]
          ],
          "reversescale": true,
          "shape": "hspline",
          "showscale": true
         },
         "tickfont": {
          "family": "Times",
          "size": 12
         },
         "type": "parcats"
        }
       ],
       "layout": {
        "margin": {
         "b": 10,
         "l": 150,
         "pad": 0,
         "r": 150,
         "t": 20
        },
        "template": {
         "data": {
          "bar": [
           {
            "error_x": {
             "color": "#2a3f5f"
            },
            "error_y": {
             "color": "#2a3f5f"
            },
            "marker": {
             "line": {
              "color": "#E5ECF6",
              "width": 0.5
             }
            },
            "type": "bar"
           }
          ],
          "barpolar": [
           {
            "marker": {
             "line": {
              "color": "#E5ECF6",
              "width": 0.5
             }
            },
            "type": "barpolar"
           }
          ],
          "carpet": [
           {
            "aaxis": {
             "endlinecolor": "#2a3f5f",
             "gridcolor": "white",
             "linecolor": "white",
             "minorgridcolor": "white",
             "startlinecolor": "#2a3f5f"
            },
            "baxis": {
             "endlinecolor": "#2a3f5f",
             "gridcolor": "white",
             "linecolor": "white",
             "minorgridcolor": "white",
             "startlinecolor": "#2a3f5f"
            },
            "type": "carpet"
           }
          ],
          "choropleth": [
           {
            "colorbar": {
             "outlinewidth": 0,
             "ticks": ""
            },
            "type": "choropleth"
           }
          ],
          "contour": [
           {
            "colorbar": {
             "outlinewidth": 0,
             "ticks": ""
            },
            "colorscale": [
             [
              0,
              "#0d0887"
             ],
             [
              0.1111111111111111,
              "#46039f"
             ],
             [
              0.2222222222222222,
              "#7201a8"
             ],
             [
              0.3333333333333333,
              "#9c179e"
             ],
             [
              0.4444444444444444,
              "#bd3786"
             ],
             [
              0.5555555555555556,
              "#d8576b"
             ],
             [
              0.6666666666666666,
              "#ed7953"
             ],
             [
              0.7777777777777778,
              "#fb9f3a"
             ],
             [
              0.8888888888888888,
              "#fdca26"
             ],
             [
              1,
              "#f0f921"
             ]
            ],
            "type": "contour"
           }
          ],
          "contourcarpet": [
           {
            "colorbar": {
             "outlinewidth": 0,
             "ticks": ""
            },
            "type": "contourcarpet"
           }
          ],
          "heatmap": [
           {
            "colorbar": {
             "outlinewidth": 0,
             "ticks": ""
            },
            "colorscale": [
             [
              0,
              "#0d0887"
             ],
             [
              0.1111111111111111,
              "#46039f"
             ],
             [
              0.2222222222222222,
              "#7201a8"
             ],
             [
              0.3333333333333333,
              "#9c179e"
             ],
             [
              0.4444444444444444,
              "#bd3786"
             ],
             [
              0.5555555555555556,
              "#d8576b"
             ],
             [
              0.6666666666666666,
              "#ed7953"
             ],
             [
              0.7777777777777778,
              "#fb9f3a"
             ],
             [
              0.8888888888888888,
              "#fdca26"
             ],
             [
              1,
              "#f0f921"
             ]
            ],
            "type": "heatmap"
           }
          ],
          "heatmapgl": [
           {
            "colorbar": {
             "outlinewidth": 0,
             "ticks": ""
            },
            "colorscale": [
             [
              0,
              "#0d0887"
             ],
             [
              0.1111111111111111,
              "#46039f"
             ],
             [
              0.2222222222222222,
              "#7201a8"
             ],
             [
              0.3333333333333333,
              "#9c179e"
             ],
             [
              0.4444444444444444,
              "#bd3786"
             ],
             [
              0.5555555555555556,
              "#d8576b"
             ],
             [
              0.6666666666666666,
              "#ed7953"
             ],
             [
              0.7777777777777778,
              "#fb9f3a"
             ],
             [
              0.8888888888888888,
              "#fdca26"
             ],
             [
              1,
              "#f0f921"
             ]
            ],
            "type": "heatmapgl"
           }
          ],
          "histogram": [
           {
            "marker": {
             "colorbar": {
              "outlinewidth": 0,
              "ticks": ""
             }
            },
            "type": "histogram"
           }
          ],
          "histogram2d": [
           {
            "colorbar": {
             "outlinewidth": 0,
             "ticks": ""
            },
            "colorscale": [
             [
              0,
              "#0d0887"
             ],
             [
              0.1111111111111111,
              "#46039f"
             ],
             [
              0.2222222222222222,
              "#7201a8"
             ],
             [
              0.3333333333333333,
              "#9c179e"
             ],
             [
              0.4444444444444444,
              "#bd3786"
             ],
             [
              0.5555555555555556,
              "#d8576b"
             ],
             [
              0.6666666666666666,
              "#ed7953"
             ],
             [
              0.7777777777777778,
              "#fb9f3a"
             ],
             [
              0.8888888888888888,
              "#fdca26"
             ],
             [
              1,
              "#f0f921"
             ]
            ],
            "type": "histogram2d"
           }
          ],
          "histogram2dcontour": [
           {
            "colorbar": {
             "outlinewidth": 0,
             "ticks": ""
            },
            "colorscale": [
             [
              0,
              "#0d0887"
             ],
             [
              0.1111111111111111,
              "#46039f"
             ],
             [
              0.2222222222222222,
              "#7201a8"
             ],
             [
              0.3333333333333333,
              "#9c179e"
             ],
             [
              0.4444444444444444,
              "#bd3786"
             ],
             [
              0.5555555555555556,
              "#d8576b"
             ],
             [
              0.6666666666666666,
              "#ed7953"
             ],
             [
              0.7777777777777778,
              "#fb9f3a"
             ],
             [
              0.8888888888888888,
              "#fdca26"
             ],
             [
              1,
              "#f0f921"
             ]
            ],
            "type": "histogram2dcontour"
           }
          ],
          "mesh3d": [
           {
            "colorbar": {
             "outlinewidth": 0,
             "ticks": ""
            },
            "type": "mesh3d"
           }
          ],
          "parcoords": [
           {
            "line": {
             "colorbar": {
              "outlinewidth": 0,
              "ticks": ""
             }
            },
            "type": "parcoords"
           }
          ],
          "pie": [
           {
            "automargin": true,
            "type": "pie"
           }
          ],
          "scatter": [
           {
            "marker": {
             "colorbar": {
              "outlinewidth": 0,
              "ticks": ""
             }
            },
            "type": "scatter"
           }
          ],
          "scatter3d": [
           {
            "line": {
             "colorbar": {
              "outlinewidth": 0,
              "ticks": ""
             }
            },
            "marker": {
             "colorbar": {
              "outlinewidth": 0,
              "ticks": ""
             }
            },
            "type": "scatter3d"
           }
          ],
          "scattercarpet": [
           {
            "marker": {
             "colorbar": {
              "outlinewidth": 0,
              "ticks": ""
             }
            },
            "type": "scattercarpet"
           }
          ],
          "scattergeo": [
           {
            "marker": {
             "colorbar": {
              "outlinewidth": 0,
              "ticks": ""
             }
            },
            "type": "scattergeo"
           }
          ],
          "scattergl": [
           {
            "marker": {
             "colorbar": {
              "outlinewidth": 0,
              "ticks": ""
             }
            },
            "type": "scattergl"
           }
          ],
          "scattermapbox": [
           {
            "marker": {
             "colorbar": {
              "outlinewidth": 0,
              "ticks": ""
             }
            },
            "type": "scattermapbox"
           }
          ],
          "scatterpolar": [
           {
            "marker": {
             "colorbar": {
              "outlinewidth": 0,
              "ticks": ""
             }
            },
            "type": "scatterpolar"
           }
          ],
          "scatterpolargl": [
           {
            "marker": {
             "colorbar": {
              "outlinewidth": 0,
              "ticks": ""
             }
            },
            "type": "scatterpolargl"
           }
          ],
          "scatterternary": [
           {
            "marker": {
             "colorbar": {
              "outlinewidth": 0,
              "ticks": ""
             }
            },
            "type": "scatterternary"
           }
          ],
          "surface": [
           {
            "colorbar": {
             "outlinewidth": 0,
             "ticks": ""
            },
            "colorscale": [
             [
              0,
              "#0d0887"
             ],
             [
              0.1111111111111111,
              "#46039f"
             ],
             [
              0.2222222222222222,
              "#7201a8"
             ],
             [
              0.3333333333333333,
              "#9c179e"
             ],
             [
              0.4444444444444444,
              "#bd3786"
             ],
             [
              0.5555555555555556,
              "#d8576b"
             ],
             [
              0.6666666666666666,
              "#ed7953"
             ],
             [
              0.7777777777777778,
              "#fb9f3a"
             ],
             [
              0.8888888888888888,
              "#fdca26"
             ],
             [
              1,
              "#f0f921"
             ]
            ],
            "type": "surface"
           }
          ],
          "table": [
           {
            "cells": {
             "fill": {
              "color": "#EBF0F8"
             },
             "line": {
              "color": "white"
             }
            },
            "header": {
             "fill": {
              "color": "#C8D4E3"
             },
             "line": {
              "color": "white"
             }
            },
            "type": "table"
           }
          ]
         },
         "layout": {
          "annotationdefaults": {
           "arrowcolor": "#2a3f5f",
           "arrowhead": 0,
           "arrowwidth": 1
          },
          "coloraxis": {
           "colorbar": {
            "outlinewidth": 0,
            "ticks": ""
           }
          },
          "colorscale": {
           "diverging": [
            [
             0,
             "#8e0152"
            ],
            [
             0.1,
             "#c51b7d"
            ],
            [
             0.2,
             "#de77ae"
            ],
            [
             0.3,
             "#f1b6da"
            ],
            [
             0.4,
             "#fde0ef"
            ],
            [
             0.5,
             "#f7f7f7"
            ],
            [
             0.6,
             "#e6f5d0"
            ],
            [
             0.7,
             "#b8e186"
            ],
            [
             0.8,
             "#7fbc41"
            ],
            [
             0.9,
             "#4d9221"
            ],
            [
             1,
             "#276419"
            ]
           ],
           "sequential": [
            [
             0,
             "#0d0887"
            ],
            [
             0.1111111111111111,
             "#46039f"
            ],
            [
             0.2222222222222222,
             "#7201a8"
            ],
            [
             0.3333333333333333,
             "#9c179e"
            ],
            [
             0.4444444444444444,
             "#bd3786"
            ],
            [
             0.5555555555555556,
             "#d8576b"
            ],
            [
             0.6666666666666666,
             "#ed7953"
            ],
            [
             0.7777777777777778,
             "#fb9f3a"
            ],
            [
             0.8888888888888888,
             "#fdca26"
            ],
            [
             1,
             "#f0f921"
            ]
           ],
           "sequentialminus": [
            [
             0,
             "#0d0887"
            ],
            [
             0.1111111111111111,
             "#46039f"
            ],
            [
             0.2222222222222222,
             "#7201a8"
            ],
            [
             0.3333333333333333,
             "#9c179e"
            ],
            [
             0.4444444444444444,
             "#bd3786"
            ],
            [
             0.5555555555555556,
             "#d8576b"
            ],
            [
             0.6666666666666666,
             "#ed7953"
            ],
            [
             0.7777777777777778,
             "#fb9f3a"
            ],
            [
             0.8888888888888888,
             "#fdca26"
            ],
            [
             1,
             "#f0f921"
            ]
           ]
          },
          "colorway": [
           "#636efa",
           "#EF553B",
           "#00cc96",
           "#ab63fa",
           "#FFA15A",
           "#19d3f3",
           "#FF6692",
           "#B6E880",
           "#FF97FF",
           "#FECB52"
          ],
          "font": {
           "color": "#2a3f5f"
          },
          "geo": {
           "bgcolor": "white",
           "lakecolor": "white",
           "landcolor": "#E5ECF6",
           "showlakes": true,
           "showland": true,
           "subunitcolor": "white"
          },
          "hoverlabel": {
           "align": "left"
          },
          "hovermode": "closest",
          "mapbox": {
           "style": "light"
          },
          "paper_bgcolor": "white",
          "plot_bgcolor": "#E5ECF6",
          "polar": {
           "angularaxis": {
            "gridcolor": "white",
            "linecolor": "white",
            "ticks": ""
           },
           "bgcolor": "#E5ECF6",
           "radialaxis": {
            "gridcolor": "white",
            "linecolor": "white",
            "ticks": ""
           }
          },
          "scene": {
           "xaxis": {
            "backgroundcolor": "#E5ECF6",
            "gridcolor": "white",
            "gridwidth": 2,
            "linecolor": "white",
            "showbackground": true,
            "ticks": "",
            "zerolinecolor": "white"
           },
           "yaxis": {
            "backgroundcolor": "#E5ECF6",
            "gridcolor": "white",
            "gridwidth": 2,
            "linecolor": "white",
            "showbackground": true,
            "ticks": "",
            "zerolinecolor": "white"
           },
           "zaxis": {
            "backgroundcolor": "#E5ECF6",
            "gridcolor": "white",
            "gridwidth": 2,
            "linecolor": "white",
            "showbackground": true,
            "ticks": "",
            "zerolinecolor": "white"
           }
          },
          "shapedefaults": {
           "line": {
            "color": "#2a3f5f"
           }
          },
          "ternary": {
           "aaxis": {
            "gridcolor": "white",
            "linecolor": "white",
            "ticks": ""
           },
           "baxis": {
            "gridcolor": "white",
            "linecolor": "white",
            "ticks": ""
           },
           "bgcolor": "#E5ECF6",
           "caxis": {
            "gridcolor": "white",
            "linecolor": "white",
            "ticks": ""
           }
          },
          "title": {
           "x": 0.05
          },
          "xaxis": {
           "automargin": true,
           "gridcolor": "white",
           "linecolor": "white",
           "ticks": "",
           "title": {
            "standoff": 15
           },
           "zerolinecolor": "white",
           "zerolinewidth": 2
          },
          "yaxis": {
           "automargin": true,
           "gridcolor": "white",
           "linecolor": "white",
           "ticks": "",
           "title": {
            "standoff": 15
           },
           "zerolinecolor": "white",
           "zerolinewidth": 2
          }
         }
        }
       }
      },
      "text/html": [
       "<div>\n",
       "        \n",
       "        \n",
       "            <div id=\"3b35db64-f1f9-4396-8a44-676ee4651948\" class=\"plotly-graph-div\" style=\"height:525px; width:100%;\"></div>\n",
       "            <script type=\"text/javascript\">\n",
       "                require([\"plotly\"], function(Plotly) {\n",
       "                    window.PLOTLYENV=window.PLOTLYENV || {};\n",
       "                    \n",
       "                if (document.getElementById(\"3b35db64-f1f9-4396-8a44-676ee4651948\")) {\n",
       "                    Plotly.newPlot(\n",
       "                        '3b35db64-f1f9-4396-8a44-676ee4651948',\n",
       "                        [{\"arrangement\": \"freeform\", \"dimensions\": [{\"label\": \"Reason\", \"values\": [\"Breakage and Design\", \"Breakage and Design\", \"Breakage and Design\", \"Breakage and Design\", \"Breakage and Design\", \"Breakage and Design\", \"Breakage and Design\", \"Breakage and Design\", \"Breakage and Design\", \"Breakage and Design\", \"Breakage and Design\", \"Breakage and Design\", \"Breakage and Design\", \"Breakage and Design\", \"Breakage and Design\", \"Breakage and Design\", \"Breakage and Design\", \"Breakage and Design\", \"Breakage and Design\", \"Breakage and Design\", \"Breakage and Design\", \"Breakage and Design\", \"Limitation\", \"Limitation\", \"Limitation\", \"Limitation\", \"Limitation\", \"Limitation\", \"Limitation\", \"Limitation\", \"Limitation\", \"Limitation\", \"Limitation\", \"Limitation\", \"Limitation\", \"Limitation\", \"Limitation\", \"Consistency\", \"Consistency\", \"Breakage and Design\", \"Breakage and Design\", \"Breakage and Design\", \"Compiler setting\", \"Compiler setting\", \"Compiler setting\", \"Compiler setting\", \"Compiler setting\", \"Compiler setting\", \"Compiler setting\", \"Compiler setting\", \"Compiler setting\", \"Compiler setting\", \"Compiler setting\", \"Compiler setting\", \"Compiler setting\", \"Compiler setting\", \"Compiler setting\", \"Compiler setting\", \"Installation and Deployment\", \"Installation and Deployment\", \"Installation and Deployment\", \"Installation and Deployment\", \"Installation and Deployment\", \"Installation and Deployment\", \"Limitation\", \"Limitation\", \"Limitation\", \"Limitation\", \"Limitation\", \"Limitation\", \"Limitation\", \"Limitation\", \"Limitation\", \"Limitation\", \"Limitation\", \"Limitation\", \"Limitation\", \"Limitation\", \"Limitation\", \"Limitation\", \"Limitation\", \"Limitation\", \"Limitation\", \"Limitation\", \"Limitation\", \"Limitation\", \"Limitation\", \"Limitation\", \"Limitation\", \"Limitation\", \"Limitation\", \"Limitation\", \"Limitation\", \"Limitation\", \"Limitation\", \"Limitation\", \"Limitation\", \"Limitation\", \"Limitation\", \"Limitation\", \"Limitation\", \"Limitation\", \"Limitation\", \"Limitation\", \"Limitation\", \"Limitation\", \"Limitation\", \"Limitation\", \"Limitation\", \"Limitation\", \"Limitation\", \"Limitation\", \"Limitation\", \"Limitation\", \"Limitation\", \"Limitation\", \"Limitation\", \"Limitation\", \"Limitation\", \"Limitation\", \"Limitation\", \"Limitation\", \"Limitation\", \"Limitation\", \"Limitation\", \"Limitation\", \"Limitation\", \"Limitation\", \"Limitation\", \"Limitation\", \"Limitation\", \"Limitation\", \"Limitation\", \"Limitation\", \"Limitation\", \"Limitation\", \"Limitation\", \"Limitation\", \"Limitation\", \"Limitation\", \"Limitation\", \"Limitation\", \"Limitation\", \"Limitation\", \"Limitation\", \"Limitation\", \"Limitation\", \"Limitation\", \"Limitation\", \"Limitation\", \"Limitation\", \"Limitation\", \"Limitation\", \"Limitation\", \"Limitation\", \"Limitation\", \"Limitation\", \"Limitation\", \"Limitation\", \"Limitation\", \"Limitation\", \"Limitation\", \"Limitation\", \"Limitation\", \"Limitation\", \"Limitation\", \"Limitation\", \"Limitation\", \"Limitation\", \"Limitation\", \"Limitation\", \"Limitation\", \"Limitation\", \"Limitation\", \"Limitation\", \"Limitation\", \"Limitation\", \"Limitation\", \"Limitation\", \"Limitation\", \"Limitation\", \"Limitation\", \"Limitation\", \"Limitation\", \"Limitation\", \"Limitation\", \"Limitation\", \"Limitation\", \"Limitation\", \"Limitation\", \"Limitation\", \"Limitation\", \"Limitation\", \"Limitation\", \"Limitation\", \"Limitation\", \"Limitation\", \"Limitation\", \"Limitation\", \"Limitation\", \"Limitation\", \"Limitation\", \"Limitation\", \"Limitation\", \"Limitation\", \"Limitation\", \"Limitation\", \"Limitation\", \"Limitation\", \"Limitation\", \"Limitation\", \"Limitation\", \"Limitation\", \"Limitation\", \"Limitation\", \"Limitation\", \"Limitation\", \"Limitation\", \"Limitation\", \"Limitation\", \"Limitation\", \"Limitation\", \"Limitation\", \"Limitation\", \"Limitation\", \"Limitation\", \"Limitation\", \"Limitation\", \"Limitation\", \"Limitation\", \"Limitation\", \"Limitation\", \"Limitation\", \"Limitation\", \"Limitation\", \"Limitation\", \"Limitation\", \"Limitation\", \"Limitation\", \"Limitation\", \"Limitation\", \"Limitation\", \"Limitation\", \"Limitation\", \"Limitation\", \"Limitation\", \"Limitation\", \"Limitation\", \"Limitation\", \"Limitation\", \"Limitation\", \"Limitation\", \"Limitation\", \"Limitation\", \"Limitation\", \"Limitation\", \"Limitation\", \"Limitation\", \"Limitation\", \"Limitation\", \"Limitation\", \"Limitation\", \"Limitation\", \"Limitation\", \"Limitation\", \"Limitation\", \"Limitation\", \"Limitation\", \"Limitation\", \"Limitation\", \"Limitation\", \"Limitation\", \"Limitation\", \"Limitation\", \"Limitation\", \"Limitation\", \"Limitation\", \"Limitation\", \"Limitation\", \"Limitation\", \"Limitation\", \"Limitation\", \"Limitation\", \"Limitation\", \"Limitation\", \"Limitation\", \"Limitation\", \"Limitation\", \"Limitation\", \"Limitation\", \"Limitation\", \"Limitation\", \"Limitation\", \"Limitation\", \"Installation and Deployment\", \"Installation and Deployment\", \"Installation and Deployment\", \"Installation and Deployment\", \"Installation and Deployment\", \"Installation and Deployment\", \"Document\", \"Document\", \"Document\", \"Document\", \"Document\", \"Document\", \"Document\", \"Document\", \"Document\", \"Document\", \"Document\", \"Dependency\", \"Dependency\", \"Dependency\", \"Dependency\", \"Dependency\", \"Dependency\", \"Dependency\", \"Dependency\", \"Dependency\", \"Dependency\", \"Dependency\", \"Dependency\", \"Dependency\", \"Dependency\", \"Dependency\", \"Dependency\", \"Dependency\", \"Dependency\", \"Dependency\", \"Dependency\", \"Dependency\", \"Dependency\", \"Dependency\", \"Dependency\", \"Dependency\", \"Dependency\", \"Dependency\", \"Dependency\", \"Dependency\", \"Dependency\", \"Dependency\", \"Dependency\", \"Dependency\", \"Dependency\", \"Dependency\", \"Dependency\", \"Dependency\", \"Dependency\", \"Dependency\", \"Dependency\", \"Dependency\", \"Dependency\", \"Dependency\", \"Dependency\", \"Dependency\", \"Dependency\", \"Dependency\", \"Dependency\", \"Dependency\", \"Dependency\", \"Dependency\", \"Dependency\", \"Dependency\", \"Dependency\", \"Dependency\", \"Dependency\", \"Lack of information\", \"Lack of information\", \"Lack of information\", \"Lack of information\", \"Lack of information\", \"Lack of information\", \"Lack of information\", \"Lack of information\", \"Lack of information\", \"Lack of information\", \"Lack of information\", \"Lack of information\", \"Lack of information\", \"Lack of information\", \"Lack of information\", \"Lack of information\", \"Lack of information\", \"Lack of information\", \"Lack of information\", \"Lack of information\", \"Lack of information\", \"Lack of information\", \"Lack of information\", \"Lack of information\", \"Lack of information\", \"Dependency\", \"Dependency\", \"Dependency\", \"Dependency\", \"Dependency\", \"Dependency\", \"Dependency\", \"Dependency\", \"Dependency\", \"Dependency\", \"Dependency\", \"Dependency\", \"Consistency\", \"Consistency\", \"Consistency\", \"Consistency\", \"Consistency\", \"Consistency\", \"Consistency\", \"Consistency\", \"Consistency\", \"Consistency\", \"Consistency\", \"Consistency\", \"Consistency\", \"Consistency\", \"Consistency\", \"Consistency\", \"Consistency\", \"Consistency\", \"Consistency\", \"Consistency\", \"Consistency\", \"Consistency\", \"Consistency\", \"Consistency\", \"Consistency\", \"Consistency\", \"Consistency\", \"Consistency\", \"Consistency\", \"Consistency\", \"Consistency\", \"Consistency\", \"Consistency\", \"Document\", \"Document\", \"Document\", \"Document\", \"Document\", \"Document\", \"Document\", \"Document\", \"Document\", \"Document\", \"Document\", \"Document\", \"Dependency\", \"Dependency\", \"Dependency\", \"Dependency\", \"Dependency\", \"Dependency\", \"Dependency\", \"Dependency\", \"Dependency\", \"Dependency\", \"Dependency\", \"Dependency\", \"Dependency\", \"Dependency\", \"Dependency\", \"Dependency\", \"Dependency\", \"Dependency\", \"Dependency\", \"Dependency\", \"Dependency\", \"Dependency\", \"Dependency\", \"Dependency\", \"Dependency\", \"Dependency\", \"Dependency\", \"Dependency\", \"Dependency\", \"Dependency\", \"Dependency\", \"Dependency\", \"Dependency\", \"Dependency\", \"Dependency\", \"Dependency\", \"Dependency\", \"Dependency\", \"Dependency\", \"Dependency\", \"Dependency\", \"Dependency\", \"Dependency\", \"Dependency\", \"Dependency\", \"Dependency\", \"Dependency\", \"Dependency\", \"Dependency\", \"Compiler setting\", \"Compiler setting\"]}, {\"label\": \"Purpose\", \"values\": [\"Document for later fix\", \"Silence build warnings\", \"Workaround\", \"Workaround\", \"Workaround\", \"Workaround\", \"Workaround\", \"Silence build warnings\", \"Silence build warnings\", \"Silence build warnings\", \"Silence build warnings\", \"Workaround\", \"Silence build warnings\", \"Silence build warnings\", \"Warning for future developers\", \"Workaround\", \"Workaround\", \"Silence build warnings\", \"Workaround\", \"Workaround\", \"Document for later fix\", \"Silence build warnings\", \"Workaround\", \"Workaround\", \"Document suboptimal implementation choice\", \"Document suboptimal implementation choice\", \"Workaround\", \"Document suboptimal implementation choice\", \"Workaround\", \"Document for later fix\", \"Warning for future developers\", \"Workaround\", \"Workaround\", \"Workaround\", \"Workaround\", \"Workaround\", \"Warning for future developers\", \"Document for later fix\", \"Document for later fix\", \"Document for later fix\", \"Workaround\", \"Document suboptimal implementation choice\", \"Warning for future developers\", \"Workaround\", \"Workaround\", \"Document suboptimal implementation choice\", \"Document suboptimal implementation choice\", \"Warning for future developers\", \"Document suboptimal implementation choice\", \"Document for later fix\", \"Document suboptimal implementation choice\", \"Document suboptimal implementation choice\", \"Document for later fix\", \"Document for later fix\", \"Placeholder for later\", \"Warning for future developers\", \"Document suboptimal implementation choice\", \"Document for later fix\", \"Warning for future developers\", \"Warning for future developers\", \"Warning for future developers\", \"Document suboptimal implementation choice\", \"Warning for future developers\", \"Document for later fix\", \"Document for later fix\", \"Document for later fix\", \"Document suboptimal implementation choice\", \"Workaround\", \"Document for later fix\", \"Workaround\", \"Workaround\", \"Document for later fix\", \"Document for later fix\", \"Document for later fix\", \"Document suboptimal implementation choice\", \"Warning for future developers\", \"Workaround\", \"Workaround\", \"Warning for future developers\", \"Document for later fix\", \"Warning for future developers\", \"Workaround\", \"Document suboptimal implementation choice\", \"Warning for future developers\", \"Document for later fix\", \"Document for later fix\", \"Warning for future developers\", \"Document suboptimal implementation choice\", \"Document for later fix\", \"Document for later fix\", \"Document for later fix\", \"Warning for future developers\", \"Document suboptimal implementation choice\", \"Document for later fix\", \"Document for later fix\", \"Document for later fix\", \"Document for later fix\", \"Warning for future developers\", \"Document for later fix\", \"Warning for future developers\", \"Document for later fix\", \"Document for later fix\", \"Document suboptimal implementation choice\", \"Warning for future developers\", \"Document suboptimal implementation choice\", \"Warning for future developers\", \"Workaround\", \"Warning for future developers\", \"Workaround\", \"Warning for future developers\", \"Workaround\", \"Warning for future developers\", \"Workaround\", \"Warning for future developers\", \"Document for later fix\", \"Warning for future developers\", \"Warning for future developers\", \"Document suboptimal implementation choice\", \"Workaround\", \"Document for later fix\", \"Workaround\", \"Warning for future developers\", \"Document for later fix\", \"Document suboptimal implementation choice\", \"Workaround\", \"Workaround\", \"Warning for future developers\", \"Warning for future developers\", \"Document for later fix\", \"Document for later fix\", \"Workaround\", \"Workaround\", \"Workaround\", \"Warning for future developers\", \"Document suboptimal implementation choice\", \"Document suboptimal implementation choice\", \"Document for later fix\", \"Document suboptimal implementation choice\", \"Warning for future developers\", \"Workaround\", \"Warning for future developers\", \"Workaround\", \"Document suboptimal implementation choice\", \"Warning for future developers\", \"Warning for future developers\", \"Document for later fix\", \"Document for later fix\", \"Warning for future developers\", \"Document suboptimal implementation choice\", \"Workaround\", \"Document for later fix\", \"Document for later fix\", \"Workaround\", \"Workaround\", \"Warning for future developers\", \"Warning for future developers\", \"Warning for future developers\", \"Workaround\", \"Workaround\", \"Workaround\", \"Document for later fix\", \"Warning for future developers\", \"Warning for future developers\", \"Document for later fix\", \"Document suboptimal implementation choice\", \"Document for later fix\", \"Document for later fix\", \"Warning for future developers\", \"Document for later fix\", \"Document for later fix\", \"Warning for future developers\", \"Warning for future developers\", \"Warning for future developers\", \"Document for later fix\", \"Workaround\", \"Document suboptimal implementation choice\", \"Document for later fix\", \"Workaround\", \"Document suboptimal implementation choice\", \"Document suboptimal implementation choice\", \"Document for later fix\", \"Warning for future developers\", \"Document suboptimal implementation choice\", \"Document suboptimal implementation choice\", \"Document for later fix\", \"Workaround\", \"Workaround\", \"Warning for future developers\", \"Document suboptimal implementation choice\", \"Workaround\", \"Document for later fix\", \"Document for later fix\", \"Warning for future developers\", \"Warning for future developers\", \"Document suboptimal implementation choice\", \"Warning for future developers\", \"Warning for future developers\", \"Document suboptimal implementation choice\", \"Workaround\", \"Document for later fix\", \"Workaround\", \"Warning for future developers\", \"Document for later fix\", \"Document for later fix\", \"Document for later fix\", \"Warning for future developers\", \"Warning for future developers\", \"Document suboptimal implementation choice\", \"Document suboptimal implementation choice\", \"Warning for future developers\", \"Warning for future developers\", \"Warning for future developers\", \"Warning for future developers\", \"Workaround\", \"Document suboptimal implementation choice\", \"Document for later fix\", \"Document suboptimal implementation choice\", \"Document for later fix\", \"Document for later fix\", \"Warning for future developers\", \"Warning for future developers\", \"Warning for future developers\", \"Warning for future developers\", \"Warning for future developers\", \"Document for later fix\", \"Warning for future developers\", \"Warning for future developers\", \"Document for later fix\", \"Warning for future developers\", \"Document for later fix\", \"Document for later fix\", \"Document for later fix\", \"Document for later fix\", \"Document for later fix\", \"Warning for future developers\", \"Warning for future developers\", \"Warning for future developers\", \"Document for later fix\", \"Document for later fix\", \"Document suboptimal implementation choice\", \"Document for later fix\", \"Workaround\", \"Document for later fix\", \"Document suboptimal implementation choice\", \"Document for later fix\", \"Document for later fix\", \"Workaround\", \"Document for later fix\", \"Document for later fix\", \"Document suboptimal implementation choice\", \"Workaround\", \"Document for later fix\", \"Warning for future developers\", \"Document suboptimal implementation choice\", \"Document for later fix\", \"Warning for future developers\", \"Document for later fix\", \"Document for later fix\", \"Warning for future developers\", \"Warning for future developers\", \"Document suboptimal implementation choice\", \"Warning for future developers\", \"Document for later fix\", \"Workaround\", \"Warning for future developers\", \"Warning for future developers\", \"Document for later fix\", \"Document for later fix\", \"Workaround\", \"Warning for future developers\", \"Workaround\", \"Warning for future developers\", \"Workaround\", \"Document for later fix\", \"Workaround\", \"Workaround\", \"Document suboptimal implementation choice\", \"Document suboptimal implementation choice\", \"Workaround\", \"Document suboptimal implementation choice\", \"Workaround\", \"Workaround\", \"Workaround\", \"Workaround\", \"Document suboptimal implementation choice\", \"Workaround\", \"Warning for future developers\", \"Document for later fix\", \"Workaround\", \"Warning for future developers\", \"Warning for future developers\", \"Workaround\", \"Workaround\", \"Document for later fix\", \"Warning for future developers\", \"Workaround\", \"Warning for future developers\", \"Document for later fix\", \"Workaround\", \"Warning for future developers\", \"Placeholder for later\", \"Placeholder for later\", \"Placeholder for later\", \"Workaround\", \"Placeholder for later\", \"Placeholder for later\", \"Placeholder for later\", \"Placeholder for later\", \"Placeholder for later\", \"Workaround\", \"Placeholder for later\", \"Workaround\", \"Document for later fix\", \"Document for later fix\", \"Document for later fix\", \"Workaround\", \"Warning for future developers\", \"Workaround\", \"Document for later fix\", \"Document for later fix\", \"Warning for future developers\", \"Document for later fix\", \"Workaround\", \"Document for later fix\", \"Workaround\", \"Document for later fix\", \"Workaround\", \"Workaround\", \"Document suboptimal implementation choice\", \"Workaround\", \"Workaround\", \"Workaround\", \"Document for later fix\", \"Document for later fix\", \"Warning for future developers\", \"Document for later fix\", \"Workaround\", \"Workaround\", \"Document for later fix\", \"Document for later fix\", \"Workaround\", \"Workaround\", \"Warning for future developers\", \"Placeholder for later\", \"Document for later fix\", \"Document for later fix\", \"Warning for future developers\", \"Warning for future developers\", \"Warning for future developers\", \"Workaround\", \"Warning for future developers\", \"Workaround\", \"Warning for future developers\", \"Warning for future developers\", \"Document suboptimal implementation choice\", \"Document suboptimal implementation choice\", \"Document for later fix\", \"Warning for future developers\", \"Workaround\", \"Document suboptimal implementation choice\", \"Warning for future developers\", \"Warning for future developers\", \"Placeholder for later\", \"Document for later fix\", \"Document for later fix\", \"Document suboptimal implementation choice\", \"Warning for future developers\", \"Placeholder for later\", \"Document for later fix\", \"Document for later fix\", \"Workaround\", \"Document suboptimal implementation choice\", \"Document for later fix\", \"Document for later fix\", \"Document for later fix\", \"Document suboptimal implementation choice\", \"Document for later fix\", \"Document for later fix\", \"Warning for future developers\", \"Document for later fix\", \"Document for later fix\", \"Document suboptimal implementation choice\", \"Warning for future developers\", \"Document suboptimal implementation choice\", \"Document for later fix\", \"Document for later fix\", \"Document for later fix\", \"Warning for future developers\", \"Document for later fix\", \"Warning for future developers\", \"Document for later fix\", \"Document for later fix\", \"Document for later fix\", \"Document for later fix\", \"Document for later fix\", \"Document for later fix\", \"Workaround\", \"Workaround\", \"Document suboptimal implementation choice\", \"Warning for future developers\", \"Workaround\", \"Document suboptimal implementation choice\", \"Document for later fix\", \"Document suboptimal implementation choice\", \"Workaround\", \"Document suboptimal implementation choice\", \"Workaround\", \"Document suboptimal implementation choice\", \"Warning for future developers\", \"Document for later fix\", \"Workaround\", \"Document for later fix\", \"Document for later fix\", \"Warning for future developers\", \"Document suboptimal implementation choice\", \"Document for later fix\", \"Document for later fix\", \"Document suboptimal implementation choice\", \"Document for later fix\", \"Workaround\", \"Warning for future developers\", \"Document suboptimal implementation choice\", \"Document for later fix\", \"Document for later fix\", \"Workaround\", \"Warning for future developers\", \"Document suboptimal implementation choice\", \"Document for later fix\", \"Workaround\", \"Workaround\", \"Workaround\", \"Document for later fix\", \"Document for later fix\", \"Warning for future developers\", \"Warning for future developers\", \"Document for later fix\", \"Workaround\", \"Document for later fix\", \"Workaround\", \"Document for later fix\", \"Document for later fix\", \"Document suboptimal implementation choice\", \"Document for later fix\", \"Document for later fix\", \"Document for later fix\", \"Document for later fix\", \"Document for later fix\", \"Document for later fix\", \"Document for later fix\", \"Document for later fix\", \"Document for later fix\", \"Workaround\", \"Document suboptimal implementation choice\", \"Document for later fix\", \"Document for later fix\", \"Warning for future developers\", \"Document for later fix\", \"Document for later fix\", \"Document for later fix\", \"Document for later fix\", \"Document for later fix\", \"Document for later fix\", \"Document for later fix\", \"Document suboptimal implementation choice\", \"Workaround\", \"Document suboptimal implementation choice\", \"Document for later fix\", \"Document suboptimal implementation choice\", \"Document for later fix\", \"Document for later fix\", \"Document suboptimal implementation choice\", \"Document for later fix\", \"Document for later fix\", \"Document suboptimal implementation choice\", \"Document suboptimal implementation choice\", \"Warning for future developers\", \"Document for later fix\", \"Workaround\", \"Document suboptimal implementation choice\", \"Workaround\", \"Document suboptimal implementation choice\", \"Document suboptimal implementation choice\", \"Document for later fix\", \"Warning for future developers\", \"Document for later fix\", \"Document suboptimal implementation choice\", \"Document for later fix\", \"Document for later fix\", \"Document suboptimal implementation choice\", \"Document for later fix\", \"Document for later fix\", \"Document for later fix\", \"Document suboptimal implementation choice\", \"Document for later fix\", \"Document for later fix\", \"Document suboptimal implementation choice\", \"Document suboptimal implementation choice\", \"Document for later fix\", \"Document suboptimal implementation choice\", \"Workaround\"]}], \"hoverinfo\": \"count+probability\", \"hoveron\": \"color\", \"labelfont\": {\"family\": \"Times\", \"size\": 14}, \"line\": {\"color\": [3, 9, 11, 11, 11, 11, 11, 9, 9, 9, 9, 11, 9, 9, 1, 11, 11, 9, 11, 11, 3, 9, 60, 60, 39, 39, 60, 39, 60, 74, 72, 60, 60, 60, 60, 60, 72, 14, 14, 3, 11, 1, 3, 3, 3, 7, 7, 3, 7, 4, 7, 7, 4, 4, 1, 3, 7, 4, 7, 7, 7, 1, 7, 2, 74, 74, 39, 60, 74, 60, 60, 74, 74, 74, 39, 72, 60, 60, 72, 74, 72, 60, 39, 72, 74, 74, 72, 39, 74, 74, 74, 72, 39, 74, 74, 74, 74, 72, 74, 72, 74, 74, 39, 72, 39, 72, 60, 72, 60, 72, 60, 72, 60, 72, 74, 72, 72, 39, 60, 74, 60, 72, 74, 39, 60, 60, 72, 72, 74, 74, 60, 60, 60, 72, 39, 39, 74, 39, 72, 60, 72, 60, 39, 72, 72, 74, 74, 72, 39, 60, 74, 74, 60, 60, 72, 72, 72, 60, 60, 60, 74, 72, 72, 74, 39, 74, 74, 72, 74, 74, 72, 72, 72, 74, 60, 39, 74, 60, 39, 39, 74, 72, 39, 39, 74, 60, 60, 72, 39, 60, 74, 74, 72, 72, 39, 72, 72, 39, 60, 74, 60, 72, 74, 74, 74, 72, 72, 39, 39, 72, 72, 72, 72, 60, 39, 74, 39, 74, 74, 72, 72, 72, 72, 72, 74, 72, 72, 74, 72, 74, 74, 74, 74, 74, 72, 72, 72, 74, 74, 39, 74, 60, 74, 39, 74, 74, 60, 74, 74, 39, 60, 74, 72, 39, 74, 72, 74, 74, 72, 72, 39, 72, 74, 60, 72, 72, 74, 74, 60, 72, 60, 72, 60, 74, 60, 60, 39, 39, 60, 39, 60, 60, 60, 60, 39, 60, 72, 74, 60, 72, 72, 60, 60, 74, 7, 2, 7, 2, 2, 7, 9, 9, 9, 3, 9, 9, 9, 9, 9, 3, 9, 24, 50, 50, 50, 24, 18, 24, 50, 50, 18, 50, 24, 50, 24, 50, 24, 24, 23, 24, 24, 24, 50, 50, 18, 50, 24, 24, 50, 50, 24, 24, 18, 2, 50, 50, 18, 18, 18, 24, 18, 24, 18, 18, 23, 23, 50, 18, 24, 23, 18, 18, 2, 50, 50, 23, 18, 1, 15, 15, 1, 4, 15, 15, 15, 4, 15, 15, 4, 15, 15, 4, 4, 4, 15, 15, 15, 4, 15, 4, 15, 15, 50, 50, 50, 50, 24, 24, 23, 18, 24, 23, 50, 23, 9, 6, 9, 6, 6, 14, 9, 14, 14, 6, 6, 14, 14, 6, 14, 9, 6, 6, 14, 14, 9, 6, 6, 14, 9, 9, 9, 14, 14, 6, 6, 14, 9, 10, 3, 10, 10, 1, 10, 10, 10, 10, 10, 10, 10, 50, 50, 24, 23, 50, 50, 18, 50, 50, 50, 50, 50, 50, 50, 23, 24, 23, 50, 23, 50, 50, 23, 50, 50, 23, 23, 18, 50, 24, 23, 24, 23, 23, 50, 18, 50, 23, 50, 50, 23, 50, 50, 50, 23, 50, 50, 23, 23, 50, 7, 3], \"colorbar\": {\"len\": 0.7, \"thickness\": 10, \"x\": 1.5}, \"colorscale\": [[0.0, \"rgb(0, 0, 0)\"], [0.09090909090909091, \"rgb(16, 16, 16)\"], [0.18181818181818182, \"rgb(38, 38, 38)\"], [0.2727272727272727, \"rgb(59, 59, 59)\"], [0.36363636363636365, \"rgb(81, 80, 80)\"], [0.45454545454545453, \"rgb(102, 101, 101)\"], [0.5454545454545454, \"rgb(124, 123, 122)\"], [0.6363636363636364, \"rgb(146, 146, 145)\"], [0.7272727272727273, \"rgb(171, 171, 170)\"], [0.8181818181818182, \"rgb(197, 197, 195)\"], [0.9090909090909091, \"rgb(224, 224, 223)\"], [1.0, \"rgb(254, 254, 253)\"]], \"reversescale\": true, \"shape\": \"hspline\", \"showscale\": true}, \"tickfont\": {\"family\": \"Times\", \"size\": 12}, \"type\": \"parcats\"}],\n",
       "                        {\"margin\": {\"b\": 10, \"l\": 150, \"pad\": 0, \"r\": 150, \"t\": 20}, \"template\": {\"data\": {\"bar\": [{\"error_x\": {\"color\": \"#2a3f5f\"}, \"error_y\": {\"color\": \"#2a3f5f\"}, \"marker\": {\"line\": {\"color\": \"#E5ECF6\", \"width\": 0.5}}, \"type\": \"bar\"}], \"barpolar\": [{\"marker\": {\"line\": {\"color\": \"#E5ECF6\", \"width\": 0.5}}, \"type\": \"barpolar\"}], \"carpet\": [{\"aaxis\": {\"endlinecolor\": \"#2a3f5f\", \"gridcolor\": \"white\", \"linecolor\": \"white\", \"minorgridcolor\": \"white\", \"startlinecolor\": \"#2a3f5f\"}, \"baxis\": {\"endlinecolor\": \"#2a3f5f\", \"gridcolor\": \"white\", \"linecolor\": \"white\", \"minorgridcolor\": \"white\", \"startlinecolor\": \"#2a3f5f\"}, \"type\": \"carpet\"}], \"choropleth\": [{\"colorbar\": {\"outlinewidth\": 0, \"ticks\": \"\"}, \"type\": \"choropleth\"}], \"contour\": [{\"colorbar\": {\"outlinewidth\": 0, \"ticks\": \"\"}, \"colorscale\": [[0.0, \"#0d0887\"], [0.1111111111111111, \"#46039f\"], [0.2222222222222222, \"#7201a8\"], [0.3333333333333333, \"#9c179e\"], [0.4444444444444444, \"#bd3786\"], [0.5555555555555556, \"#d8576b\"], [0.6666666666666666, \"#ed7953\"], [0.7777777777777778, \"#fb9f3a\"], [0.8888888888888888, \"#fdca26\"], [1.0, \"#f0f921\"]], \"type\": \"contour\"}], \"contourcarpet\": [{\"colorbar\": {\"outlinewidth\": 0, \"ticks\": \"\"}, \"type\": \"contourcarpet\"}], \"heatmap\": [{\"colorbar\": {\"outlinewidth\": 0, \"ticks\": \"\"}, \"colorscale\": [[0.0, \"#0d0887\"], [0.1111111111111111, \"#46039f\"], [0.2222222222222222, \"#7201a8\"], [0.3333333333333333, \"#9c179e\"], [0.4444444444444444, \"#bd3786\"], [0.5555555555555556, \"#d8576b\"], [0.6666666666666666, \"#ed7953\"], [0.7777777777777778, \"#fb9f3a\"], [0.8888888888888888, \"#fdca26\"], [1.0, \"#f0f921\"]], \"type\": \"heatmap\"}], \"heatmapgl\": [{\"colorbar\": {\"outlinewidth\": 0, \"ticks\": \"\"}, \"colorscale\": [[0.0, \"#0d0887\"], [0.1111111111111111, \"#46039f\"], [0.2222222222222222, \"#7201a8\"], [0.3333333333333333, \"#9c179e\"], [0.4444444444444444, \"#bd3786\"], [0.5555555555555556, \"#d8576b\"], [0.6666666666666666, \"#ed7953\"], [0.7777777777777778, \"#fb9f3a\"], [0.8888888888888888, \"#fdca26\"], [1.0, \"#f0f921\"]], \"type\": \"heatmapgl\"}], \"histogram\": [{\"marker\": {\"colorbar\": {\"outlinewidth\": 0, \"ticks\": \"\"}}, \"type\": \"histogram\"}], \"histogram2d\": [{\"colorbar\": {\"outlinewidth\": 0, \"ticks\": \"\"}, \"colorscale\": [[0.0, \"#0d0887\"], [0.1111111111111111, \"#46039f\"], [0.2222222222222222, \"#7201a8\"], [0.3333333333333333, \"#9c179e\"], [0.4444444444444444, \"#bd3786\"], [0.5555555555555556, \"#d8576b\"], [0.6666666666666666, \"#ed7953\"], [0.7777777777777778, \"#fb9f3a\"], [0.8888888888888888, \"#fdca26\"], [1.0, \"#f0f921\"]], \"type\": \"histogram2d\"}], \"histogram2dcontour\": [{\"colorbar\": {\"outlinewidth\": 0, \"ticks\": \"\"}, \"colorscale\": [[0.0, \"#0d0887\"], [0.1111111111111111, \"#46039f\"], [0.2222222222222222, \"#7201a8\"], [0.3333333333333333, \"#9c179e\"], [0.4444444444444444, \"#bd3786\"], [0.5555555555555556, \"#d8576b\"], [0.6666666666666666, \"#ed7953\"], [0.7777777777777778, \"#fb9f3a\"], [0.8888888888888888, \"#fdca26\"], [1.0, \"#f0f921\"]], \"type\": \"histogram2dcontour\"}], \"mesh3d\": [{\"colorbar\": {\"outlinewidth\": 0, \"ticks\": \"\"}, \"type\": \"mesh3d\"}], \"parcoords\": [{\"line\": {\"colorbar\": {\"outlinewidth\": 0, \"ticks\": \"\"}}, \"type\": \"parcoords\"}], \"pie\": [{\"automargin\": true, \"type\": \"pie\"}], \"scatter\": [{\"marker\": {\"colorbar\": {\"outlinewidth\": 0, \"ticks\": \"\"}}, \"type\": \"scatter\"}], \"scatter3d\": [{\"line\": {\"colorbar\": {\"outlinewidth\": 0, \"ticks\": \"\"}}, \"marker\": {\"colorbar\": {\"outlinewidth\": 0, \"ticks\": \"\"}}, \"type\": \"scatter3d\"}], \"scattercarpet\": [{\"marker\": {\"colorbar\": {\"outlinewidth\": 0, \"ticks\": \"\"}}, \"type\": \"scattercarpet\"}], \"scattergeo\": [{\"marker\": {\"colorbar\": {\"outlinewidth\": 0, \"ticks\": \"\"}}, \"type\": \"scattergeo\"}], \"scattergl\": [{\"marker\": {\"colorbar\": {\"outlinewidth\": 0, \"ticks\": \"\"}}, \"type\": \"scattergl\"}], \"scattermapbox\": [{\"marker\": {\"colorbar\": {\"outlinewidth\": 0, \"ticks\": \"\"}}, \"type\": \"scattermapbox\"}], \"scatterpolar\": [{\"marker\": {\"colorbar\": {\"outlinewidth\": 0, \"ticks\": \"\"}}, \"type\": \"scatterpolar\"}], \"scatterpolargl\": [{\"marker\": {\"colorbar\": {\"outlinewidth\": 0, \"ticks\": \"\"}}, \"type\": \"scatterpolargl\"}], \"scatterternary\": [{\"marker\": {\"colorbar\": {\"outlinewidth\": 0, \"ticks\": \"\"}}, \"type\": \"scatterternary\"}], \"surface\": [{\"colorbar\": {\"outlinewidth\": 0, \"ticks\": \"\"}, \"colorscale\": [[0.0, \"#0d0887\"], [0.1111111111111111, \"#46039f\"], [0.2222222222222222, \"#7201a8\"], [0.3333333333333333, \"#9c179e\"], [0.4444444444444444, \"#bd3786\"], [0.5555555555555556, \"#d8576b\"], [0.6666666666666666, \"#ed7953\"], [0.7777777777777778, \"#fb9f3a\"], [0.8888888888888888, \"#fdca26\"], [1.0, \"#f0f921\"]], \"type\": \"surface\"}], \"table\": [{\"cells\": {\"fill\": {\"color\": \"#EBF0F8\"}, \"line\": {\"color\": \"white\"}}, \"header\": {\"fill\": {\"color\": \"#C8D4E3\"}, \"line\": {\"color\": \"white\"}}, \"type\": \"table\"}]}, \"layout\": {\"annotationdefaults\": {\"arrowcolor\": \"#2a3f5f\", \"arrowhead\": 0, \"arrowwidth\": 1}, \"coloraxis\": {\"colorbar\": {\"outlinewidth\": 0, \"ticks\": \"\"}}, \"colorscale\": {\"diverging\": [[0, \"#8e0152\"], [0.1, \"#c51b7d\"], [0.2, \"#de77ae\"], [0.3, \"#f1b6da\"], [0.4, \"#fde0ef\"], [0.5, \"#f7f7f7\"], [0.6, \"#e6f5d0\"], [0.7, \"#b8e186\"], [0.8, \"#7fbc41\"], [0.9, \"#4d9221\"], [1, \"#276419\"]], \"sequential\": [[0.0, \"#0d0887\"], [0.1111111111111111, \"#46039f\"], [0.2222222222222222, \"#7201a8\"], [0.3333333333333333, \"#9c179e\"], [0.4444444444444444, \"#bd3786\"], [0.5555555555555556, \"#d8576b\"], [0.6666666666666666, \"#ed7953\"], [0.7777777777777778, \"#fb9f3a\"], [0.8888888888888888, \"#fdca26\"], [1.0, \"#f0f921\"]], \"sequentialminus\": [[0.0, \"#0d0887\"], [0.1111111111111111, \"#46039f\"], [0.2222222222222222, \"#7201a8\"], [0.3333333333333333, \"#9c179e\"], [0.4444444444444444, \"#bd3786\"], [0.5555555555555556, \"#d8576b\"], [0.6666666666666666, \"#ed7953\"], [0.7777777777777778, \"#fb9f3a\"], [0.8888888888888888, \"#fdca26\"], [1.0, \"#f0f921\"]]}, \"colorway\": [\"#636efa\", \"#EF553B\", \"#00cc96\", \"#ab63fa\", \"#FFA15A\", \"#19d3f3\", \"#FF6692\", \"#B6E880\", \"#FF97FF\", \"#FECB52\"], \"font\": {\"color\": \"#2a3f5f\"}, \"geo\": {\"bgcolor\": \"white\", \"lakecolor\": \"white\", \"landcolor\": \"#E5ECF6\", \"showlakes\": true, \"showland\": true, \"subunitcolor\": \"white\"}, \"hoverlabel\": {\"align\": \"left\"}, \"hovermode\": \"closest\", \"mapbox\": {\"style\": \"light\"}, \"paper_bgcolor\": \"white\", \"plot_bgcolor\": \"#E5ECF6\", \"polar\": {\"angularaxis\": {\"gridcolor\": \"white\", \"linecolor\": \"white\", \"ticks\": \"\"}, \"bgcolor\": \"#E5ECF6\", \"radialaxis\": {\"gridcolor\": \"white\", \"linecolor\": \"white\", \"ticks\": \"\"}}, \"scene\": {\"xaxis\": {\"backgroundcolor\": \"#E5ECF6\", \"gridcolor\": \"white\", \"gridwidth\": 2, \"linecolor\": \"white\", \"showbackground\": true, \"ticks\": \"\", \"zerolinecolor\": \"white\"}, \"yaxis\": {\"backgroundcolor\": \"#E5ECF6\", \"gridcolor\": \"white\", \"gridwidth\": 2, \"linecolor\": \"white\", \"showbackground\": true, \"ticks\": \"\", \"zerolinecolor\": \"white\"}, \"zaxis\": {\"backgroundcolor\": \"#E5ECF6\", \"gridcolor\": \"white\", \"gridwidth\": 2, \"linecolor\": \"white\", \"showbackground\": true, \"ticks\": \"\", \"zerolinecolor\": \"white\"}}, \"shapedefaults\": {\"line\": {\"color\": \"#2a3f5f\"}}, \"ternary\": {\"aaxis\": {\"gridcolor\": \"white\", \"linecolor\": \"white\", \"ticks\": \"\"}, \"baxis\": {\"gridcolor\": \"white\", \"linecolor\": \"white\", \"ticks\": \"\"}, \"bgcolor\": \"#E5ECF6\", \"caxis\": {\"gridcolor\": \"white\", \"linecolor\": \"white\", \"ticks\": \"\"}}, \"title\": {\"x\": 0.05}, \"xaxis\": {\"automargin\": true, \"gridcolor\": \"white\", \"linecolor\": \"white\", \"ticks\": \"\", \"title\": {\"standoff\": 15}, \"zerolinecolor\": \"white\", \"zerolinewidth\": 2}, \"yaxis\": {\"automargin\": true, \"gridcolor\": \"white\", \"linecolor\": \"white\", \"ticks\": \"\", \"title\": {\"standoff\": 15}, \"zerolinecolor\": \"white\", \"zerolinewidth\": 2}}}},\n",
       "                        {\"responsive\": true}\n",
       "                    ).then(function(){\n",
       "                            \n",
       "var gd = document.getElementById('3b35db64-f1f9-4396-8a44-676ee4651948');\n",
       "var x = new MutationObserver(function (mutations, observer) {{\n",
       "        var display = window.getComputedStyle(gd).display;\n",
       "        if (!display || display === 'none') {{\n",
       "            console.log([gd, 'removed!']);\n",
       "            Plotly.purge(gd);\n",
       "            observer.disconnect();\n",
       "        }}\n",
       "}});\n",
       "\n",
       "// Listen for the removal of the full notebook cells\n",
       "var notebookContainer = gd.closest('#notebook-container');\n",
       "if (notebookContainer) {{\n",
       "    x.observe(notebookContainer, {childList: true});\n",
       "}}\n",
       "\n",
       "// Listen for the clearing of the current output cell\n",
       "var outputEl = gd.closest('.output');\n",
       "if (outputEl) {{\n",
       "    x.observe(outputEl, {childList: true});\n",
       "}}\n",
       "\n",
       "                        })\n",
       "                };\n",
       "                });\n",
       "            </script>\n",
       "        </div>"
      ]
     },
     "metadata": {},
     "output_type": "display_data"
    }
   ],
   "source": [
    "# Draw reason-purpose diagram \n",
    "import plotly.graph_objects as go\n",
    "\n",
    "color = df.reason_purpose;\n",
    "\n",
    "\n",
    "fig = go.Figure(data = [go.Parcats(\n",
    "        dimensions=[\n",
    "        {'label': 'Reason',\n",
    "         'values': df['Reason']},\n",
    "        {'label': 'Purpose',\n",
    "         'values': df['Purpose']}],\n",
    "        line={'shape': 'hspline',\n",
    "              'color' : color ,'colorscale' : 'gray', 'reversescale' : True, 'showscale': True, \n",
    "              'colorbar': {'thickness': 10, 'x': 1.5, 'len': 0.7}},\n",
    "        hoveron='color', hoverinfo='count+probability',\n",
    "        labelfont={'size': 14, 'family': 'Times'},\n",
    "        tickfont={'size': 12, 'family': 'Times'},\n",
    "\n",
    "        arrangement='freeform')])\n",
    "\n",
    "fig.update_layout(\n",
    "    margin=dict(\n",
    "        l=150,\n",
    "        r=150,\n",
    "        b=10,\n",
    "        t=20,\n",
    "        pad=0\n",
    "    )\n",
    ")\n",
    "\n",
    "fig.show()"
   ]
  },
  {
   "cell_type": "code",
   "execution_count": null,
   "metadata": {},
   "outputs": [],
   "source": []
  }
 ],
 "metadata": {
  "kernelspec": {
   "display_name": "Python 3",
   "language": "python",
   "name": "python3"
  },
  "language_info": {
   "codemirror_mode": {
    "name": "ipython",
    "version": 3
   },
   "file_extension": ".py",
   "mimetype": "text/x-python",
   "name": "python",
   "nbconvert_exporter": "python",
   "pygments_lexer": "ipython3",
   "version": "3.7.6"
  }
 },
 "nbformat": 4,
 "nbformat_minor": 4
}
